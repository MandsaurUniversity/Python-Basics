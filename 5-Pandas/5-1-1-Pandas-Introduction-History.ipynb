{
 "cells": [
  {
   "cell_type": "markdown",
   "id": "864f298c-1528-4491-acd9-c00bdc2b43b1",
   "metadata": {},
   "source": [
    "___\n",
    "\n",
    "<p align=\"center\"><center><a href='https://github.com/MandsaurUniversity/'><img src='../MU_Logo.png'/></a></center></p>\n",
    "<p align=\"center\"><center><strong>Mandsaur University</strong><center></p>\n",
    "\n",
    "___"
   ]
  },
  {
   "attachments": {},
   "cell_type": "markdown",
   "id": "9b56ab5b-b66a-4b46-b97a-524fca196088",
   "metadata": {},
   "source": [
    "# Pandas\n",
    "\n",
    "## Introduction to Pandas:\n",
    "\n",
    "### Definition\n",
    "\n",
    "Pandas is an open-source Python library used for data manipulation and analysis. It provides data structures like Series and DataFrame for efficient data handling and cleaning. Pandas is particularly useful when working with structured data and is widely used in data science, machine learning, and data analytics.\n",
    "\n",
    "**Pandas is built on top of NumPy**\n",
    "\n",
    "**_NumPy:_** `` NumPy, which stands for Numerical Python, is an open-source numerical computing library for the Python programming language. It provides support for large, multi-dimensional arrays and matrices, along with a collection of mathematical functions to operate on these elements. NumPy is a fundamental package for scientific computing with Python and is widely used in areas such as machine learning, data analysis, signal processing, and more. ``\n",
    "\n",
    "- Data manipulation and analysis, focused on tabular and time series data\n",
    "    - arrays with rows and columns\n",
    "    - but uses labels to identify rows and columns\n",
    "        - in addition to positional indices\n",
    "    - columns in the same array can have different data types\n",
    "        - whereas NumPy arrays have homogenous datatpyes\n",
    "\n",
    "## History\n",
    "\n",
    "Pandas was developed by Wes McKinney and first released in 2008. It originated from the need for a flexible and powerful tool to perform data analysis and manipulation in Python. Over the years, Pandas has become a fundamental library in the Python ecosystem for working with tabular data.\n",
    "\n",
    "## Advantages\n",
    "\n",
    "1. **Data Structures:** Pandas introduces two primary data structures, Series and DataFrame, which are highly efficient for data manipulation tasks.\n",
    "\n",
    "2. **Data Cleaning:** It provides functions to handle missing data and filter or transform data easily.\n",
    "\n",
    "3. **Flexible Data Handling:** Pandas can handle various types of data, including time-series data, structured data, and more.\n",
    "\n",
    "4. **Integration with Other Libraries:** It integrates well with other libraries such as NumPy, Scikit-learn, and Matplotlib.\n",
    "\n",
    "5. **Data Alignment:** Pandas aligns data automatically, making it easy to work with datasets where indices might not match.\n",
    "\n",
    "6. **Wide Range of Operations:** Supports various operations like groupby, merge, and pivot, making it versatile for data manipulation tasks.\n",
    "\n",
    "# Key objects in Pandas\n",
    "\n",
    "Some key objects that we are going to look at in the Pandas library are:\n",
    "\n",
    "- **Series:**\n",
    "    - 1-dimensional\n",
    "- **DataFrame:**\n",
    "    - 2-dimensional\n",
    "    - a collection of `Series` objects\n",
    "- **Index:**\n",
    "    - used to index `Series` and `DataFrame` object\n",
    "        - one of the key differences between Pandas and NumPy\n",
    "        - NumPy array elements are indexed (implicitly) by position\n",
    "        - in Pandas we can assign our own (explicit) labels\n"
   ]
  }
 ],
 "metadata": {
  "kernelspec": {
   "display_name": "Python 3 (ipykernel)",
   "language": "python",
   "name": "python3"
  },
  "language_info": {
   "codemirror_mode": {
    "name": "ipython",
    "version": 3
   },
   "file_extension": ".py",
   "mimetype": "text/x-python",
   "name": "python",
   "nbconvert_exporter": "python",
   "pygments_lexer": "ipython3",
   "version": "3.11.4"
  }
 },
 "nbformat": 4,
 "nbformat_minor": 5
}
