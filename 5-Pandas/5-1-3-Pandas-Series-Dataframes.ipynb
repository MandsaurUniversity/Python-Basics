{
 "cells": [
  {
   "cell_type": "markdown",
   "id": "864f298c-1528-4491-acd9-c00bdc2b43b1",
   "metadata": {},
   "source": [
    "___\n",
    "\n",
    "<p align=\"center\"><center><a href='https://github.com/MandsaurUniversity/'><img src='../MU_Logo.png'/></a></center></p>\n",
    "<p align=\"center\"><center><strong>Mandsaur University</strong><center></p>\n",
    "\n",
    "___"
   ]
  },
  {
   "cell_type": "markdown",
   "id": "89ab0e2a-51f6-49b0-8132-5cab41901852",
   "metadata": {},
   "source": [
    "## Series\n",
    "\n",
    "**Definition:** A Series is a one-dimensional labeled array capable of holding any data type. It is similar to a column in a spreadsheet or a single column in a DataFrame.\n",
    "\n",
    "**Example:**\n",
    "```python\n",
    "import pandas as pd\n",
    "\n",
    "# Creating a Series\n",
    "s = pd.Series([1, 3, 5, np.nan, 6, 8])\n",
    "print(s)\n",
    "```\n",
    "\n",
    "This creates a simple Series with numeric values. The Series has an index (0, 1, 2, 3, 4, 5) by default.\n",
    "\n"
   ]
  },
  {
   "cell_type": "markdown",
   "id": "c09808e2-c63f-47cd-80ef-f933e7df88fd",
   "metadata": {},
   "source": [
    "## DataFrame\n",
    "\n",
    "**Definition:** A DataFrame is a two-dimensional labeled data structure with columns that can be of different types. It is similar to a spreadsheet or SQL table, where data can be stored in rows and columns.\n",
    "\n",
    "**Example:**\n",
    "```python\n",
    "import pandas as pd\n",
    "\n",
    "# Creating a DataFrame\n",
    "df = pd.DataFrame({\n",
    "    'Name': ['Alice', 'Bob', 'Charlie'],\n",
    "    'Age': [25, 30, 35]\n",
    "})\n",
    "print(df)\n",
    "```\n",
    "\n",
    "This creates a DataFrame with two columns, 'Name' and 'Age'. Each column is a Series, and the DataFrame has an index (0, 1, 2) by default.\n"
   ]
  },
  {
   "cell_type": "markdown",
   "id": "399a9bf5-2e1a-47c1-85b2-f3f454f23f47",
   "metadata": {},
   "source": [
    "## Using Multilevel Series\n",
    "\n",
    "**Definition:** A multilevel series is a Series with a hierarchical index, allowing for more complex data representation. It is essentially a Series with multiple levels of indices.\n",
    "\n",
    "**Example:**\n",
    "```python\n",
    "import pandas as pd\n",
    "\n",
    "# Creating a multilevel Series\n",
    "arrays = [np.array(['A', 'A', 'B', 'B']),\n",
    "          np.array([1, 2, 1, 2])]\n",
    "s = pd.Series([10, 20, 30, 40], index=arrays)\n",
    "print(s)\n",
    "```\n",
    "\n",
    "This creates a Series with a hierarchical index where the levels are 'A' and 'B', and sub-levels are 1 and 2.\n",
    "\n",
    "These foundational concepts lay the groundwork for efficient and powerful data manipulation in Pandas. They are essential for anyone working with tabular data in Python, particularly in data science and analysis."
   ]
  }
 ],
 "metadata": {
  "kernelspec": {
   "display_name": "Python 3 (ipykernel)",
   "language": "python",
   "name": "python3"
  },
  "language_info": {
   "codemirror_mode": {
    "name": "ipython",
    "version": 3
   },
   "file_extension": ".py",
   "mimetype": "text/x-python",
   "name": "python",
   "nbconvert_exporter": "python",
   "pygments_lexer": "ipython3",
   "version": "3.11.4"
  }
 },
 "nbformat": 4,
 "nbformat_minor": 5
}
