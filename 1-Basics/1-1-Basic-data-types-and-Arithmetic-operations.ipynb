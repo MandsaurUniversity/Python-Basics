{
 "cells": [
  {
   "cell_type": "markdown",
   "id": "a3d63cc9",
   "metadata": {},
   "source": [
    "___\n",
    "\n",
    "<center><a href='https://github.com/MandsaurUniversity/'><img src='../MU_Logo.png'/></a></center>\n",
    "<center><strong>Mandsaur University</strong></center>\n",
    "\n",
    "___"
   ]
  },
  {
   "cell_type": "markdown",
   "id": "21068619",
   "metadata": {},
   "source": [
    "# Basic Data Types\n",
    "\n",
    "In this section, we are going to discuss basic data types in Python and how to use them.\n",
    "\n",
    "These are your basic building blocks when constructing larger pieces of code.\n",
    "\n",
    "## Data types in Python\n",
    "\n",
    "| Name | Type | Description |\n",
    "| :--- | :--------- | :--- |\n",
    "| Integers | _**int**_ | Whole numbers, such as: `3` `300` `200` |\n",
    "| Floating point| _**float**_ | Numbers with a decimal point: `2.3` `4.6` `100.0` |\n",
    "| Strings | _**str**_ | Ordered sequence of characters: `\"earth\"` `'Rahul'` `\"5000\"` |\n",
    "| Booleans | _**bool**_ | Logical value which indicates `True` or `False` |\n",
    "| Lists | _**list**_ | Ordered sequence of objects: `[5,\"Hi\",105.25]` |\n",
    "| Tuples | _**tup**_ | Ordered immutable sequence of objects: `(5,\"Hello\",150.25)` |\n",
    "| Dictionaries | _**dict**_ | Unordered Key:Value pairs: `{\"key\":\"value\",\"name\":\"Rahul\"}` |\n",
    "| Sets | _**set**_ | Unordered collection of unique objects: `{\"x\",\"q\",\"y\"}` |\n",
    "\n"
   ]
  },
  {
   "cell_type": "markdown",
   "id": "72e095be-b2eb-4d96-8b17-31e4bbec07cf",
   "metadata": {},
   "source": [
    "## Types of numbers in Python and some basic arithmetic operations on them\n",
    "\n",
    "Python provides us with two basic \"types\" of numbers (numeric literals) and these are integers and floating point numbers.\n",
    "\n",
    "Integers are whole numbers which could be positive or negative. For example: 5 and -5 are both examples of integers in Python.\n",
    "\n",
    "Floating point numbers in Python are those numeric literals that have a decimal point in them, or use an exponential (e) to define the number. For example 1.0 and -1.5 are examples of floating point numbers. 5E2 (5 times 10 to the power of 2) is also an example of a floating point number in Python.\n",
    "\n",
    "Here are the two main types of number literals in Python:\n",
    "\n",
    "| Number 'type' | Example |\n",
    "| --- | --- |\n",
    "| Integers | `2` `5` `-10` `5000` |\t\n",
    "| Floating-point numbers | `1.5` `-0.5` `5E4` |\n",
    "\r\n"
   ]
  },
  {
   "cell_type": "markdown",
   "id": "18b466d9-9daf-436b-907f-dd2edd7963a6",
   "metadata": {},
   "source": [
    "### Basic Arithmetic Operations\n",
    "Now, let us do some basic arithmetic operationgs on numbers."
   ]
  },
  {
   "cell_type": "code",
   "execution_count": 1,
   "id": "9c454fb2-d2cc-4403-bee8-ca3cad2a5c1d",
   "metadata": {},
   "outputs": [
    {
     "data": {
      "text/plain": [
       "8"
      ]
     },
     "execution_count": 1,
     "metadata": {},
     "output_type": "execute_result"
    }
   ],
   "source": [
    "# Addition\n",
    "3+5"
   ]
  },
  {
   "cell_type": "code",
   "execution_count": 2,
   "id": "fac97d38-d409-4ca6-92bc-1ecd993051e3",
   "metadata": {},
   "outputs": [
    {
     "data": {
      "text/plain": [
       "3"
      ]
     },
     "execution_count": 2,
     "metadata": {},
     "output_type": "execute_result"
    }
   ],
   "source": [
    "# Subtraction\n",
    "9-6"
   ]
  },
  {
   "cell_type": "code",
   "execution_count": 3,
   "id": "448f0fd2-5d24-4854-8939-dd37b57a6a61",
   "metadata": {},
   "outputs": [
    {
     "data": {
      "text/plain": [
       "12"
      ]
     },
     "execution_count": 3,
     "metadata": {},
     "output_type": "execute_result"
    }
   ],
   "source": [
    "# Multiplication\n",
    "6*2"
   ]
  },
  {
   "cell_type": "code",
   "execution_count": 4,
   "id": "ff9763d4-a574-4a72-9d5a-c3862d82d291",
   "metadata": {},
   "outputs": [
    {
     "data": {
      "text/plain": [
       "2.5"
      ]
     },
     "execution_count": 4,
     "metadata": {},
     "output_type": "execute_result"
    }
   ],
   "source": [
    "# Division\n",
    "5/2"
   ]
  },
  {
   "cell_type": "markdown",
   "id": "e68decd7-c94c-436c-99f3-d9e32d693504",
   "metadata": {},
   "source": [
    "So far we've seen the four basic arithmetic operations on numbers\n",
    "\n",
    "__But what if we only want the quotient part of a division?__"
   ]
  },
  {
   "cell_type": "code",
   "execution_count": 6,
   "id": "0babe1d6-cb43-425a-bbf9-e8cbf8ef4bd0",
   "metadata": {},
   "outputs": [
    {
     "data": {
      "text/plain": [
       "3"
      ]
     },
     "execution_count": 6,
     "metadata": {},
     "output_type": "execute_result"
    }
   ],
   "source": [
    "# Floor Division\n",
    "7//2"
   ]
  },
  {
   "cell_type": "markdown",
   "id": "c49c9037-8ae7-42be-808a-d0ce3d2e3389",
   "metadata": {},
   "source": [
    "Hence by using floor division operator ( `//` ) we can get the quotient part of the division. The `//` operator (two forward slashes) trucates the decimal part of the result without rounding it off and returns an integer as result.\n",
    "\n",
    "Now a question arise:\n",
    "\n",
    "__How do we get just the remainder after division operation?__"
   ]
  },
  {
   "cell_type": "code",
   "execution_count": 8,
   "id": "192db06b-5d2a-4115-94c9-eb605f2ac446",
   "metadata": {},
   "outputs": [
    {
     "data": {
      "text/plain": [
       "3"
      ]
     },
     "execution_count": 8,
     "metadata": {},
     "output_type": "execute_result"
    }
   ],
   "source": [
    "# Modulus\n",
    "7//2"
   ]
  },
  {
   "cell_type": "markdown",
   "id": "eb6f9a47-4167-4d4c-b36d-e0ddebbe30cf",
   "metadata": {},
   "source": [
    "As we can see above, sing the __%__ operator, we get the remainder after division.\n",
    "\n",
    "### Some other Arithmetic operations:"
   ]
  },
  {
   "cell_type": "code",
   "execution_count": 13,
   "id": "13d4a583-dbf4-42eb-99d4-e395277f7d80",
   "metadata": {},
   "outputs": [
    {
     "data": {
      "text/plain": [
       "16"
      ]
     },
     "execution_count": 13,
     "metadata": {},
     "output_type": "execute_result"
    }
   ],
   "source": [
    "# Power (2 to the power of 3)\n",
    "2**4"
   ]
  },
  {
   "cell_type": "code",
   "execution_count": 12,
   "id": "846cb272-cda5-4530-9cdb-f64ac45803b0",
   "metadata": {},
   "outputs": [
    {
     "data": {
      "text/plain": [
       "8.0"
      ]
     },
     "execution_count": 12,
     "metadata": {},
     "output_type": "execute_result"
    }
   ],
   "source": [
    "# It can also be used in calculating roots like this:\n",
    "64**0.5"
   ]
  },
  {
   "cell_type": "markdown",
   "id": "9fb4227b-3005-40ba-88e9-3d6fae0099af",
   "metadata": {},
   "source": [
    "### Order of operations followed in Python\n",
    "Python follows basic BODMAS rule while doing arithmetic operations by default:"
   ]
  },
  {
   "cell_type": "code",
   "execution_count": 14,
   "id": "c3c53ef5-effd-499e-b2c2-05a021beded8",
   "metadata": {},
   "outputs": [
    {
     "data": {
      "text/plain": [
       "29"
      ]
     },
     "execution_count": 14,
     "metadata": {},
     "output_type": "execute_result"
    }
   ],
   "source": [
    "5 + 2 * 10 + 4"
   ]
  },
  {
   "cell_type": "markdown",
   "id": "a0293cd4-edd5-4885-992f-e24e44087961",
   "metadata": {},
   "source": [
    "__We can specify order of operations using parenthesis:__"
   ]
  },
  {
   "cell_type": "code",
   "execution_count": 16,
   "id": "33acb0e3-9ba8-4278-9310-d3aee74e36e8",
   "metadata": {},
   "outputs": [
    {
     "data": {
      "text/plain": [
       "98"
      ]
     },
     "execution_count": 16,
     "metadata": {},
     "output_type": "execute_result"
    }
   ],
   "source": [
    "(5 + 2) * (10 + 4)"
   ]
  },
  {
   "cell_type": "markdown",
   "id": "44c1ff64-5d78-4406-9a9b-7be0ea45137e",
   "metadata": {},
   "source": [
    "__Question:__ Why is 0.5 + 0.2 - 0.6 not equal to 0.1 ?"
   ]
  },
  {
   "cell_type": "code",
   "execution_count": 21,
   "id": "f985cf4d-c89e-493f-8b79-ea6e355a49ae",
   "metadata": {},
   "outputs": [
    {
     "data": {
      "text/plain": [
       "0.09999999999999998"
      ]
     },
     "execution_count": 21,
     "metadata": {},
     "output_type": "execute_result"
    }
   ],
   "source": [
    "0.5 + 0.2 - 0.6"
   ]
  },
  {
   "cell_type": "markdown",
   "id": "a2445381-81e3-4622-9f13-407d413dd74a",
   "metadata": {},
   "source": [
    "This is due to issues with floating point accuracy and computer's abilities to represent numbers in memory.\n",
    "\n",
    "You can read more about it here: https://docs.python.org/3/tutorial/floatingpoint.html\n",
    "\n",
    "Next, we'll learn how to create variables and give them a name in our next notebook."
   ]
  }
 ],
 "metadata": {
  "kernelspec": {
   "display_name": "Python 3 (ipykernel)",
   "language": "python",
   "name": "python3"
  },
  "language_info": {
   "codemirror_mode": {
    "name": "ipython",
    "version": 3
   },
   "file_extension": ".py",
   "mimetype": "text/x-python",
   "name": "python",
   "nbconvert_exporter": "python",
   "pygments_lexer": "ipython3",
   "version": "3.11.4"
  }
 },
 "nbformat": 4,
 "nbformat_minor": 5
}
