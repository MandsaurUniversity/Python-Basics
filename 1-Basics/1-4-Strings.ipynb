{
 "cells": [
  {
   "cell_type": "markdown",
   "id": "747dacf1-a3aa-4887-991d-c2c268994e76",
   "metadata": {},
   "source": [
    "___\n",
    "\n",
    "<center><a href='https://github.com/MandsaurUniversity/'><img src='../MU_Logo.png'/></a></center>\n",
    "<br />\n",
    "<center><strong>Mandsaur University</strong></center>\n",
    "\n",
    "___"
   ]
  },
  {
   "cell_type": "markdown",
   "id": "ececf3c3-6703-4bf5-a521-be06a05cf2d6",
   "metadata": {},
   "source": [
    "# Strings\n",
    "\n",
    "Strings are sequences of characters enclosed in single or double quotes, e.g., `\"Hello, World!\"`. \n",
    "\n",
    "This basically means Python keeps track for each and every character in the string as a sequence.\n",
    "\n",
    "Strings are used in Python to record text information, such as addresses, names, title, etc.\n",
    "\n",
    "Taking the example of the string mentioned above, \"Hello World!\", Pthon interprets this string to be a sequence of characters in a specific order. Hence we can use indexing to pick particular letters from this string.\n",
    "\n",
    "## Creating a String\n",
    "\n",
    "We can create a string in Python using either single quotes or double quotes. For example:"
   ]
  },
  {
   "cell_type": "code",
   "execution_count": 13,
   "id": "f1ec2b6e-1eda-4755-912e-247857aa7d2a",
   "metadata": {},
   "outputs": [
    {
     "data": {
      "text/plain": [
       "'apple'"
      ]
     },
     "execution_count": 13,
     "metadata": {},
     "output_type": "execute_result"
    }
   ],
   "source": [
    "# Creating a string having a single word, using single quotes\n",
    "'apple'"
   ]
  },
  {
   "cell_type": "code",
   "execution_count": 14,
   "id": "75257d4f-ecae-46c1-89e6-fcd4ca1a77a3",
   "metadata": {},
   "outputs": [
    {
     "data": {
      "text/plain": [
       "'The sky is blue'"
      ]
     },
     "execution_count": 14,
     "metadata": {},
     "output_type": "execute_result"
    }
   ],
   "source": [
    "# Creating a string containing multiple words and using double quotes:\n",
    "\"The sky is blue\""
   ]
  },
  {
   "cell_type": "markdown",
   "id": "3199bb6a-7e4d-4c0e-90e3-27e6838c1258",
   "metadata": {
    "scrolled": true
   },
   "source": [
    "### One important note\n",
    "\n",
    "Some strings may contain quotes inside them, for example: `I'm writing Python code`\n",
    "\n",
    "So if we write above string in single quotes, it will look like this: `'I'm writing Python code'` correct? But this will cause an error:"
   ]
  },
  {
   "cell_type": "code",
   "execution_count": 15,
   "id": "53db7fa4-961e-4ffa-af0d-cba9c8d992d4",
   "metadata": {},
   "outputs": [
    {
     "ename": "SyntaxError",
     "evalue": "unterminated string literal (detected at line 2) (1687061765.py, line 2)",
     "output_type": "error",
     "traceback": [
      "\u001b[1;36m  Cell \u001b[1;32mIn[15], line 2\u001b[1;36m\u001b[0m\n\u001b[1;33m    ' I'm writing Python code'\u001b[0m\n\u001b[1;37m                             ^\u001b[0m\n\u001b[1;31mSyntaxError\u001b[0m\u001b[1;31m:\u001b[0m unterminated string literal (detected at line 2)\n"
     ]
    }
   ],
   "source": [
    "# Error, due to single quote enclosure\n",
    "' I'm writing Python code'"
   ]
  },
  {
   "cell_type": "markdown",
   "id": "c1f3ee01-5979-47af-8f67-74af5ffd3e0b",
   "metadata": {},
   "source": [
    "In order to solve this error, we can use combinations of single and double quires to get the statement right:"
   ]
  },
  {
   "cell_type": "code",
   "execution_count": 16,
   "id": "4a11ee62-34fe-4709-9bb7-b15772d3c107",
   "metadata": {},
   "outputs": [
    {
     "data": {
      "text/plain": [
       "\"I'm writing Python code\""
      ]
     },
     "execution_count": 16,
     "metadata": {},
     "output_type": "execute_result"
    }
   ],
   "source": [
    "# Using combination of single and double quotes to form the same string\n",
    "\"I'm writing Python code\""
   ]
  },
  {
   "cell_type": "markdown",
   "id": "8e4d40d9-6baf-4eb6-912c-a89d56fc4ec4",
   "metadata": {},
   "source": [
    "## Printing a String\n",
    "\n",
    "To print a string, we can use a print function like this:"
   ]
  },
  {
   "cell_type": "code",
   "execution_count": 17,
   "id": "e9b07217-751c-467e-92ff-2707f7e55025",
   "metadata": {},
   "outputs": [
    {
     "name": "stdout",
     "output_type": "stream",
     "text": [
      "I'm writing Python code\n",
      "Hello World\n",
      "This will be printed on one line\n",
      " and this goes to a new line\n"
     ]
    }
   ],
   "source": [
    "print(\"I'm writing Python code\")\n",
    "print(\"Hello World\")\n",
    "print(\"This will be printed on one line\\n and this goes to a new line\")"
   ]
  },
  {
   "cell_type": "markdown",
   "id": "c46954d9-32f5-4c52-ae17-fbd8347964e8",
   "metadata": {},
   "source": [
    "Have you noticed above? the `\\n` literal can be used to break the string and put the remaining sring on a new line."
   ]
  },
  {
   "cell_type": "markdown",
   "id": "cc381936-c984-4651-a9ab-288175016c75",
   "metadata": {},
   "source": [
    "## String Indexing\n",
    "\n",
    "As we have mentioned above that the strings are sequence of elements, we can traverse through its indexes to see what is stored at a particular location in the string.\n",
    "\n",
    "For this Python uses square brackets `[]` after a string object to call its index.\n",
    "\n",
    "Indexes in Python starts with `0` so the first element in a string is located at index position `0`. Let's understand this with a string object:"
   ]
  },
  {
   "cell_type": "code",
   "execution_count": 35,
   "id": "3286a142-898a-485f-a843-f4b70f1b48eb",
   "metadata": {},
   "outputs": [
    {
     "data": {
      "text/plain": [
       "'Hello World'"
      ]
     },
     "execution_count": 35,
     "metadata": {},
     "output_type": "execute_result"
    }
   ],
   "source": [
    "# Creating a string named my_string\n",
    "my_string = \"Hello World\"\n",
    "\n",
    "# Printing my_string\n",
    "my_string"
   ]
  },
  {
   "cell_type": "markdown",
   "id": "4cfe2935-1ad6-47a4-869f-637495654a21",
   "metadata": {},
   "source": [
    "#### Now let's use index positions for traversing through it!"
   ]
  },
  {
   "cell_type": "code",
   "execution_count": 19,
   "id": "1431aa7d-68b9-4b47-ad6d-71c9e8c92bdf",
   "metadata": {},
   "outputs": [
    {
     "name": "stdout",
     "output_type": "stream",
     "text": [
      "H\n"
     ]
    }
   ],
   "source": [
    "# Show the first element of my_string\n",
    "print( my_string[0] )"
   ]
  },
  {
   "cell_type": "code",
   "execution_count": 20,
   "id": "662c56de-acec-4265-a5bf-431acd9b8561",
   "metadata": {},
   "outputs": [
    {
     "data": {
      "text/plain": [
       "'e'"
      ]
     },
     "execution_count": 20,
     "metadata": {},
     "output_type": "execute_result"
    }
   ],
   "source": [
    "# Similarly, show second element of this string\n",
    "my_string[1]"
   ]
  },
  {
   "cell_type": "code",
   "execution_count": 21,
   "id": "fecfe4db-ee40-45ae-87e5-70f8152045f5",
   "metadata": {},
   "outputs": [
    {
     "data": {
      "text/plain": [
       "'l'"
      ]
     },
     "execution_count": 21,
     "metadata": {},
     "output_type": "execute_result"
    }
   ],
   "source": [
    "# Similarly, show the third element of this string\n",
    "my_string[2]"
   ]
  },
  {
   "cell_type": "markdown",
   "id": "f92914c9-ff74-4990-bc11-3373cf983e9b",
   "metadata": {},
   "source": [
    "#### We can use `:` (colon) to perform string _slicing_ in different ways:"
   ]
  },
  {
   "cell_type": "code",
   "execution_count": 22,
   "id": "74a60503-5097-40fd-a93a-a94418a28fcb",
   "metadata": {},
   "outputs": [
    {
     "data": {
      "text/plain": [
       "'ello World'"
      ]
     },
     "execution_count": 22,
     "metadata": {},
     "output_type": "execute_result"
    }
   ],
   "source": [
    "# Show everything after the first element of `my_string` up till the length of `my_string`\n",
    "my_string[1:]"
   ]
  },
  {
   "cell_type": "code",
   "execution_count": 38,
   "id": "a1b61fb0-ce0e-4a6c-9f00-3fe069826e91",
   "metadata": {},
   "outputs": [
    {
     "data": {
      "text/plain": [
       "'Hel'"
      ]
     },
     "execution_count": 38,
     "metadata": {},
     "output_type": "execute_result"
    }
   ],
   "source": [
    "# Show everything up to the third index\n",
    "my_string[:3]"
   ]
  },
  {
   "cell_type": "code",
   "execution_count": 37,
   "id": "9c1a4f50-35a9-4b9a-a90b-1f92b409a32c",
   "metadata": {},
   "outputs": [
    {
     "data": {
      "text/plain": [
       "'Hello World'"
      ]
     },
     "execution_count": 37,
     "metadata": {},
     "output_type": "execute_result"
    }
   ],
   "source": [
    "# Show everything\n",
    "my_string[:]"
   ]
  },
  {
   "cell_type": "markdown",
   "id": "c393adb3-f156-4aa4-916a-25040a71ab84",
   "metadata": {},
   "source": [
    "In order to go backwards, we can use negative indexing like this:"
   ]
  },
  {
   "cell_type": "code",
   "execution_count": 39,
   "id": "8c77a2a9-4e75-40b4-a8d8-ab07235eca7e",
   "metadata": {},
   "outputs": [
    {
     "data": {
      "text/plain": [
       "'d'"
      ]
     },
     "execution_count": 39,
     "metadata": {},
     "output_type": "execute_result"
    }
   ],
   "source": [
    "# Only show the last element (letter) from the string:\n",
    "my_string[-1]"
   ]
  },
  {
   "cell_type": "markdown",
   "id": "91a51289-7c86-43ec-a945-7e2681b6f348",
   "metadata": {},
   "source": [
    "In the above example, it goes one index behind [0]. That means it _**loops back around**_ and fetches the last letter.\n",
    "\n",
    "Similarly, we can also use this negative indexing to show the whole string but the last letter:"
   ]
  },
  {
   "cell_type": "code",
   "execution_count": 40,
   "id": "f5887980-e8bb-4200-a039-4b960a18a9ad",
   "metadata": {},
   "outputs": [
    {
     "data": {
      "text/plain": [
       "'Hello Worl'"
      ]
     },
     "execution_count": 40,
     "metadata": {},
     "output_type": "execute_result"
    }
   ],
   "source": [
    "# Showing everything from `my_string` except the last letter:\n",
    "my_string[:-1]"
   ]
  },
  {
   "cell_type": "markdown",
   "id": "b3ad09c6-c3ed-4fef-88ee-5161140c0a5c",
   "metadata": {},
   "source": [
    "**Note:** The original string `my_string` will not change whie performing these slicing operations until we save the sliced value back in the string like this:"
   ]
  },
  {
   "cell_type": "code",
   "execution_count": 25,
   "id": "36a59e73-9e2c-47d6-b61b-dd9819ca489e",
   "metadata": {},
   "outputs": [
    {
     "data": {
      "text/plain": [
       "'Hello World'"
      ]
     },
     "execution_count": 25,
     "metadata": {},
     "output_type": "execute_result"
    }
   ],
   "source": [
    "# Check the value of my_string as of now:\n",
    "my_string"
   ]
  },
  {
   "cell_type": "code",
   "execution_count": 30,
   "id": "e262893b-2cfe-4a74-9054-2cc7ea544a84",
   "metadata": {},
   "outputs": [
    {
     "data": {
      "text/plain": [
       "'ello World'"
      ]
     },
     "execution_count": 30,
     "metadata": {},
     "output_type": "execute_result"
    }
   ],
   "source": [
    "# Slicing the first letter from the string and storing it back:\n",
    "my_string = my_string[1:]\n",
    "\n",
    "# Displaying my_string again:\n",
    "my_string"
   ]
  },
  {
   "cell_type": "code",
   "execution_count": 32,
   "id": "577496ac-df60-4b9f-a02f-d39b3f83f355",
   "metadata": {},
   "outputs": [
    {
     "data": {
      "text/plain": [
       "'ello World'"
      ]
     },
     "execution_count": 32,
     "metadata": {},
     "output_type": "execute_result"
    }
   ],
   "source": [
    "# And once again...\n",
    "my_string"
   ]
  },
  {
   "cell_type": "markdown",
   "id": "bf87ed3b-deee-4a83-94cc-aed3f7839062",
   "metadata": {},
   "source": [
    "_Note that the `my_string` has now got this new value when we assigned `my_string[1:]` to it._"
   ]
  },
  {
   "cell_type": "markdown",
   "id": "c93c024d-44e2-41bf-a4a2-9ce3fda08449",
   "metadata": {},
   "source": [
    "## String Properties\n",
    "\n",
    "### Immutability:\n",
    "\n",
    "Strings are **immutable**, which means that the elements (or characters) within it can not be changed or replaced once the string is created."
   ]
  },
  {
   "cell_type": "code",
   "execution_count": 61,
   "id": "6603bc79-b19d-40e7-9a5e-612c55fcf58e",
   "metadata": {},
   "outputs": [
    {
     "data": {
      "text/plain": [
       "'This is a string'"
      ]
     },
     "execution_count": 61,
     "metadata": {},
     "output_type": "execute_result"
    }
   ],
   "source": [
    "# Let's create a new string:\n",
    "another_string = 'This is a string'\n",
    "\n",
    "# And print that string:\n",
    "another_string"
   ]
  },
  {
   "cell_type": "code",
   "execution_count": 45,
   "id": "164f1134-1523-4cd7-ad7b-59f97f3b21c3",
   "metadata": {},
   "outputs": [
    {
     "ename": "TypeError",
     "evalue": "'str' object does not support item assignment",
     "output_type": "error",
     "traceback": [
      "\u001b[1;31m---------------------------------------------------------------------------\u001b[0m",
      "\u001b[1;31mTypeError\u001b[0m                                 Traceback (most recent call last)",
      "Cell \u001b[1;32mIn[45], line 2\u001b[0m\n\u001b[0;32m      1\u001b[0m \u001b[38;5;66;03m# Let's try to update this string by changing its first letter to 'P' by reassigning [0] index location:\u001b[39;00m\n\u001b[1;32m----> 2\u001b[0m \u001b[43manother_string\u001b[49m\u001b[43m[\u001b[49m\u001b[38;5;241;43m0\u001b[39;49m\u001b[43m]\u001b[49m \u001b[38;5;241m=\u001b[39m \u001b[38;5;124m'\u001b[39m\u001b[38;5;124mP\u001b[39m\u001b[38;5;124m'\u001b[39m\n",
      "\u001b[1;31mTypeError\u001b[0m: 'str' object does not support item assignment"
     ]
    }
   ],
   "source": [
    "# Let's try to update this string by changing its first letter to 'P' by reassigning [0] index location:\n",
    "another_string[0] = 'P'"
   ]
  },
  {
   "cell_type": "markdown",
   "id": "2d8c4f51-69d5-431d-aa23-ab9da038b06c",
   "metadata": {},
   "source": [
    "Have you noticed the error? It is telling us that we can't use item assignment to do changes like this!\n",
    "\n",
    "But we can concatenate string for sure. Concatination means adding two strings."
   ]
  },
  {
   "cell_type": "markdown",
   "id": "694f8f0c-d3cb-4a69-8841-81d9eab38fc3",
   "metadata": {},
   "source": [
    "### Concatination:"
   ]
  },
  {
   "cell_type": "code",
   "execution_count": 62,
   "id": "668c93aa-a7ca-4563-ac83-46f2ef74d034",
   "metadata": {},
   "outputs": [
    {
     "data": {
      "text/plain": [
       "'This is a string'"
      ]
     },
     "execution_count": 62,
     "metadata": {},
     "output_type": "execute_result"
    }
   ],
   "source": [
    "# Original string:\n",
    "another_string"
   ]
  },
  {
   "cell_type": "code",
   "execution_count": 63,
   "id": "2858c7af-f72f-4984-be1c-a80f55605b85",
   "metadata": {},
   "outputs": [
    {
     "data": {
      "text/plain": [
       "'This is a stringThis gets added in the end.'"
      ]
     },
     "execution_count": 63,
     "metadata": {},
     "output_type": "execute_result"
    }
   ],
   "source": [
    "# We can concatenate strings like this:\n",
    "another_string + 'This gets added in the end.'"
   ]
  },
  {
   "cell_type": "markdown",
   "id": "b5944606-697e-465a-ab55-823bb0f48d58",
   "metadata": {},
   "source": [
    "We can also reassing the string completely as well!"
   ]
  },
  {
   "cell_type": "code",
   "execution_count": 64,
   "id": "9bc57e5c-7413-41a4-b3f5-7cd6c71ee49b",
   "metadata": {},
   "outputs": [],
   "source": [
    "# Let's concatenate a new string \"One more string is added to it.\" and reassign the concatenated string to it:\n",
    "another_string = another_string + \". One more string is added to it.\"\n",
    "\n",
    "# One more way to do this is to use the shorthand notation, like this:\n",
    "# another_string += \". One more string is added to it.\""
   ]
  },
  {
   "cell_type": "code",
   "execution_count": 65,
   "id": "e95d83bb-c985-4d6b-8057-2667a569e94d",
   "metadata": {},
   "outputs": [
    {
     "data": {
      "text/plain": [
       "'This is a string. One more string is added to it.'"
      ]
     },
     "execution_count": 65,
     "metadata": {},
     "output_type": "execute_result"
    }
   ],
   "source": [
    "# Now, let's check this string again:\n",
    "another_string"
   ]
  },
  {
   "cell_type": "markdown",
   "id": "0956ed7d-9ffb-448b-b094-8759ed16dc32",
   "metadata": {},
   "source": [
    "### Multiplication:\n",
    "We can also use the multiplication symbol to create repetition"
   ]
  },
  {
   "cell_type": "code",
   "execution_count": 67,
   "id": "11d82f16-d204-4120-9b7d-241c1a138e10",
   "metadata": {},
   "outputs": [
    {
     "data": {
      "text/plain": [
       "'XXX'"
      ]
     },
     "execution_count": 67,
     "metadata": {},
     "output_type": "execute_result"
    }
   ],
   "source": [
    "word = 'X'\n",
    "word *3"
   ]
  },
  {
   "cell_type": "markdown",
   "id": "0a97f93c-6f8f-499a-b3dc-77cb131b3f1b",
   "metadata": {},
   "source": [
    "### len() function\n",
    "Python provides a built-in `len()` function which counts the number of characters in the string which includes all the spaces and punctuations."
   ]
  },
  {
   "cell_type": "code",
   "execution_count": 70,
   "id": "7c07631e-088c-4a23-85b3-b67b36b2eb89",
   "metadata": {},
   "outputs": [
    {
     "data": {
      "text/plain": [
       "11"
      ]
     },
     "execution_count": 70,
     "metadata": {},
     "output_type": "execute_result"
    }
   ],
   "source": [
    "len(\"Hello World\")"
   ]
  },
  {
   "cell_type": "markdown",
   "id": "69568c7e-26f1-4a49-a8a6-63d3b5a9a987",
   "metadata": {},
   "source": [
    "## Some built-in functions (or methods) available on Strings\n",
    "Objects in Python have some built-in methods. These methods are the functions which can do a particular task on the object itself (we will learn abotu objects in the Inheritance chapter in detail)\n",
    "\n",
    "These methods available to an object can be called using a period (`.`) followed by the method name. So the syntax of calling a method on an object looks something like this:\n",
    "\n",
    "object.method(params)\n",
    "\n",
    "These `params` are some arguments which can be passed to the method, if required.\n",
    "\n",
    "Below are some built in methods available to a _`string`_ object:"
   ]
  },
  {
   "cell_type": "code",
   "execution_count": 78,
   "id": "52a02001-4ce8-4c34-abe2-9385271e0ab0",
   "metadata": {},
   "outputs": [
    {
     "data": {
      "text/plain": [
       "'This is a string. One more string is added to it.'"
      ]
     },
     "execution_count": 78,
     "metadata": {},
     "output_type": "execute_result"
    }
   ],
   "source": [
    "# Consider our old string we created above:\n",
    "another_string"
   ]
  },
  {
   "cell_type": "code",
   "execution_count": 80,
   "id": "e9bd792d-cf99-4efc-bc2c-f773f6b9bbbd",
   "metadata": {},
   "outputs": [
    {
     "data": {
      "text/plain": [
       "'THIS IS A STRING. ONE MORE STRING IS ADDED TO IT.'"
      ]
     },
     "execution_count": 80,
     "metadata": {},
     "output_type": "execute_result"
    }
   ],
   "source": [
    "# Uppercase the string\n",
    "another_string.upper()"
   ]
  },
  {
   "cell_type": "code",
   "execution_count": 74,
   "id": "1b595197-e64b-4800-b0d7-704e66e0c3fb",
   "metadata": {},
   "outputs": [],
   "source": [
    "# Similarly, Lowercase the string:"
   ]
  },
  {
   "cell_type": "code",
   "execution_count": 82,
   "id": "f40740a8-5564-409c-a653-fcab7c460cbd",
   "metadata": {},
   "outputs": [
    {
     "data": {
      "text/plain": [
       "'this is a string. one more string is added to it.'"
      ]
     },
     "execution_count": 82,
     "metadata": {},
     "output_type": "execute_result"
    }
   ],
   "source": [
    "another_string.lower()"
   ]
  },
  {
   "cell_type": "code",
   "execution_count": 84,
   "id": "4e85323e-0374-44a3-91b2-45c2dc9a1957",
   "metadata": {},
   "outputs": [
    {
     "data": {
      "text/plain": [
       "['This',\n",
       " 'is',\n",
       " 'a',\n",
       " 'string.',\n",
       " 'One',\n",
       " 'more',\n",
       " 'string',\n",
       " 'is',\n",
       " 'added',\n",
       " 'to',\n",
       " 'it.']"
      ]
     },
     "execution_count": 84,
     "metadata": {},
     "output_type": "execute_result"
    }
   ],
   "source": [
    "# Split a string (by default it will be split by blank space)\n",
    "another_string.split()"
   ]
  },
  {
   "cell_type": "code",
   "execution_count": 86,
   "id": "b4a4e9e0-c1c3-476d-9e3c-ca2d952475db",
   "metadata": {},
   "outputs": [
    {
     "data": {
      "text/plain": [
       "['Thi', ' i', ' a ', 'tring. One more ', 'tring i', ' added to it.']"
      ]
     },
     "execution_count": 86,
     "metadata": {},
     "output_type": "execute_result"
    }
   ],
   "source": [
    "# Split this string by a specific character ('s')\n",
    "another_string.split('s')"
   ]
  },
  {
   "cell_type": "code",
   "execution_count": 87,
   "id": "32262fa1-9efe-4bad-b221-e27f33196d32",
   "metadata": {},
   "outputs": [
    {
     "data": {
      "text/plain": [
       "'This Is A String. One More String Is Added To It.'"
      ]
     },
     "execution_count": 87,
     "metadata": {},
     "output_type": "execute_result"
    }
   ],
   "source": [
    "# Make the first letter of every word capitalized:\n",
    "another_string.title()"
   ]
  },
  {
   "cell_type": "markdown",
   "id": "1843af1e-a0e2-406f-884c-d0eaee4a1766",
   "metadata": {},
   "source": [
    "## Print Formatting\n",
    "The `.format()` method can be used to add formatted objects to the printed strings.\n",
    "\n",
    "Consider this example:"
   ]
  },
  {
   "cell_type": "code",
   "execution_count": 89,
   "id": "b9235d04-0595-4b09-b87a-41634f87a654",
   "metadata": {},
   "outputs": [
    {
     "data": {
      "text/plain": [
       "'When 4 is added to 7, the result will be 11'"
      ]
     },
     "execution_count": 89,
     "metadata": {},
     "output_type": "execute_result"
    }
   ],
   "source": [
    "a = 4\n",
    "b = 7\n",
    "c = a + b\n",
    "\n",
    "some_string = \"When {} is added to {}, the result will be {}\"\n",
    "some_string.format(a, b, c)"
   ]
  },
  {
   "cell_type": "markdown",
   "id": "f38352fc-acff-4dfb-8067-3ae80542a863",
   "metadata": {},
   "source": [
    "We will discuss this string formatting in details in later chapters."
   ]
  }
 ],
 "metadata": {
  "kernelspec": {
   "display_name": "Python 3 (ipykernel)",
   "language": "python",
   "name": "python3"
  },
  "language_info": {
   "codemirror_mode": {
    "name": "ipython",
    "version": 3
   },
   "file_extension": ".py",
   "mimetype": "text/x-python",
   "name": "python",
   "nbconvert_exporter": "python",
   "pygments_lexer": "ipython3",
   "version": "3.11.4"
  }
 },
 "nbformat": 4,
 "nbformat_minor": 5
}
