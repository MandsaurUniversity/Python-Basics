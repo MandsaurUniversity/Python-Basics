{
 "cells": [
  {
   "cell_type": "markdown",
   "id": "747dacf1-a3aa-4887-991d-c2c268994e76",
   "metadata": {},
   "source": [
    "___\n",
    "\n",
    "<p align=\"center\"><center><a href='https://github.com/MandsaurUniversity/'><img src='../MU_Logo.png'/></a></center></p>\n",
    "<p align=\"center\"><center><strong>Mandsaur University</strong><center></p>\n",
    "\n",
    "___"
   ]
  },
  {
   "cell_type": "markdown",
   "id": "3b8460cd-03e1-4220-b327-3b414da20e72",
   "metadata": {},
   "source": [
    "# Strings\n",
    "\n",
    "Strings are sequences of characters enclosed in single or double quotes.vStrings are used to represent textual data and are one of the most fundamental and commonly used data types in programming. They allow you to work with text, manipulate it, and perform various operations on it.\n",
    "\n",
    "fo example: `\"Hello, World!\"`. \n",
    "\n",
    "This basically means Python keeps track for each and every character in the string as a sequence. Strings are used in Python to record text information, such as addresses, names, title, etc.\n",
    "\n",
    "Taking the example of the string mentioned above, \"Hello World!\", Pthon interprets this string to be a sequence of characters in a specific order. Hence we can use indexing to pick particular letters from this string.\n",
    "\n",
    "## Key Characteristics of Strings:\n",
    "1. **Immutable:** Strings are immutable, which means once created, their contents cannot be changed. If you want to modify a string, you create a new string with the desired changes.\n",
    "2. **Ordered:** Like lists, strings are ordered sequences of characters. This means you can access individual characters using index positions.\n",
    "3. **Iterable:** You can iterate through the characters of a string using loops.\n",
    "\n",
    "## Creating a String\n",
    "\n",
    "We can create a string in Python using either single quotes or double quotes. For example:\n",
    "```Python\n",
    "single_quoted = 'Hello, world!'\n",
    "double_quoted = \"Python is awesome\"\n",
    "```\n",
    "\n",
    "Now let's create the same strings yourself!"
   ]
  },
  {
   "cell_type": "code",
   "execution_count": 1,
   "id": "f1ec2b6e-1eda-4755-912e-247857aa7d2a",
   "metadata": {},
   "outputs": [],
   "source": [
    "# Create a string having a single word, using single quotes and display it\n"
   ]
  },
  {
   "cell_type": "code",
   "execution_count": 2,
   "id": "75257d4f-ecae-46c1-89e6-fcd4ca1a77a3",
   "metadata": {},
   "outputs": [],
   "source": [
    "# Create another string containing multiple words and using double quotes and also disply it below.\n"
   ]
  },
  {
   "cell_type": "markdown",
   "id": "3199bb6a-7e4d-4c0e-90e3-27e6838c1258",
   "metadata": {
    "scrolled": true
   },
   "source": [
    "### One important note\n",
    "\n",
    "Some strings may contain quotes inside them, for example: `I'm writing Python code`\n",
    "\n",
    "So if we write above string in single quotes, it will look like this: `'I'm writing Python code'` correct? But this will cause an error:"
   ]
  },
  {
   "cell_type": "code",
   "execution_count": 3,
   "id": "53db7fa4-961e-4ffa-af0d-cba9c8d992d4",
   "metadata": {},
   "outputs": [
    {
     "ename": "SyntaxError",
     "evalue": "unterminated string literal (detected at line 2) (1687061765.py, line 2)",
     "output_type": "error",
     "traceback": [
      "\u001b[1;36m  Cell \u001b[1;32mIn[3], line 2\u001b[1;36m\u001b[0m\n\u001b[1;33m    ' I'm writing Python code'\u001b[0m\n\u001b[1;37m                             ^\u001b[0m\n\u001b[1;31mSyntaxError\u001b[0m\u001b[1;31m:\u001b[0m unterminated string literal (detected at line 2)\n"
     ]
    }
   ],
   "source": [
    "# Error, due to single quote enclosure\n",
    "' I'm writing Python code'"
   ]
  },
  {
   "cell_type": "markdown",
   "id": "c1f3ee01-5979-47af-8f67-74af5ffd3e0b",
   "metadata": {},
   "source": [
    "In order to solve this error, we can use combinations of single and double quires to get the statement right:"
   ]
  },
  {
   "cell_type": "code",
   "execution_count": 4,
   "id": "4a11ee62-34fe-4709-9bb7-b15772d3c107",
   "metadata": {},
   "outputs": [],
   "source": [
    "# Use combination of single and double quotes to form the same string\n"
   ]
  },
  {
   "cell_type": "markdown",
   "id": "8e4d40d9-6baf-4eb6-912c-a89d56fc4ec4",
   "metadata": {},
   "source": [
    "## Printing a String\n",
    "\n",
    "To print a string, we can use a print function like this:\n",
    "\n",
    "```Python\n",
    "print(\"I'm writing Python code\")\n",
    "print(\"Hello World\")\n",
    "```\n"
   ]
  },
  {
   "cell_type": "code",
   "execution_count": 5,
   "id": "e9b07217-751c-467e-92ff-2707f7e55025",
   "metadata": {},
   "outputs": [],
   "source": [
    "# Do it yourself: Using print function, print this message - \"I am a student of BCA class.\""
   ]
  },
  {
   "cell_type": "markdown",
   "id": "320b4dd1-dded-45b6-8458-76e868ef2962",
   "metadata": {},
   "source": [
    "## Accessing characters of string (String Indexing)\n",
    "\n",
    "As we have mentioned above that the strings are sequence of elements, we can traverse through its indexes to see what is stored at a particular location in the string. You can access individual characters of a string using their index positions. Python uses zero-based indexing.\n",
    "\n",
    "For this Python uses square brackets `[]` after a string object to call its index.\n",
    "\n",
    "Indexes in Python starts with `0` so the first element in a string is located at index position `0`. Let's understand this with a string object:\n",
    "\n",
    "```Python\n",
    "message = \"Hello\"\n",
    "print(message[0])  # Output: \"H\"\n",
    "print(message[3])  # Output: \"l\"\n",
    "```\n",
    "\n",
    "#### Now let's try this yourself:"
   ]
  },
  {
   "cell_type": "code",
   "execution_count": 6,
   "id": "3286a142-898a-485f-a843-f4b70f1b48eb",
   "metadata": {},
   "outputs": [],
   "source": [
    "# Create a string named my_string and assign `Hello World` to it.\n",
    "\n",
    "\n",
    "# Print my_string\n",
    "\n"
   ]
  },
  {
   "cell_type": "markdown",
   "id": "4cfe2935-1ad6-47a4-869f-637495654a21",
   "metadata": {},
   "source": [
    "#### Now let's use index positions for traversing through it!"
   ]
  },
  {
   "cell_type": "code",
   "execution_count": 7,
   "id": "1431aa7d-68b9-4b47-ad6d-71c9e8c92bdf",
   "metadata": {},
   "outputs": [],
   "source": [
    "# Show the first element of my_string\n"
   ]
  },
  {
   "cell_type": "code",
   "execution_count": 8,
   "id": "662c56de-acec-4265-a5bf-431acd9b8561",
   "metadata": {},
   "outputs": [],
   "source": [
    "# Show third element of this string\n"
   ]
  },
  {
   "cell_type": "code",
   "execution_count": 9,
   "id": "fecfe4db-ee40-45ae-87e5-70f8152045f5",
   "metadata": {},
   "outputs": [],
   "source": [
    "# Show the last element of this string\n"
   ]
  },
  {
   "cell_type": "markdown",
   "id": "52ab8c17-6e35-4949-8eab-75cb1ae7550d",
   "metadata": {},
   "source": [
    "## String Slicing\n",
    "String slicing is a technique in Python that allows you to extract a portion (substring) of a string by specifying a range of indices. Slicing enables you to work with specific parts of a string, whether it's to manipulate the data or extract relevant information.\n",
    "\n",
    "### String Slicing Syntax:\n",
    "The basic syntax for string slicing is as follows:\n",
    "\n",
    "```\n",
    "string[start:end:step]\n",
    "```\n",
    "\n",
    "- `start`: The index where the slice starts (inclusive).\n",
    "- `end`: The index where the slice ends (exclusive).\n",
    "- `step` (optional): The interval between indices. Defaults to 1.\n",
    "\n",
    "### Important Notes:\n",
    "\n",
    "- The `start` index is inclusive, meaning the character at that index is included in the slice.\n",
    "- The `end` index is exclusive, meaning the character at that index is not included in the slice.\n",
    "- The `step` value determines the stride between indices. If omitted, it defaults to 1.\n",
    "\n",
    "### Examples:\n",
    "\n",
    "Let's use the string `\"Hello, world!\"` for demonstration:\n",
    "\n",
    "```python\n",
    "text = \"Hello, world!\"\n",
    "```\n",
    "\n",
    "1. **Basic Slicing:**\n",
    "\n",
    "   ```python\n",
    "   print(text[7:12])  # Output: \"world\"\n",
    "   ```\n",
    "\n",
    "2. **Omitting Start or End Indices:**\n",
    "\n",
    "   You can omit the `start` or `end` index to slice from the beginning or up to the end, respectively:\n",
    "\n",
    "   ```python\n",
    "   print(text[:5])    # Output: \"Hello\"\n",
    "   print(text[7:])    # Output: \"world!\"\n",
    "   ```\n",
    "\n",
    "3. **Negative Indices:**\n",
    "\n",
    "   Negative indices count from the end of the string. `-1` refers to the last character:\n",
    "\n",
    "   ```python\n",
    "   print(text[-6:])   # Output: \"world!\"\n",
    "   ```\n",
    "   \n",
    "   In the below example, it goes one index behind [0]. That means it loops back around and fetches the last letter.\n",
    "   ```python\n",
    "   my_string[-1]\n",
    "   ```\n",
    "\n",
    "5. **Slicing with Step:**\n",
    "\n",
    "   You can use the `step` value to skip characters:\n",
    "\n",
    "   ```python\n",
    "   print(text[::2])   # Output: \"Hlo ol!\"\n",
    "   ```\n",
    "\n",
    "6. **Reverse String:**\n",
    "\n",
    "   Using a negative `step` value allows you to reverse the string:\n",
    "\n",
    "   ```python\n",
    "   print(text[::-1])  # Output: \"!dlrow ,olleH\"\n",
    "   ```\n",
    "\n",
    "7. **Limiting Slices:**\n",
    "\n",
    "   Slicing also works with ranges that exceed the length of the string:\n",
    "\n",
    "   ```python\n",
    "   print(text[:100])  # Output: \"Hello, world!\"\n",
    "   ```\n",
    "\n",
    "Remember that string slicing does not modify the original string. Instead, it creates a new substring based on the specified range.\n",
    "\n",
    "In summary, string slicing is a powerful tool to extract substrings from strings using indices. It allows you to work with specific parts of a string and perform various operations on them, such as manipulation, extraction, and reversing.\n",
    "\n",
    "#### Now, let's try slicing the string yourself:"
   ]
  },
  {
   "cell_type": "code",
   "execution_count": 10,
   "id": "74a60503-5097-40fd-a93a-a94418a28fcb",
   "metadata": {},
   "outputs": [],
   "source": [
    "# Create a string named my_string and assign `Hello World` to it\n",
    "\n",
    "\n",
    "# Show everything after the first element of `my_string` up till the length of `my_string`\n"
   ]
  },
  {
   "cell_type": "code",
   "execution_count": 11,
   "id": "a1b61fb0-ce0e-4a6c-9f00-3fe069826e91",
   "metadata": {},
   "outputs": [],
   "source": [
    "# Show everything up to the third index\n"
   ]
  },
  {
   "cell_type": "code",
   "execution_count": 12,
   "id": "9c1a4f50-35a9-4b9a-a90b-1f92b409a32c",
   "metadata": {},
   "outputs": [],
   "source": [
    "# Show everything (the whole string)\n"
   ]
  },
  {
   "cell_type": "code",
   "execution_count": 13,
   "id": "8c77a2a9-4e75-40b4-a8d8-ab07235eca7e",
   "metadata": {},
   "outputs": [],
   "source": [
    "# Only show the last element (letter) from the string:\n"
   ]
  },
  {
   "cell_type": "code",
   "execution_count": 14,
   "id": "f5887980-e8bb-4200-a039-4b960a18a9ad",
   "metadata": {},
   "outputs": [],
   "source": [
    "# Showing everything from `my_string` except the last letter:\n"
   ]
  },
  {
   "cell_type": "markdown",
   "id": "b3ad09c6-c3ed-4fef-88ee-5161140c0a5c",
   "metadata": {},
   "source": [
    "**Note:** The original string `my_string` will not change whie performing these slicing operations until we save the sliced value back in the string like this:\n",
    "\n",
    "```Python\n",
    "# Slicing the first letter from the string and storing it back:\n",
    "my_string = my_string[1:]\n",
    "```\n",
    "\n",
    "Try it yourself below:"
   ]
  },
  {
   "cell_type": "code",
   "execution_count": 15,
   "id": "36a59e73-9e2c-47d6-b61b-dd9819ca489e",
   "metadata": {},
   "outputs": [],
   "source": [
    "# Assign `Hello World` to my_string\n",
    "\n",
    "\n",
    "# Slice the first letter from the string and store it back in it\n",
    "\n",
    "\n",
    "# Display the new string again (print my_string)\n"
   ]
  },
  {
   "cell_type": "markdown",
   "id": "bf87ed3b-deee-4a83-94cc-aed3f7839062",
   "metadata": {},
   "source": [
    "_Note that the `my_string` has now got this new value when we assigned `my_string[1:]` to it._"
   ]
  },
  {
   "cell_type": "markdown",
   "id": "c93c024d-44e2-41bf-a4a2-9ce3fda08449",
   "metadata": {},
   "source": [
    "## String Properties\n",
    "\n",
    "### Immutability:\n",
    "\n",
    "Strings are **immutable**, which means that the elements (or characters) within it can not be changed or replaced once the string is created."
   ]
  },
  {
   "cell_type": "code",
   "execution_count": 16,
   "id": "6603bc79-b19d-40e7-9a5e-612c55fcf58e",
   "metadata": {},
   "outputs": [
    {
     "data": {
      "text/plain": [
       "'This is a string'"
      ]
     },
     "execution_count": 16,
     "metadata": {},
     "output_type": "execute_result"
    }
   ],
   "source": [
    "# Let's create a new string:\n",
    "another_string = 'This is a string'\n",
    "\n",
    "# And print that string:\n",
    "another_string"
   ]
  },
  {
   "cell_type": "code",
   "execution_count": 17,
   "id": "164f1134-1523-4cd7-ad7b-59f97f3b21c3",
   "metadata": {},
   "outputs": [
    {
     "ename": "TypeError",
     "evalue": "'str' object does not support item assignment",
     "output_type": "error",
     "traceback": [
      "\u001b[1;31m---------------------------------------------------------------------------\u001b[0m",
      "\u001b[1;31mTypeError\u001b[0m                                 Traceback (most recent call last)",
      "Cell \u001b[1;32mIn[17], line 2\u001b[0m\n\u001b[0;32m      1\u001b[0m \u001b[38;5;66;03m# Let's try to update this string by changing its first letter to 'P' by reassigning [0] index location:\u001b[39;00m\n\u001b[1;32m----> 2\u001b[0m \u001b[43manother_string\u001b[49m\u001b[43m[\u001b[49m\u001b[38;5;241;43m0\u001b[39;49m\u001b[43m]\u001b[49m \u001b[38;5;241m=\u001b[39m \u001b[38;5;124m'\u001b[39m\u001b[38;5;124mP\u001b[39m\u001b[38;5;124m'\u001b[39m\n",
      "\u001b[1;31mTypeError\u001b[0m: 'str' object does not support item assignment"
     ]
    }
   ],
   "source": [
    "# Let's try to update this string by changing its first letter to 'P' by reassigning [0] index location:\n",
    "another_string[0] = 'P'"
   ]
  },
  {
   "cell_type": "markdown",
   "id": "2d8c4f51-69d5-431d-aa23-ab9da038b06c",
   "metadata": {},
   "source": [
    "Have you noticed the error? It is telling us that we can't use item assignment to do changes like this!\n",
    "\n",
    "But we can concatenate string for sure. Concatination means adding two strings."
   ]
  },
  {
   "cell_type": "markdown",
   "id": "6830546e-8da6-4a16-83c5-def4f9e0a0f1",
   "metadata": {},
   "source": [
    "### String Formatting:\n",
    "\n",
    "In Python, there are several ways to format strings, each serving different purposes and offering various levels of flexibility. Here are the three main ways of string formatting:\n",
    "\n",
    "1. **String Formatting with `%` Operator:**\n",
    "\n",
    "   This method uses the `%` operator to insert values into strings. It's an older method and has some limitations, but it's still widely used.\n",
    "\n",
    "   ```python\n",
    "   name = \"Rahul\"\n",
    "   age = 23\n",
    "   message = \"Hello, my name is %s and I am %d years old.\" % (name, age)\n",
    "   ```\n",
    "\n",
    "2. **String Formatting with `str.format()`:**\n",
    "\n",
    "   The `str.format()` method provides a more flexible and readable way to format strings. You can use placeholders `{}` in the string and then use the `.format()` method to replace them with values.\n",
    "\n",
    "   ```python\n",
    "   name = \"Rahul\"\n",
    "   age = 23\n",
    "   message = \"Hello, my name is {} and I am {} years old.\".format(name, age)\n",
    "   ```\n",
    "\n",
    "3. **Formatted String Literals (F-strings):**\n",
    "\n",
    "   F-strings are a modern and highly readable way to format strings, introduced in Python 3.6. They allow you to directly embed expressions and variables within the string using curly braces `{}`. F-strings are often considered the most preferred method for string formatting due to their simplicity and efficiency.\n",
    "\n",
    "   ```python\n",
    "   name = \"Rahul\"\n",
    "   age = 23\n",
    "   message = f\"Hello, my name is {name} and I am {age} years old.\"\n",
    "   ```\n",
    "\n",
    "Each of these methods offers its own advantages and use cases. F-strings, in particular, are recommended for their readability and ease of use, especially when you want to include variables or expressions within strings.\n",
    "\n",
    "**String Formatting Examples:**\n",
    "\n",
    "1. **Using `%` Operator:**\n",
    "\n",
    "   ```python\n",
    "   name = \"Bob\"\n",
    "   score = 85\n",
    "   message = \"Player %s scored %d points.\" % (name, score)\n",
    "   ```\n",
    "\n",
    "2. **Using `str.format()`:**\n",
    "\n",
    "   ```python\n",
    "   product = \"Phone\"\n",
    "   price = 399.99\n",
    "   message = \"The {} costs ${:.2f}.\".format(product, price)\n",
    "   ```\n",
    "\n",
    "3. **Using F-strings:**\n",
    "\n",
    "   ```python\n",
    "   city = \"Mandsaur\"\n",
    "   population = 250000\n",
    "   message = f\"{city} has a population of {population:,}.\"\n",
    "   ```\n",
    "\n",
    "#### let's try these yourself now!"
   ]
  },
  {
   "cell_type": "code",
   "execution_count": 18,
   "id": "ad1eee4e-4679-4dbe-aa3f-d2253f0d2cd2",
   "metadata": {},
   "outputs": [],
   "source": [
    "# Using % Operator:\n",
    "# Create a variable `name` & `score` and assign some values to them.\n",
    "# Create a variable named `message` and insert these variables inside the string by putting this message inside it:\n",
    "# `Player <name> scored <score> points.`\n",
    "\n"
   ]
  },
  {
   "cell_type": "code",
   "execution_count": 19,
   "id": "075d7a40-6e06-4f69-9b50-cf7de4ffaa5b",
   "metadata": {},
   "outputs": [],
   "source": [
    "# Using str.format() :\n",
    "# Create a variable `product` & `price` and assign some values to them.\n",
    "# Create a variable named `message` and insert these variables inside the string by putting this message inside it:\n",
    "# `The <product> costs Rs.<price>.`\n",
    "\n"
   ]
  },
  {
   "cell_type": "code",
   "execution_count": 20,
   "id": "a32be468-46c8-489a-8c4d-62f1cb1e7f47",
   "metadata": {},
   "outputs": [],
   "source": [
    "# Using F-strings :\n",
    "# Create a variable `city` & `population` and assign some values to them.\n",
    "# Create a variable named `message` and insert these variables inside the string by putting this message inside it:\n",
    "# `<city> has a population of <population>`\n",
    "\n"
   ]
  },
  {
   "cell_type": "markdown",
   "id": "1843af1e-a0e2-406f-884c-d0eaee4a1766",
   "metadata": {},
   "source": [
    "#### String Formatting (one more example)\n",
    "The `.format()` method can be used to add formatted objects to the printed strings.\n",
    "\n",
    "Consider this example:"
   ]
  },
  {
   "cell_type": "code",
   "execution_count": 21,
   "id": "83cea7a7-d288-4824-8044-f9b6750496a5",
   "metadata": {},
   "outputs": [
    {
     "name": "stdout",
     "output_type": "stream",
     "text": [
      "When {} is added to {}, the result will be {}\n"
     ]
    }
   ],
   "source": [
    "a = 4\n",
    "b = 7\n",
    "c = a + b\n",
    "\n",
    "some_string = \"When {} is added to {}, the result will be {}\"\n",
    "some_string.format(a, b, c)\n",
    "\n",
    "print(some_string)"
   ]
  },
  {
   "cell_type": "markdown",
   "id": "bda382be-ccf3-4300-9bb2-733aba8d23f1",
   "metadata": {},
   "source": [
    "In summary, string formatting allows you to insert values into strings in a structured and controlled manner. Depending on your Python version and personal preference, you can choose the method that suits your needs best. F-strings are a popular choice due to their readability and convenience."
   ]
  },
  {
   "cell_type": "markdown",
   "id": "9dcd4ef2-d434-4ccd-b48e-167df9c9dd32",
   "metadata": {},
   "source": [
    "### Escape Characters:\n",
    "Escape characters are used to represent characters that have special meanings in strings. For example, `\\n` represents a newline, `\\t` represents a tab, and `\\\\` represents a literal backslash:\n",
    "\n",
    "```Python\n",
    "escaped_string = \"This is a newline: \\nThis is a tab: \\tAnd this is a backslash: \\\\\"\n",
    "print(escaped_string)\n",
    "```\n",
    "\n",
    "#### Try this yourself below:"
   ]
  },
  {
   "cell_type": "code",
   "execution_count": 22,
   "id": "02f92ea6-e611-4ab1-8791-0eafe8c11488",
   "metadata": {},
   "outputs": [],
   "source": [
    "# Write the exact same two lines as written above and see its result in action\n",
    "\n",
    "\n"
   ]
  },
  {
   "cell_type": "markdown",
   "id": "694f8f0c-d3cb-4a69-8841-81d9eab38fc3",
   "metadata": {},
   "source": [
    "### Concatenation:\n",
    "You can concatenate (combine) strings using the `+` operator:"
   ]
  },
  {
   "cell_type": "code",
   "execution_count": 23,
   "id": "668c93aa-a7ca-4563-ac83-46f2ef74d034",
   "metadata": {},
   "outputs": [
    {
     "data": {
      "text/plain": [
       "'This is a string'"
      ]
     },
     "execution_count": 23,
     "metadata": {},
     "output_type": "execute_result"
    }
   ],
   "source": [
    "# Original string:\n",
    "another_string"
   ]
  },
  {
   "cell_type": "code",
   "execution_count": 24,
   "id": "2858c7af-f72f-4984-be1c-a80f55605b85",
   "metadata": {},
   "outputs": [
    {
     "data": {
      "text/plain": [
       "'This is a stringThis gets added in the end.'"
      ]
     },
     "execution_count": 24,
     "metadata": {},
     "output_type": "execute_result"
    }
   ],
   "source": [
    "# We can concatenate strings like this:\n",
    "another_string + 'This gets added in the end.'"
   ]
  },
  {
   "cell_type": "markdown",
   "id": "b5944606-697e-465a-ab55-823bb0f48d58",
   "metadata": {},
   "source": [
    "We can also reassign the string completely as well!"
   ]
  },
  {
   "cell_type": "code",
   "execution_count": 25,
   "id": "9bc57e5c-7413-41a4-b3f5-7cd6c71ee49b",
   "metadata": {},
   "outputs": [],
   "source": [
    "# Let's concatenate a new string \"One more string is added to it.\" and reassign the concatenated string to it:\n",
    "another_string = another_string + \". One more string is added to it.\"\n",
    "\n",
    "# One more way to do this is to use the shorthand notation, like this:\n",
    "# another_string += \". One more string is added to it.\""
   ]
  },
  {
   "cell_type": "code",
   "execution_count": 26,
   "id": "e95d83bb-c985-4d6b-8057-2667a569e94d",
   "metadata": {},
   "outputs": [
    {
     "data": {
      "text/plain": [
       "'This is a string. One more string is added to it.'"
      ]
     },
     "execution_count": 26,
     "metadata": {},
     "output_type": "execute_result"
    }
   ],
   "source": [
    "# Now, let's check this string again:\n",
    "another_string"
   ]
  },
  {
   "cell_type": "markdown",
   "id": "b600e643-d9c6-4ab8-843a-86bbe5b14112",
   "metadata": {},
   "source": [
    "#### Another real world example of using concatenation:"
   ]
  },
  {
   "cell_type": "code",
   "execution_count": 27,
   "id": "1c6b1af1-2748-42a8-a6a0-3a7034c605f7",
   "metadata": {},
   "outputs": [
    {
     "name": "stdout",
     "output_type": "stream",
     "text": [
      "Rahul Dhangar\n"
     ]
    }
   ],
   "source": [
    "first_name = \"Rahul\"\n",
    "last_name = \"Dhangar\"\n",
    "full_name = first_name + \" \" + last_name\n",
    "print(full_name)  # Output: \"Rahul Dhangar\""
   ]
  },
  {
   "cell_type": "markdown",
   "id": "0956ed7d-9ffb-448b-b094-8759ed16dc32",
   "metadata": {},
   "source": [
    "### Multiplication:\n",
    "We can also use the multiplication symbol to create repetition"
   ]
  },
  {
   "cell_type": "code",
   "execution_count": 28,
   "id": "11d82f16-d204-4120-9b7d-241c1a138e10",
   "metadata": {},
   "outputs": [
    {
     "data": {
      "text/plain": [
       "'XXX'"
      ]
     },
     "execution_count": 28,
     "metadata": {},
     "output_type": "execute_result"
    }
   ],
   "source": [
    "word = 'X'\n",
    "word *3"
   ]
  },
  {
   "cell_type": "markdown",
   "id": "187205e4-eb9c-4e6d-9ed8-4a1476996ae1",
   "metadata": {},
   "source": [
    "## Some built-in functions (or methods) available on Strings\n",
    "\n",
    "Python provides a wide range of built-in methods to manipulate and process strings. Some common methods include `upper()`, `lower()`, `strip()`, `split()`, `replace()`, and `len()` :\n",
    "\n",
    "```python\n",
    "text = \"  Python Programming  \"\n",
    "upper_text = text.upper()          # Convert to uppercase\n",
    "lower_text = text.lower()          # Convert to lowercase\n",
    "stripped_text = text.strip()       # Remove leading and trailing spaces\n",
    "words = text.split()               # Split into words\n",
    "replaced_text = text.replace(\"Python\", \"Java\")  # Replace substring\n",
    "length = len(text)                 # Get length of the string\n",
    "\n",
    "```"
   ]
  },
  {
   "cell_type": "markdown",
   "id": "c070a3f5-e64d-47ce-8d37-b3b732c0d998",
   "metadata": {},
   "source": [
    "Strings are basically an **object** of class **String**.\n",
    "\n",
    "Objects in Python have some built-in methods. These methods are the functions which can do a particular task on the object itself (we will learn abotu objects in the Inheritance chapter in detail)\n",
    "\n",
    "These methods available to an object can be called using a period (`.`) followed by the method name. So the syntax of calling a method on an object looks something like this:\n",
    "\n",
    "object.method(params)\n",
    "\n",
    "These `params` are some arguments which can be passed to the method, if required.\n",
    "\n",
    "Below are some built in methods available to a _`string`_ object:"
   ]
  },
  {
   "cell_type": "markdown",
   "id": "0a97f93c-6f8f-499a-b3dc-77cb131b3f1b",
   "metadata": {},
   "source": [
    "### len() function\n",
    "Python provides a built-in `len()` function which counts the number of characters in the string which includes all the spaces and punctuations."
   ]
  },
  {
   "cell_type": "code",
   "execution_count": 29,
   "id": "7c07631e-088c-4a23-85b3-b67b36b2eb89",
   "metadata": {},
   "outputs": [
    {
     "data": {
      "text/plain": [
       "11"
      ]
     },
     "execution_count": 29,
     "metadata": {},
     "output_type": "execute_result"
    }
   ],
   "source": [
    "len(\"Hello World\")"
   ]
  },
  {
   "cell_type": "code",
   "execution_count": 30,
   "id": "52a02001-4ce8-4c34-abe2-9385271e0ab0",
   "metadata": {},
   "outputs": [
    {
     "data": {
      "text/plain": [
       "'This is a string. One more string is added to it.'"
      ]
     },
     "execution_count": 30,
     "metadata": {},
     "output_type": "execute_result"
    }
   ],
   "source": [
    "# Consider our old string we created above:\n",
    "another_string"
   ]
  },
  {
   "cell_type": "code",
   "execution_count": 31,
   "id": "e9bd792d-cf99-4efc-bc2c-f773f6b9bbbd",
   "metadata": {},
   "outputs": [
    {
     "data": {
      "text/plain": [
       "'THIS IS A STRING. ONE MORE STRING IS ADDED TO IT.'"
      ]
     },
     "execution_count": 31,
     "metadata": {},
     "output_type": "execute_result"
    }
   ],
   "source": [
    "# Uppercase the string\n",
    "another_string.upper()"
   ]
  },
  {
   "cell_type": "code",
   "execution_count": 32,
   "id": "a34ddf59-8816-4af6-b922-cdef4e696fe2",
   "metadata": {},
   "outputs": [
    {
     "data": {
      "text/plain": [
       "'this is a string. one more string is added to it.'"
      ]
     },
     "execution_count": 32,
     "metadata": {},
     "output_type": "execute_result"
    }
   ],
   "source": [
    "# Similarly, Lowercase the string:\n",
    "another_string.lower()"
   ]
  },
  {
   "cell_type": "code",
   "execution_count": 33,
   "id": "4e85323e-0374-44a3-91b2-45c2dc9a1957",
   "metadata": {},
   "outputs": [
    {
     "data": {
      "text/plain": [
       "['This',\n",
       " 'is',\n",
       " 'a',\n",
       " 'string.',\n",
       " 'One',\n",
       " 'more',\n",
       " 'string',\n",
       " 'is',\n",
       " 'added',\n",
       " 'to',\n",
       " 'it.']"
      ]
     },
     "execution_count": 33,
     "metadata": {},
     "output_type": "execute_result"
    }
   ],
   "source": [
    "# Split a string (by default it will be split by blank space)\n",
    "another_string.split()"
   ]
  },
  {
   "cell_type": "code",
   "execution_count": 34,
   "id": "b4a4e9e0-c1c3-476d-9e3c-ca2d952475db",
   "metadata": {},
   "outputs": [
    {
     "data": {
      "text/plain": [
       "['Thi', ' i', ' a ', 'tring. One more ', 'tring i', ' added to it.']"
      ]
     },
     "execution_count": 34,
     "metadata": {},
     "output_type": "execute_result"
    }
   ],
   "source": [
    "# Split this string by a specific character ('s')\n",
    "another_string.split('s')"
   ]
  },
  {
   "cell_type": "code",
   "execution_count": 35,
   "id": "32262fa1-9efe-4bad-b221-e27f33196d32",
   "metadata": {},
   "outputs": [
    {
     "data": {
      "text/plain": [
       "'This Is A String. One More String Is Added To It.'"
      ]
     },
     "execution_count": 35,
     "metadata": {},
     "output_type": "execute_result"
    }
   ],
   "source": [
    "# Make the first letter of every word capitalized:\n",
    "another_string.title()"
   ]
  },
  {
   "cell_type": "markdown",
   "id": "a39c740b-6196-422f-8985-588f91549463",
   "metadata": {},
   "source": [
    "### Let's see the example Python code given above and run it as well!\n",
    "\n",
    "```Python\n",
    "text = \"  Python Programming  \"\n",
    "upper_text = text.upper()          # Convert to uppercase\n",
    "lower_text = text.lower()          # Convert to lowercase\n",
    "stripped_text = text.strip()       # Remove leading and trailing spaces\n",
    "words = text.split()               # Split into words\n",
    "replaced_text = text.replace(\"Python\", \"Java\")  # Replace substring\n",
    "length = len(text)                 # Get length of the string\n",
    "```"
   ]
  },
  {
   "cell_type": "code",
   "execution_count": 36,
   "id": "29f2e5ad-8754-4476-b34a-4432aa0e86d9",
   "metadata": {},
   "outputs": [],
   "source": [
    "# Let's create the `text` variable\n",
    "\n",
    "text = \"  Python Programming  \""
   ]
  },
  {
   "cell_type": "code",
   "execution_count": 37,
   "id": "ad105487-bf92-4748-949b-68ce18409130",
   "metadata": {},
   "outputs": [],
   "source": [
    "# Convert to uppercase\n",
    "\n",
    "# < WRITE THE MISSING LINE HERE >\n",
    "\n",
    "# print('upper_text: ', upper_text)"
   ]
  },
  {
   "cell_type": "code",
   "execution_count": 38,
   "id": "8577ccb8-2780-4e9a-b083-43f386fe9806",
   "metadata": {},
   "outputs": [],
   "source": [
    "# Convert to lowercase\n",
    "\n",
    "# < WRITE THE MISSING LINE HERE >\n",
    "\n",
    "# print('lower_text: ', lower_text)"
   ]
  },
  {
   "cell_type": "code",
   "execution_count": 39,
   "id": "4bf73527-d8be-4af4-a2bd-14dd8f83a2e3",
   "metadata": {},
   "outputs": [],
   "source": [
    "# Remove leading and trailing spaces\n",
    "\n",
    "# < WRITE THE MISSING LINE HERE >\n",
    "\n",
    "# print('stripped_text:', stripped_text)"
   ]
  },
  {
   "cell_type": "code",
   "execution_count": 40,
   "id": "218bfadb-9630-4808-906f-640e623b9e67",
   "metadata": {},
   "outputs": [],
   "source": [
    "# Split into words\n",
    "\n",
    "# < WRITE THE MISSING LINE HERE >\n",
    "\n",
    "# print('words:', words)"
   ]
  },
  {
   "cell_type": "code",
   "execution_count": 41,
   "id": "7613f7ab-cec5-482f-b8f1-b115f9683c5c",
   "metadata": {},
   "outputs": [],
   "source": [
    "# Replace substring\n",
    "\n",
    "# < WRITE THE MISSING LINE HERE >\n",
    "\n",
    "# print('replaced_text:', replaced_text)"
   ]
  },
  {
   "cell_type": "code",
   "execution_count": 42,
   "id": "9b9be6f9-4f61-4e77-b26b-bc75b4947095",
   "metadata": {},
   "outputs": [],
   "source": [
    "# Get length of the string\n",
    "\n",
    "# < WRITE THE MISSING LINE HERE >\n",
    "\n",
    "# print('length:', length)"
   ]
  }
 ],
 "metadata": {
  "kernelspec": {
   "display_name": "Python 3 (ipykernel)",
   "language": "python",
   "name": "python3"
  },
  "language_info": {
   "codemirror_mode": {
    "name": "ipython",
    "version": 3
   },
   "file_extension": ".py",
   "mimetype": "text/x-python",
   "name": "python",
   "nbconvert_exporter": "python",
   "pygments_lexer": "ipython3",
   "version": "3.11.4"
  }
 },
 "nbformat": 4,
 "nbformat_minor": 5
}
