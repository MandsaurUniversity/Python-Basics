{
 "cells": [
  {
   "cell_type": "markdown",
   "id": "4183d677-c085-4c20-b470-68f6916c1ab8",
   "metadata": {},
   "source": [
    "___\n",
    "\n",
    "<center><a href='https://github.com/MandsaurUniversity/'><img src='../MU_Logo.png'/></a></center>\n",
    "<center><strong>Mandsaur University</strong></center>\n",
    "\n",
    "___"
   ]
  },
  {
   "cell_type": "markdown",
   "id": "02c26d82-5e07-492e-b923-91efbce8bc1d",
   "metadata": {},
   "source": [
    "# Creating Variables\n",
    "\n",
    "In the previous notes, we successfully checked how arithmetic operations are performed on numbers in Python. Wouldn't it be great if we could assign these data types a name to reference them easily later on in our Python code?\n",
    "\n",
    "_For example:_\n",
    "\n",
    "`no_of_items = 5`"
   ]
  },
  {
   "cell_type": "code",
   "execution_count": 1,
   "id": "453dafb2-c6bb-48cf-ad4a-69f24088e26a",
   "metadata": {},
   "outputs": [],
   "source": [
    "# Let's create our first variable \"x\" and give it a value of 10\n",
    "x = 10"
   ]
  },
  {
   "cell_type": "markdown",
   "id": "a9328881-3569-49a2-856b-a7af8267f844",
   "metadata": {},
   "source": [
    "Now whenever we call _x_ in our Python code, Python will treat it as the number 10.\n",
    "Let's try to add values of two variables"
   ]
  },
  {
   "cell_type": "code",
   "execution_count": 2,
   "id": "4ca2e15d-3717-4802-9b23-3b0a8266a6f1",
   "metadata": {},
   "outputs": [
    {
     "data": {
      "text/plain": [
       "15"
      ]
     },
     "execution_count": 2,
     "metadata": {},
     "output_type": "execute_result"
    }
   ],
   "source": [
    "# Declaring another variable y\n",
    "y = 5\n",
    "\n",
    "# Adding the variables\n",
    "x+y"
   ]
  },
  {
   "cell_type": "markdown",
   "id": "1f670b96-f1c2-4697-83db-e49c47a777a2",
   "metadata": {},
   "source": [
    "We can also reassign the values of a variable like this:"
   ]
  },
  {
   "cell_type": "code",
   "execution_count": 3,
   "id": "8e15e2e7-0896-41c5-adf8-6a626bfe084d",
   "metadata": {},
   "outputs": [],
   "source": [
    "# Reassign value to x\n",
    "x = 2"
   ]
  },
  {
   "cell_type": "code",
   "execution_count": 4,
   "id": "7e17f981-030c-40e1-9e26-f31aa381b2d3",
   "metadata": {},
   "outputs": [
    {
     "data": {
      "text/plain": [
       "2"
      ]
     },
     "execution_count": 4,
     "metadata": {},
     "output_type": "execute_result"
    }
   ],
   "source": [
    "# Now check the value of x\n",
    "x"
   ]
  },
  {
   "cell_type": "markdown",
   "id": "2bd2e829-25b3-48e5-8922-daa61fb335fe",
   "metadata": {},
   "source": [
    "We can also use te variables themselves while doing the reassignment. For example:"
   ]
  },
  {
   "cell_type": "code",
   "execution_count": 5,
   "id": "40b5a262-fe06-49ae-a04c-7798d7c39817",
   "metadata": {},
   "outputs": [],
   "source": [
    "# Using x to redefine x\n",
    "x = x + x"
   ]
  },
  {
   "cell_type": "code",
   "execution_count": 6,
   "id": "ee9a88d7-b7e7-4308-8782-03c6d4ba55d0",
   "metadata": {},
   "outputs": [
    {
     "data": {
      "text/plain": [
       "4"
      ]
     },
     "execution_count": 6,
     "metadata": {},
     "output_type": "execute_result"
    }
   ],
   "source": [
    "# Check\n",
    "x"
   ]
  },
  {
   "cell_type": "markdown",
   "id": "85c426e6-e738-42e8-8ca8-6f6e16fd570d",
   "metadata": {},
   "source": [
    "## Rules for naming a variable:\n",
    "\n",
    "- Names can not start with a number.\n",
    "- Names should not contain spaces in them, but we can use _ instead.\n",
    "- These symbols can not be used `!` `@` `#` `$` `%` `^` `&` `*` `(` `)` `-` `+` `<` `>` `:` `'` `\"` `,` `/` `|` `\\` `?` `~`\n",
    "- It is considered good practice that names are lowercase (PEP8).\n",
    "- Avoid using the characters `l` (lowercase letter el), `O` (uppercase letter oh), or `I` (uppercase letter i) as single character variable names.\n",
    "- Avoid using words that have special meaning in Python (reserved keywords) like \"list\" and \"str\".\n",
    "\n",
    "In Python, it's generally recommended to avoid using the lowercase letter `l` (el), the uppercase letter `I` (eye), and the uppercase letter `O` (oh) as single-character variable names. This recommendation comes from the fact that these characters can be easily confused with the numbers `1` and `0` in many fonts and programming environments. This confusion can lead to errors and make the code harder to read and understand.\n",
    "\n",
    "For example, consider the following code:"
   ]
  },
  {
   "cell_type": "code",
   "execution_count": 7,
   "id": "76346b38-2ecd-4e9a-9e9b-9f65a62d8cb7",
   "metadata": {},
   "outputs": [],
   "source": [
    "l = 1\n",
    "I = 0\n",
    "O = l + I"
   ]
  },
  {
   "cell_type": "markdown",
   "id": "852a5d99-1da3-4730-b314-4a1c3ac4efce",
   "metadata": {},
   "source": [
    "At a quick glance, it might not be immediately clear whether `l` and `I` are variables or the numbers `1` and `0`. This can lead to mistakes in understanding the code's intent.\n",
    "\n",
    "Giving names to the variables is very useful way to keep a chck on different variables. We should consider giving meaningful names to the variables for better readability of code. For example:"
   ]
  },
  {
   "cell_type": "code",
   "execution_count": 8,
   "id": "fc098b1c-2c65-4b44-93f1-79dc5e934db5",
   "metadata": {},
   "outputs": [],
   "source": [
    "# Using variable names to make it more readable and understand it's usability\n",
    "product_cost = 1000\n",
    "\n",
    "tax_rate = 0.18\n",
    "\n",
    "total_tax = product_cost * tax_rate"
   ]
  },
  {
   "cell_type": "code",
   "execution_count": 9,
   "id": "ea6d0ea0-4134-45b1-b980-0a7dc324ace4",
   "metadata": {},
   "outputs": [
    {
     "data": {
      "text/plain": [
       "180.0"
      ]
     },
     "execution_count": 9,
     "metadata": {},
     "output_type": "execute_result"
    }
   ],
   "source": [
    "# Show total tax on product\n",
    "total_tax"
   ]
  },
  {
   "cell_type": "markdown",
   "id": "9a20ebe2-7d50-4424-84c0-03c117d5ee3f",
   "metadata": {},
   "source": [
    "This sums up the basics of numbers in Python and how we do arithmetic operations on them. We have also learned about variables assignment in Python.\n",
    "\n",
    "Now let's learn Variable Assignment in our next note."
   ]
  }
 ],
 "metadata": {
  "kernelspec": {
   "display_name": "Python 3 (ipykernel)",
   "language": "python",
   "name": "python3"
  },
  "language_info": {
   "codemirror_mode": {
    "name": "ipython",
    "version": 3
   },
   "file_extension": ".py",
   "mimetype": "text/x-python",
   "name": "python",
   "nbconvert_exporter": "python",
   "pygments_lexer": "ipython3",
   "version": "3.11.4"
  }
 },
 "nbformat": 4,
 "nbformat_minor": 5
}
