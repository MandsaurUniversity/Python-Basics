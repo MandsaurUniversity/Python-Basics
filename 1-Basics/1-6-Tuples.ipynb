{
 "cells": [
  {
   "cell_type": "markdown",
   "id": "a4fd79ed-a87b-4f9b-85a7-7afad5caa6ac",
   "metadata": {},
   "source": [
    "___\n",
    "\n",
    "<p align=\"center\"><center><a href='https://github.com/MandsaurUniversity/'><img src='../MU_Logo.png'/></a></center></p>\n",
    "<p align=\"center\"><center><strong>Mandsaur University</strong><center></p>\n",
    "\n",
    "___"
   ]
  },
  {
   "cell_type": "markdown",
   "id": "91ec72a7-bf60-4e4a-ac4d-b0854d865168",
   "metadata": {},
   "source": [
    "# Tuples\n",
    "\n",
    "In Python, a tuple is a collection of ordered and immutable elements. Similar to lists, tuples allow you to group multiple items together. However, unlike lists, tuples cannot be modified after they are created. Tuples are often used to represent collections of related data that should not be changed.\n",
    "\n",
    "## Key Characteristics of Tuples:\n",
    "\n",
    "1. **Ordered:** Like lists, tuples maintain the order of elements. This means you can access elements by their index positions.\n",
    "\n",
    "2. **Immutable:** Tuples are immutable, which means once they are created, you cannot change, add, or remove elements from them.\n",
    "\n",
    "3. **Heterogeneous:** Tuples can contain elements of different data types, including numbers, strings, and other tuples.\n",
    "\n",
    "## Creating Tuples:\n",
    "\n",
    "You can create a tuple by enclosing a comma-separated sequence of values within parentheses `( )`:\n",
    "\n",
    "```python\n",
    "fruits = (\"apple\", \"banana\", \"orange\")\n",
    "coordinates = (3.14, 2.71)\n",
    "mixed = (\"Alice\", 30, True)\n",
    "```\n"
   ]
  },
  {
   "cell_type": "code",
   "execution_count": null,
   "id": "f5789e5c-b8fd-4703-a275-64181047e8aa",
   "metadata": {},
   "outputs": [],
   "source": [
    "# Try it yourself...\n"
   ]
  },
  {
   "cell_type": "markdown",
   "id": "5714547c-b901-4acb-9a08-d6818d1ca9c7",
   "metadata": {},
   "source": [
    "\n",
    "## Accessing Elements:\n",
    "\n",
    "You can access individual elements of a tuple using their index positions, just like with lists:\n",
    "\n",
    "```python\n",
    "fruits = (\"apple\", \"banana\", \"orange\")\n",
    "print(fruits[0])  # Output: \"apple\"\n",
    "print(fruits[2])  # Output: \"orange\"\n",
    "```\n"
   ]
  },
  {
   "cell_type": "code",
   "execution_count": null,
   "id": "7413951c-f19a-49d6-bdb4-1c485bd4f806",
   "metadata": {},
   "outputs": [],
   "source": [
    "# Try it yourself...\n"
   ]
  },
  {
   "cell_type": "markdown",
   "id": "bf4c3db0-15ed-47e7-852a-fa1eaf8d2735",
   "metadata": {},
   "source": [
    "## Tuple Unpacking:\n",
    "\n",
    "You can also unpack the elements of a tuple into individual variables:\n",
    "\n",
    "```python\n",
    "coordinates = (3.14, 2.71)\n",
    "x, y = coordinates\n",
    "print(x)  # Output: 3.14\n",
    "print(y)  # Output: 2.71\n",
    "```\n"
   ]
  },
  {
   "cell_type": "code",
   "execution_count": null,
   "id": "e6247188-827b-4b1e-afcd-5ff39a5d85fb",
   "metadata": {},
   "outputs": [],
   "source": [
    "# Try it yourself...\n"
   ]
  },
  {
   "cell_type": "markdown",
   "id": "45d8d4b2-0aab-4b8e-bf61-735916c2c877",
   "metadata": {},
   "source": [
    "## Tuple Methods:\n",
    "\n",
    "Tuples have fewer built-in methods compared to lists due to their immutability. Some commonly used methods include `count()` and `index()`:\n",
    "\n",
    "```python\n",
    "numbers = (1, 2, 3, 4, 2, 5, 2)\n",
    "count_of_twos = numbers.count(2)   # Count occurrences of 2\n",
    "index_of_three = numbers.index(3)  # Find index of first occurrence of 3\n",
    "```\n"
   ]
  },
  {
   "cell_type": "code",
   "execution_count": null,
   "id": "54761aab-79fd-428e-a91b-239136f5d6bc",
   "metadata": {},
   "outputs": [],
   "source": [
    "# Try it yourself...\n"
   ]
  },
  {
   "cell_type": "markdown",
   "id": "465b57eb-9c84-43fb-b51d-a4a454924ab3",
   "metadata": {},
   "source": [
    "## Advantages of Tuples:\n",
    "\n",
    "1. **Immutability:** Tuples can be useful when you want to ensure that the data remains unchanged after creation.\n",
    "\n",
    "2. **Hashable:** Tuples are hashable, which means they can be used as keys in dictionaries and elements in sets.\n",
    "\n",
    "3. **Performance:** Tuples can offer slightly better performance compared to lists in certain scenarios due to their immutability.\n",
    "\n",
    "## Use Cases:\n",
    "\n",
    "Tuples are often used when you have a collection of data that shouldn't be altered, such as coordinates, date and time components, and other structured data.\n",
    "\n",
    "```python\n",
    "date = (2023, 8, 10)\n",
    "coordinates = (25.0, -120.5)\n",
    "```\n"
   ]
  },
  {
   "cell_type": "code",
   "execution_count": null,
   "id": "ef7bd092-527f-472d-b59f-319ce09d26ad",
   "metadata": {},
   "outputs": [],
   "source": [
    "# Try it yourself...\n"
   ]
  },
  {
   "cell_type": "markdown",
   "id": "e1a08f56-7a37-4828-af5e-ba5d137ef95c",
   "metadata": {},
   "source": [
    "In summary, tuples are ordered collections of elements that cannot be changed after creation. They are useful when you need to group related data together in an immutable format."
   ]
  }
 ],
 "metadata": {
  "kernelspec": {
   "display_name": "Python 3 (ipykernel)",
   "language": "python",
   "name": "python3"
  },
  "language_info": {
   "codemirror_mode": {
    "name": "ipython",
    "version": 3
   },
   "file_extension": ".py",
   "mimetype": "text/x-python",
   "name": "python",
   "nbconvert_exporter": "python",
   "pygments_lexer": "ipython3",
   "version": "3.11.4"
  }
 },
 "nbformat": 4,
 "nbformat_minor": 5
}
