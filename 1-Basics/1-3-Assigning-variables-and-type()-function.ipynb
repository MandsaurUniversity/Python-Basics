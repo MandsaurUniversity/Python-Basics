{
 "cells": [
  {
   "cell_type": "markdown",
   "id": "f2543d2f-afd7-493e-8516-8dd9092041c5",
   "metadata": {},
   "source": [
    "___\n",
    "\n",
    "<center><a href='https://github.com/MandsaurUniversity/'><img src='../MU_Logo.png'/></a></center>\n",
    "<center><strong>Mandsaur University</strong></center>\n",
    "\n",
    "___"
   ]
  },
  {
   "cell_type": "markdown",
   "id": "5e760926-53c5-4038-a112-39a73dc72ba6",
   "metadata": {},
   "source": [
    "# Assigning Variables\n",
    "\n",
    "Variables can be assigned a value by following this format: `variable_name = object`, where single equals sign `=` is an assignment operator."
   ]
  },
  {
   "cell_type": "code",
   "execution_count": 3,
   "id": "b472fedb-0c47-401f-a1cd-29a9afbfd9f1",
   "metadata": {},
   "outputs": [],
   "source": [
    "x = 10"
   ]
  },
  {
   "cell_type": "code",
   "execution_count": 4,
   "id": "97e62d96-982a-4f53-ac2e-fe1454f0cea7",
   "metadata": {},
   "outputs": [
    {
     "data": {
      "text/plain": [
       "10"
      ]
     },
     "execution_count": 4,
     "metadata": {},
     "output_type": "execute_result"
    }
   ],
   "source": [
    "x"
   ]
  },
  {
   "cell_type": "markdown",
   "id": "61251e3f-45c6-4aa6-830e-0fca55957cb8",
   "metadata": {},
   "source": [
    "We've assigned an integer object `10` to the variable name `x`.\n",
    "\n",
    "Now, let's assing some other integer object to `x`:"
   ]
  },
  {
   "cell_type": "code",
   "execution_count": 5,
   "id": "ff573c56-dfe9-404d-a54b-114c6e9d8566",
   "metadata": {},
   "outputs": [],
   "source": [
    "x = 4"
   ]
  },
  {
   "cell_type": "code",
   "execution_count": 6,
   "id": "4ebb3969-5ad1-4ad3-97f5-df5f2e53c633",
   "metadata": {},
   "outputs": [
    {
     "data": {
      "text/plain": [
       "4"
      ]
     },
     "execution_count": 6,
     "metadata": {},
     "output_type": "execute_result"
    }
   ],
   "source": [
    "x"
   ]
  },
  {
   "cell_type": "markdown",
   "id": "bdf66c78-3148-414d-aa8a-1c575f85b8cf",
   "metadata": {},
   "source": [
    "We can also perform arithmetic operations between variables:"
   ]
  },
  {
   "cell_type": "code",
   "execution_count": 7,
   "id": "e9b47373-ffd8-46e2-941b-6f7edcf91163",
   "metadata": {},
   "outputs": [
    {
     "data": {
      "text/plain": [
       "8"
      ]
     },
     "execution_count": 7,
     "metadata": {},
     "output_type": "execute_result"
    }
   ],
   "source": [
    "x + x"
   ]
  },
  {
   "cell_type": "markdown",
   "id": "dcbc287c-7937-4790-b441-b4923daccc78",
   "metadata": {},
   "source": [
    "# Re-assigning Variables\n",
    "In Python, you can reassign the variable with a reference to the same object"
   ]
  },
  {
   "cell_type": "code",
   "execution_count": 8,
   "id": "f7ae2938-aca4-4ea6-bd24-9a4d0941ca54",
   "metadata": {},
   "outputs": [],
   "source": [
    "x = x + 4"
   ]
  },
  {
   "cell_type": "code",
   "execution_count": 9,
   "id": "792bfe7e-f8c4-4e75-944c-8af535bfa942",
   "metadata": {},
   "outputs": [
    {
     "data": {
      "text/plain": [
       "8"
      ]
     },
     "execution_count": 9,
     "metadata": {},
     "output_type": "execute_result"
    }
   ],
   "source": [
    "x"
   ]
  },
  {
   "cell_type": "markdown",
   "id": "e5e67da7-30fe-41f4-90ab-56ff7cf80e0b",
   "metadata": {},
   "source": [
    "We can also achieve the same result using shorthand notation, like this: "
   ]
  },
  {
   "cell_type": "code",
   "execution_count": 10,
   "id": "531adeee-1d8c-4994-bf12-96107441f22a",
   "metadata": {},
   "outputs": [],
   "source": [
    "x += 4"
   ]
  },
  {
   "cell_type": "code",
   "execution_count": 11,
   "id": "5f459152-c80a-4746-8da0-2c98489ef960",
   "metadata": {},
   "outputs": [
    {
     "data": {
      "text/plain": [
       "12"
      ]
     },
     "execution_count": 11,
     "metadata": {},
     "output_type": "execute_result"
    }
   ],
   "source": [
    "x"
   ]
  },
  {
   "cell_type": "markdown",
   "id": "1677cdae-fedd-4aa5-8580-4539efa5a865",
   "metadata": {},
   "source": [
    "In fact we can do addition, subtraction, multiplication, division in Python with reassignment using `+=`, `-=`, `*=` and `/=`"
   ]
  },
  {
   "cell_type": "markdown",
   "id": "ab70e87a-8cfc-436e-8e31-ce410594425d",
   "metadata": {},
   "source": [
    "# Dynamic Typing\n",
    "Python uses _dynamic typing_, i.e. we can reassign the variables to different data types. This makes Pyton more flexible in assigning data types when compared to other languages that are _statically typed_. For example:"
   ]
  },
  {
   "cell_type": "code",
   "execution_count": 28,
   "id": "e2a6f56a-53d1-4c1c-bb5f-668583ef3732",
   "metadata": {},
   "outputs": [],
   "source": [
    "my_cars = 2"
   ]
  },
  {
   "cell_type": "code",
   "execution_count": 29,
   "id": "149b041d-56f9-491d-b624-d9ff30dc00e3",
   "metadata": {},
   "outputs": [
    {
     "data": {
      "text/plain": [
       "2"
      ]
     },
     "execution_count": 29,
     "metadata": {},
     "output_type": "execute_result"
    }
   ],
   "source": [
    "my_cars"
   ]
  },
  {
   "cell_type": "code",
   "execution_count": 1,
   "id": "818b6b1f-e904-4920-8e65-cf25d4ab2ce1",
   "metadata": {},
   "outputs": [],
   "source": [
    "my_cars = [\"Ford Figo\", \"Hyundai Verna\"]"
   ]
  },
  {
   "cell_type": "code",
   "execution_count": 2,
   "id": "9e955c4c-f177-4a39-9678-62db1885dc1a",
   "metadata": {},
   "outputs": [
    {
     "data": {
      "text/plain": [
       "['Ford Figo', 'Hyundai Verna']"
      ]
     },
     "execution_count": 2,
     "metadata": {},
     "output_type": "execute_result"
    }
   ],
   "source": [
    "my_cars"
   ]
  },
  {
   "cell_type": "markdown",
   "id": "a9a58d82-9a50-4639-a664-bd8bd1a67875",
   "metadata": {},
   "source": [
    "## Pros & Cons of Dynamic Typing\n",
    "\n",
    "### Pros:\n",
    "\n",
    "- **Flexibility and Expressiveness:** Dynamic typing allows you to create variables without specifying their type explicitly. This flexibility can lead to more concise and expressive code, as you don't need to worry about type declarations. It also makes the language suitable for rapid development and prototyping.\n",
    "\n",
    "- **Simplified Refactoring:** Changing the type of a variable is easier in dynamically typed languages like Python. You can modify the variable's value and type on the fly without having to update type annotations or declarations throughout the codebase. This can save time and effort during code refactoring.\n",
    "\n",
    "- **Improved Developer Productivity:** Dynamic typing encourages a more agile development process, as you can focus on solving problems rather than managing type details. This can lead to increased developer productivity and quicker iterations.\n",
    "\n",
    "### Cons:\n",
    "\n",
    "- **Runtime Errors:** One of the main drawbacks of dynamic typing is that type-related errors might only surface during runtime. This can make it harder to catch and prevent certain bugs in your code. Type-related errors that could have been caught by a compiler in statically typed languages might cause unexpected behavior in a dynamically typed language.\n",
    "\n",
    "- **Readability and Maintenance:** Without explicit type declarations, code readability can suffer, especially in larger projects or when collaborating with other developers. It can be more challenging to understand the intended types of variables without referring to documentation or inspecting the code closely.\n",
    "\n",
    "- **Performance Overhead:** Dynamic typing can introduce performance overhead because type information needs to be checked at runtime. This overhead is usually negligible in most applications, but in cases where high performance is critical, statically typed languages might offer better optimization opportunities.\n",
    "\n"
   ]
  },
  {
   "cell_type": "markdown",
   "id": "dcc5267d-9ff9-4838-95fa-cbc4cf2e34a4",
   "metadata": {},
   "source": [
    "# `type()` function\n",
    "\n",
    "Python has a built-in function `type()` through which we can check what type of object is assigned to a variable.\n",
    "\n",
    "For example, let's check the type of `x` we created above:"
   ]
  },
  {
   "cell_type": "code",
   "execution_count": 12,
   "id": "c6cd8e06-d9e7-40b8-90ea-bba0b81d0d22",
   "metadata": {},
   "outputs": [
    {
     "data": {
      "text/plain": [
       "int"
      ]
     },
     "execution_count": 12,
     "metadata": {},
     "output_type": "execute_result"
    }
   ],
   "source": [
    "type(x)"
   ]
  },
  {
   "cell_type": "markdown",
   "id": "d538d8dd-2d65-40b8-b498-1c2c78a01914",
   "metadata": {},
   "source": [
    "Now, let's reassign x with new objects and check their types:"
   ]
  },
  {
   "cell_type": "code",
   "execution_count": 16,
   "id": "a4936f80-16b5-4a20-b815-894ea3b455fe",
   "metadata": {},
   "outputs": [
    {
     "data": {
      "text/plain": [
       "tuple"
      ]
     },
     "execution_count": 16,
     "metadata": {},
     "output_type": "execute_result"
    }
   ],
   "source": [
    "x = (1,2,\"Hi\")\n",
    "type(x)"
   ]
  },
  {
   "cell_type": "code",
   "execution_count": 18,
   "id": "a49a93eb-e17d-4782-bd8d-a9da27df0cf9",
   "metadata": {},
   "outputs": [
    {
     "data": {
      "text/plain": [
       "list"
      ]
     },
     "execution_count": 18,
     "metadata": {},
     "output_type": "execute_result"
    }
   ],
   "source": [
    "x = [7, \"Hello\", 12.5]\n",
    "type(x)"
   ]
  },
  {
   "cell_type": "code",
   "execution_count": 23,
   "id": "5973c51d-5bcb-463c-a895-a6f2db9b71b7",
   "metadata": {},
   "outputs": [
    {
     "data": {
      "text/plain": [
       "dict"
      ]
     },
     "execution_count": 23,
     "metadata": {},
     "output_type": "execute_result"
    }
   ],
   "source": [
    "x = {\"name\":\"Rahul\",\"gender\":\"male\",\"class\":\"BCA\"}\n",
    "type(x)"
   ]
  },
  {
   "cell_type": "code",
   "execution_count": 32,
   "id": "0f0fe27b-0a87-4a3d-a8b3-4d7c2ec99dd2",
   "metadata": {},
   "outputs": [
    {
     "data": {
      "text/plain": [
       "set"
      ]
     },
     "execution_count": 32,
     "metadata": {},
     "output_type": "execute_result"
    }
   ],
   "source": [
    "x = {9,\"Rahul\",\"A\"}\n",
    "type(x)"
   ]
  },
  {
   "cell_type": "markdown",
   "id": "996cd556-768e-4c7b-9b50-f5ca12e40710",
   "metadata": {},
   "source": [
    "Now let's move to the next datatype: Strings in our next Notebook."
   ]
  }
 ],
 "metadata": {
  "kernelspec": {
   "display_name": "Python 3 (ipykernel)",
   "language": "python",
   "name": "python3"
  },
  "language_info": {
   "codemirror_mode": {
    "name": "ipython",
    "version": 3
   },
   "file_extension": ".py",
   "mimetype": "text/x-python",
   "name": "python",
   "nbconvert_exporter": "python",
   "pygments_lexer": "ipython3",
   "version": "3.11.4"
  }
 },
 "nbformat": 4,
 "nbformat_minor": 5
}
