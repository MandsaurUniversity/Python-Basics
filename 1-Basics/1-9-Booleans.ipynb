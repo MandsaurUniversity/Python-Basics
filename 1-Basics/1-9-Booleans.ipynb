{
 "cells": [
  {
   "cell_type": "markdown",
   "id": "c1bf4384-2a66-4db6-b7f5-cf3ad7f67af8",
   "metadata": {},
   "source": [
    "___\n",
    "\n",
    "<p align=\"center\"><center><a href='https://github.com/MandsaurUniversity/'><img src='../MU_Logo.png'/></a></center></p>\n",
    "<p align=\"center\"><center><strong>Mandsaur University</strong><center></p>\n",
    "\n",
    "___"
   ]
  },
  {
   "cell_type": "markdown",
   "id": "2270e120-5ea6-49b9-8e17-99c30ce0956b",
   "metadata": {},
   "source": [
    "# Booleans\n",
    "\n",
    "In Python, a boolean is a data type that represents one of two possible truth values: `True` or `False`. Booleans are used to perform logical operations, make decisions, and control the flow of code based on conditions. They are fundamental for creating conditional statements and boolean expressions.\n",
    "\n",
    "## Key Characteristics of Booleans:\n",
    "\n",
    "1. **Two Values:** Booleans have only two possible values: `True` and `False`. These values are case-sensitive, so they must be written exactly as shown.\n",
    "\n",
    "2. **Logical Operations:** Booleans are used to perform logical operations like AND, OR, and NOT. These operations help evaluate conditions and make decisions.\n",
    "\n",
    "## Creating Booleans:\n",
    "\n",
    "You can directly assign the boolean values `True` or `False` to variables:\n",
    "\n",
    "```python\n",
    "is_student = True\n",
    "has_passed_exam = False\n",
    "```\n"
   ]
  },
  {
   "cell_type": "markdown",
   "id": "019d092e-bc6e-45a6-8306-dd46d8f375e1",
   "metadata": {},
   "source": [
    "## Boolean Operators:\n",
    "\n",
    "Python provides three main boolean operators for combining and evaluating conditions:\n",
    "\n",
    "1. **AND Operator (`and`):** Returns `True` if both operands are `True`.\n",
    "\n",
    "   ```python\n",
    "   result = is_student and has_passed_exam\n",
    "   ```\n",
    "\n",
    "2. **OR Operator (`or`):** Returns `True` if at least one operand is `True`.\n",
    "\n",
    "   ```python\n",
    "   result = is_student or has_passed_exam\n",
    "   ```\n",
    "\n",
    "3. **NOT Operator (`not`):** Returns the opposite boolean value of the operand.\n",
    "\n",
    "   ```python\n",
    "   result = not is_student\n",
    "   ```\n"
   ]
  },
  {
   "cell_type": "code",
   "execution_count": null,
   "id": "2ccb7e52-53dc-4fe3-b78f-ef5ee5158919",
   "metadata": {},
   "outputs": [],
   "source": [
    "# Try it yourself...\n"
   ]
  },
  {
   "cell_type": "markdown",
   "id": "12c4d864-8543-49e9-82ad-87cc50fa1d08",
   "metadata": {},
   "source": [
    "## Comparison Operators:\n",
    "\n",
    "Comparison operators are used to compare values and return boolean results:\n",
    "\n",
    "- `==`: Equal to\n",
    "- `!=`: Not equal to\n",
    "- `<`: Less than\n",
    "- `>`: Greater than\n",
    "- `<=`: Less than or equal to\n",
    "- `>=`: Greater than or equal to\n",
    "\n",
    "```python\n",
    "age = 20\n",
    "is_adult = age >= 18\n",
    "```\n"
   ]
  },
  {
   "cell_type": "code",
   "execution_count": null,
   "id": "127c32fe-789f-41ef-828f-f250a0b9e13d",
   "metadata": {},
   "outputs": [],
   "source": [
    "# Try it yourself...\n"
   ]
  },
  {
   "cell_type": "markdown",
   "id": "6d2dd1fe-514c-4b41-9e5b-5617b76329ac",
   "metadata": {},
   "source": [
    "## Boolean Expressions:\n",
    "\n",
    "Boolean expressions are statements that evaluate to either `True` or `False`. They are commonly used in conditional statements:\n",
    "\n",
    "```python\n",
    "if is_adult and has_passed_exam:\n",
    "    print(\"Congratulations!\")\n",
    "else:\n",
    "    print(\"Keep working hard!\")\n",
    "```\n"
   ]
  },
  {
   "cell_type": "code",
   "execution_count": null,
   "id": "43fc6b66-afaf-4720-9afb-2a40b054d78d",
   "metadata": {},
   "outputs": [],
   "source": [
    "# Try it yourself...\n"
   ]
  },
  {
   "cell_type": "markdown",
   "id": "6282d30b-16be-4e31-a7f4-262b59acfa4f",
   "metadata": {},
   "source": [
    "## Use Cases:\n",
    "\n",
    "Booleans are essential for creating conditional logic, making decisions, and controlling the flow of code based on conditions.\n",
    "\n",
    "```python\n",
    "if is_student and has_passed_exam:\n",
    "    print(\"You are a successful student!\")\n",
    "```"
   ]
  },
  {
   "cell_type": "code",
   "execution_count": null,
   "id": "dcbfe461-ba92-4b7a-970f-eccb734b9264",
   "metadata": {},
   "outputs": [],
   "source": [
    "# Try it yourself...\n"
   ]
  },
  {
   "cell_type": "markdown",
   "id": "b61ca644-57b2-4053-891d-500253d2c4a4",
   "metadata": {},
   "source": [
    "In summary, booleans are a fundamental data type in Python representing the truth values `True` and `False`. They are essential for logical operations, conditional statements, and decision-making in programming."
   ]
  }
 ],
 "metadata": {
  "kernelspec": {
   "display_name": "Python 3 (ipykernel)",
   "language": "python",
   "name": "python3"
  },
  "language_info": {
   "codemirror_mode": {
    "name": "ipython",
    "version": 3
   },
   "file_extension": ".py",
   "mimetype": "text/x-python",
   "name": "python",
   "nbconvert_exporter": "python",
   "pygments_lexer": "ipython3",
   "version": "3.11.4"
  }
 },
 "nbformat": 4,
 "nbformat_minor": 5
}
