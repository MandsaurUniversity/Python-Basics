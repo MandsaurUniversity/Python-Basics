{
 "cells": [
  {
   "cell_type": "markdown",
   "id": "c8ca0d89-5f25-4e19-a260-e35bcad2cb9e",
   "metadata": {},
   "source": [
    "___\n",
    "\n",
    "<p align=\"center\"><center><a href='https://github.com/MandsaurUniversity/'><img src='../MU_Logo.png'/></a></center></p>\n",
    "<p align=\"center\"><center><strong>Mandsaur University</strong><center></p>\n",
    "\n",
    "___"
   ]
  },
  {
   "cell_type": "markdown",
   "id": "e44f945b-6cdb-4c1d-b69d-0e71223595cc",
   "metadata": {},
   "source": [
    "# Lists\n",
    "\n",
    "In Python, a list is a versatile and widely used data structure that allows you to store a collection of items. Lists are ordered, mutable (modifiable), and can contain elements of different data types. They are a fundamental building block for organizing and managing data in Python programs.\n",
    "\n",
    "### Key Characteristics of Lists:\n",
    "\n",
    "1. **Ordered:** The order of elements in a list is preserved, meaning you can access elements by their index positions.\n",
    "2. **Mutable:** You can modify the contents of a list after it's created. You can add, remove, or change elements.\n",
    "3. **Heterogeneous:** Lists can hold elements of different data types, including numbers, strings, other lists, and more.\n",
    "4. **Iterable:** You can iterate through the elements of a list using loops.\n",
    "\n",
    "## Creating Lists:\n",
    "You can create a list by enclosing a comma-separated sequence of values within square brackets `[ ]`. For example:\n",
    "```Python\n",
    "fruits = [\"apple\", \"banana\", \"orange\"]\n",
    "numbers = [1, 2, 3, 4, 5]\n",
    "mixed = [42, \"hello\", True, 3.14]\n"
   ]
  },
  {
   "cell_type": "code",
   "execution_count": 1,
   "id": "4cb90cae-fda7-4f23-a5da-30e8dcdcb337",
   "metadata": {},
   "outputs": [],
   "source": [
    "# Do it yourself...\n"
   ]
  },
  {
   "cell_type": "markdown",
   "id": "4e7dd01f-a9b9-4c4a-a202-b6b87442cbe4",
   "metadata": {},
   "source": [
    "## Accessing Elements (Indexing) :\n",
    "You can access elements of a list using their index positions. Python uses zero-based indexing, so the first element is at index 0, the second at index 1, and so on:\n",
    "```Python\n",
    "fruits = [\"apple\", \"banana\", \"orange\"]\n",
    "print(fruits[0])  # Output: \"apple\"\n",
    "print(fruits[2])  # Output: \"orange\"\n",
    "```\n"
   ]
  },
  {
   "cell_type": "code",
   "execution_count": 2,
   "id": "d71fa966-ecb8-40ae-b4c7-aca198828898",
   "metadata": {},
   "outputs": [],
   "source": [
    "# Do it yourself...\n"
   ]
  },
  {
   "cell_type": "markdown",
   "id": "a72130a3-967b-4ea9-96a7-eb787e5ea455",
   "metadata": {},
   "source": [
    "## Modifying Elements:\n",
    "Lists are mutable, so you can change their elements:\n",
    "\n",
    "```python\n",
    "fruits = [\"apple\", \"banana\", \"orange\"]\n",
    "fruits[1] = \"grape\"\n",
    "print(fruits)  # Output: [\"apple\", \"grape\", \"orange\"]\n",
    "```"
   ]
  },
  {
   "cell_type": "code",
   "execution_count": 3,
   "id": "f4abf0f9-64c8-4dfa-a7a6-141610711f32",
   "metadata": {},
   "outputs": [],
   "source": [
    "# Do it yourself...\n"
   ]
  },
  {
   "cell_type": "markdown",
   "id": "43ce6e51-16bd-43fb-9cb0-246a3c4395b4",
   "metadata": {},
   "source": [
    "## List Methods:\n",
    "Python provides various built-in methods to manipulate lists, such as `append()`, `insert()`, `remove()`, `pop()`, `sort()`, and `len()`:\n",
    "\n",
    "```python\n",
    "numbers = [3, 1, 4, 1, 5, 9, 2, 6, 5, 3]\n",
    "numbers.append(7)        # Add 7 to the end\n",
    "numbers.insert(2, 8)     # Insert 8 at index 2\n",
    "numbers.remove(5)        # Remove the first occurrence of 5\n",
    "popped = numbers.pop()   # Remove and return the last element\n",
    "popped1 = numbers.pop(0) # We can also specify which index to pop off (index 0 in this case)\n",
    "numbers.sort()           # Sort the list\n",
    "length = len(numbers)    # Get the length of the list\n",
    "```\n"
   ]
  },
  {
   "cell_type": "code",
   "execution_count": 4,
   "id": "1aa55b78-1dba-4376-a964-1d8d9469cc57",
   "metadata": {},
   "outputs": [],
   "source": [
    "# Do it yourself...\n"
   ]
  },
  {
   "cell_type": "markdown",
   "id": "01b0898f-9707-4e6e-bbf5-afc9e4afcf53",
   "metadata": {},
   "source": [
    "#### Notes:\n",
    "\n",
    "Similar to _**strings**_, the len() function tells you how many items are in the sequence of the list.\n",
    "\n",
    "It should be noted that lists indexing will return an error if there is no element at that index. For example: *numbers[50]* will raise an error like this:"
   ]
  },
  {
   "cell_type": "code",
   "execution_count": 18,
   "id": "332d5a20-ac99-4660-b111-9300251a1544",
   "metadata": {},
   "outputs": [
    {
     "ename": "SyntaxError",
     "evalue": "closing parenthesis '}' does not match opening parenthesis '[' (2366135309.py, line 1)",
     "output_type": "error",
     "traceback": [
      "\u001b[1;36m  Cell \u001b[1;32mIn[18], line 1\u001b[1;36m\u001b[0m\n\u001b[1;33m    numbers[50}\u001b[0m\n\u001b[1;37m              ^\u001b[0m\n\u001b[1;31mSyntaxError\u001b[0m\u001b[1;31m:\u001b[0m closing parenthesis '}' does not match opening parenthesis '['\n"
     ]
    }
   ],
   "source": [
    "numbers[50}"
   ]
  },
  {
   "cell_type": "markdown",
   "id": "640ed2c0-f17f-4599-9541-7ec1c241ed13",
   "metadata": {},
   "source": [
    "## Iteration:\n",
    "You can iterate through the elements of a list using loops like `for`:\n",
    "\n",
    "```python\n",
    "fruits = [\"apple\", \"banana\", \"orange\"]\n",
    "for fruit in fruits:\n",
    "    print(fruit)\n",
    "```"
   ]
  },
  {
   "cell_type": "code",
   "execution_count": 5,
   "id": "e2ab695b-1674-40e2-9d6c-eeaef38af0c5",
   "metadata": {},
   "outputs": [],
   "source": [
    "# Do it yourself...\n"
   ]
  },
  {
   "cell_type": "markdown",
   "id": "8bdb15ec-169b-4bfd-b3c7-005f33ea1555",
   "metadata": {},
   "source": [
    "## Slicing:\n",
    "Indexing and slicing work just like in strings. Let's make a new list to remind ourselves of how this works:\n",
    "\n",
    "```Python\n",
    "my_list = ['one','two','three',4,5]\n",
    "\n",
    "# Grab element at index 0\n",
    "my_list[0]\n",
    "\n",
    "# Grab index 1 and everything past it\n",
    "my_list[1:]\n",
    "\n",
    "# Grab everything UP TO index 3\n",
    "my_list[:3]\n",
    "\n",
    "my_list + ['new item']\n",
    "```\n"
   ]
  },
  {
   "cell_type": "code",
   "execution_count": 6,
   "id": "ea646663-b397-4e18-8875-ee984810a0f6",
   "metadata": {},
   "outputs": [],
   "source": [
    "# Do it yourself...\n"
   ]
  },
  {
   "cell_type": "markdown",
   "id": "b32a9c2e-655f-49f7-881f-8adfa5f5c4bd",
   "metadata": {},
   "source": [
    "**Note:** This doesn't actually change the original list!\n",
    "```Python\n",
    "# Printing `my_list` again:\n",
    "print(my_list)\n",
    "```\n"
   ]
  },
  {
   "cell_type": "code",
   "execution_count": 7,
   "id": "ffbe789d-c558-407c-b725-2b5a2c455983",
   "metadata": {},
   "outputs": [],
   "source": [
    "# Do it yourself...\n"
   ]
  },
  {
   "cell_type": "markdown",
   "id": "88a3f7e8-0b24-44f6-afe6-e42471ab6ced",
   "metadata": {},
   "source": [
    "You would have to reassign the list to make the change permanent.\n",
    "#### Reassign\n",
    "```Python\n",
    "my_list = my_list + ['add new item permanently']\n",
    "```"
   ]
  },
  {
   "cell_type": "code",
   "execution_count": 8,
   "id": "f0f0c70d-cf7a-467c-95ab-58135505426e",
   "metadata": {},
   "outputs": [],
   "source": [
    "# Do it yourself...\n"
   ]
  },
  {
   "cell_type": "markdown",
   "id": "751ff908-81b9-49af-aa66-262f9c9939b4",
   "metadata": {},
   "source": [
    "#### Duplication\n",
    "We can also use the * for a duplication method similar to strings:\n",
    "\n",
    "```Python\n",
    "# Make the list double\n",
    "my_list * 2\n",
    "```"
   ]
  },
  {
   "cell_type": "code",
   "execution_count": 9,
   "id": "9cfb8b88-613d-4f5e-9ae8-3867b05f547d",
   "metadata": {},
   "outputs": [],
   "source": [
    "# Do it yourself...\n"
   ]
  },
  {
   "cell_type": "markdown",
   "id": "f8067fb0-584d-4c3f-976c-55ee7d787482",
   "metadata": {},
   "source": [
    "**Again:** this doubling is not permanent\n",
    "```Python\n",
    "my_list\n",
    "```"
   ]
  },
  {
   "cell_type": "code",
   "execution_count": 10,
   "id": "327bd706-371e-418b-82d6-103c369af8c2",
   "metadata": {},
   "outputs": [],
   "source": [
    "# Do it yourself...\n"
   ]
  },
  {
   "cell_type": "markdown",
   "id": "8e148294-ca84-4bef-a948-8dd70717f6bf",
   "metadata": {},
   "source": [
    "Hence, slicing allows you to extract a subset of a list:\n",
    "\n",
    "```python\n",
    "numbers = [0, 1, 2, 3, 4, 5, 6, 7, 8, 9]\n",
    "subset = numbers[2:6]  # Extract elements at index 2 to 5\n",
    "```"
   ]
  },
  {
   "cell_type": "code",
   "execution_count": 11,
   "id": "5cb6076e-190f-413f-9ff9-56979e61647d",
   "metadata": {},
   "outputs": [],
   "source": [
    "# Do it yourself...\n"
   ]
  },
  {
   "cell_type": "markdown",
   "id": "6a4e2e7e-5608-4d2b-bcc6-cf161b614641",
   "metadata": {},
   "source": [
    "## List Comprehensions:\n",
    "List comprehension is a concise and powerful way to create lists in Python. It allows you to generate new lists by applying an expression to each item in an existing iterable (like a list, tuple, or range), and optionally applying filtering conditions. List comprehensions provide a cleaner and more readable alternative to traditional loops for creating and transforming lists.\r\n",
    "\r\n",
    "**Basic Syntax:**\r\n",
    "\r\n",
    "The basic syntax of a list comprehension is as follows:\r\n",
    "\r\n",
    "```python\r\n",
    "new_list = [expression for item in iterable if condition]\r\n",
    "```\r\n",
    "\r\n",
    "- `expression`: This is the value you want to include in the new list for each item in the iterable.\r\n",
    "- `item`: This is the current item in the iterable that you're processing.\r\n",
    "- `iterable`: This is the existing collection you're iterating through (e.g., a list, tuple, or range).\r\n",
    "- `condition` (optional): This is an optional filtering condition that determines whether the item is included in the new list. If omitted, all items d on existing lists.\n",
    "\n",
    "```python\n",
    "squares = [x**2 for x in range(10)]\n",
    "```"
   ]
  },
  {
   "cell_type": "markdown",
   "id": "2db126ea-067e-4fd0-aef4-f58f8e4da4f4",
   "metadata": {},
   "source": [
    "### Examples:\n",
    "\n",
    "1. **Squares of Numbers:**\n",
    "\n",
    "   Creating a list of squares of numbers from 0 to 9:\n",
    "\n",
    "   ```python\n",
    "   squares = [x**2 for x in range(10)]\n",
    "   ```"
   ]
  },
  {
   "cell_type": "code",
   "execution_count": 12,
   "id": "4459e4af-ce93-4fdd-a989-f46f6becd765",
   "metadata": {},
   "outputs": [],
   "source": [
    "# Do it yourself...\n"
   ]
  },
  {
   "cell_type": "markdown",
   "id": "d9fede18-de9c-4dad-972d-e08a00b24c2e",
   "metadata": {},
   "source": [
    "2. **Even Numbers:**\n",
    "\n",
    "   Creating a list of even numbers from 0 to 9:\n",
    "\n",
    "   ```python\n",
    "   evens = [x for x in range(10) if x % 2 == 0]\n",
    "   ```\n"
   ]
  },
  {
   "cell_type": "code",
   "execution_count": 13,
   "id": "798a2582-58cc-4d6c-af59-e0c04d947333",
   "metadata": {},
   "outputs": [],
   "source": [
    "# Do it yourself...\n"
   ]
  },
  {
   "cell_type": "markdown",
   "id": "c09144d3-67b4-4289-b34d-507f4c3cd789",
   "metadata": {},
   "source": [
    "3. **Uppercase Conversion:**\n",
    "\n",
    "   Creating a list of uppercase characters from a string:\n",
    "\n",
    "   ```python\n",
    "   message = \"hello world\"\n",
    "   uppercase_chars = [char.upper() for char in message]\n",
    "   ```\n"
   ]
  },
  {
   "cell_type": "code",
   "execution_count": 14,
   "id": "03974df4-c593-42b0-ba86-ee5877d259c4",
   "metadata": {},
   "outputs": [],
   "source": [
    "# Do it yourself...\n"
   ]
  },
  {
   "cell_type": "markdown",
   "id": "eab09c17-a53d-4194-8c14-ada966376d6f",
   "metadata": {},
   "source": [
    "4. **Filtered Squares:**\n",
    "\n",
    "   Creating a list of squares of even numbers from 0 to 9:\n",
    "\n",
    "   ```python\n",
    "   even_squares = [x**2 for x in range(10) if x % 2 == 0]\n",
    "   ```"
   ]
  },
  {
   "cell_type": "code",
   "execution_count": 15,
   "id": "21cb169e-c5ee-4264-99c7-11b120423dca",
   "metadata": {},
   "outputs": [],
   "source": [
    "# Do it yourself...\n"
   ]
  },
  {
   "cell_type": "markdown",
   "id": "c5a96c80-9667-40cd-b2dd-d577c07aaec1",
   "metadata": {},
   "source": [
    "### Nested List Comprehension:\n",
    "\n",
    "One of the awesome features of Python data structures is that they support *nesting*. This means we can have data structures within data structures.\n",
    "For eg: A list inside a list.\n",
    "\n",
    "```Python\n",
    "# Making three lists\n",
    "list1=[1,2,3]\n",
    "list2=[4,5,6]\n",
    "list3=[7,8,9]\n",
    "\n",
    "# Make a list of lists to form a matrix\n",
    "matrix = [list1,list2,list3]\n",
    "\n",
    "# Output:   [[1, 2, 3], [4, 5, 6], [7, 8, 9]]\n",
    "matrix\n",
    "```\n"
   ]
  },
  {
   "cell_type": "code",
   "execution_count": 16,
   "id": "f4ee1cf1-5560-478a-9bbb-7fc42cbce755",
   "metadata": {},
   "outputs": [],
   "source": [
    "# Do it yourself...\n"
   ]
  },
  {
   "cell_type": "markdown",
   "id": "fb4db452-7ba7-4f9d-a40a-f3104b866e43",
   "metadata": {},
   "source": [
    "You can also use nested list comprehensions to create more complex structures, like lists of lists:\n",
    "\n",
    "```python\n",
    "matrix = [[row * col for col in range(3)] for row in range(3)]\n",
    "# Output: [[0, 0, 0], [0, 1, 2], [0, 2, 4]]\n",
    "```\n",
    "\n",
    "To fully understand list comprehensions we need to understand for loops. We will cover it in the later chapters. So for now, just follow along."
   ]
  },
  {
   "cell_type": "code",
   "execution_count": null,
   "id": "ad92d4be-95eb-4192-b095-2a10a1b50bce",
   "metadata": {},
   "outputs": [],
   "source": [
    "# Do it yourself...\n"
   ]
  },
  {
   "cell_type": "markdown",
   "id": "50cee152-eb67-4bec-a29d-dcf36c939155",
   "metadata": {},
   "source": [
    "#### Another *List Comprehension* example\n",
    "\n",
    "Build a list comprehension by deconstructing a for loop within a []\n",
    "```Python\n",
    "first_col = [row[0] for row in matrix]\n",
    "\n",
    "# Print the output\n",
    "first_col    # Output: [1, 4, 7]\n",
    "\n",
    "```"
   ]
  },
  {
   "cell_type": "code",
   "execution_count": null,
   "id": "4652349e-6f61-4e43-9c11-00167598f242",
   "metadata": {},
   "outputs": [],
   "source": [
    "# Do it yourself...\n"
   ]
  },
  {
   "cell_type": "markdown",
   "id": "832cb108-5aff-48b8-adfc-942d979efd27",
   "metadata": {},
   "source": [
    "### Advantages of List Comprehension:\n",
    "\n",
    "- **Concise Code:** List comprehensions allow you to achieve complex operations in a single line of code.\n",
    "  \n",
    "- **Readability:** List comprehensions often make your code more readable, as the logic is compactly expressed.\n",
    "\n",
    "- **Performance:** List comprehensions can be more efficient in terms of memory and speed compared to traditional loops.\n",
    "\n",
    "#### Limitations:\n",
    "\n",
    "While list comprehensions are powerful and versatile, they might not always be the best choice for very complex operations or when readability is compromised.\n",
    "\n",
    "_**In summary,**_ list comprehensions provide a concise and elegant way to generate new lists by applying expressions to elements in an iterable. They are particularly useful when you need to transform or filter data quickly, resulting in more efficient and readable code."
   ]
  }
 ],
 "metadata": {
  "kernelspec": {
   "display_name": "Python 3 (ipykernel)",
   "language": "python",
   "name": "python3"
  },
  "language_info": {
   "codemirror_mode": {
    "name": "ipython",
    "version": 3
   },
   "file_extension": ".py",
   "mimetype": "text/x-python",
   "name": "python",
   "nbconvert_exporter": "python",
   "pygments_lexer": "ipython3",
   "version": "3.11.4"
  }
 },
 "nbformat": 4,
 "nbformat_minor": 5
}
