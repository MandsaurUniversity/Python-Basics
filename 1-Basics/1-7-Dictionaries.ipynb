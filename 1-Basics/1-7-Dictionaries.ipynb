{
 "cells": [
  {
   "cell_type": "markdown",
   "id": "889d8d30-579f-4abf-9752-7e576b74a60a",
   "metadata": {},
   "source": [
    "___\n",
    "\n",
    "<p align=\"center\"><center><a href='https://github.com/MandsaurUniversity/'><img src='../MU_Logo.png'/></a></center></p>\n",
    "<p align=\"center\"><center><strong>Mandsaur University</strong><center></p>\n",
    "\n",
    "___"
   ]
  },
  {
   "cell_type": "markdown",
   "id": "bb7ce963-31c8-4505-873c-cb2654a59328",
   "metadata": {},
   "source": [
    "# Dictionaries\n",
    "\n",
    "In Python, a dictionary is a versatile data structure that allows you to store and manage data in key-value pairs. Dictionaries are also known as associative arrays or hash maps in other programming languages. They are used to represent collections of items, where each item consists of a unique key and its corresponding value. Dictionaries are an essential tool for organizing and retrieving data efficiently.\n",
    "\n",
    "## Key Characteristics of Dictionaries:\n",
    "\n",
    "1. **Unordered:** Dictionaries are unordered collections, which means that the order of key-value pairs is not guaranteed.\n",
    "2. **Mutable:** Dictionaries are mutable, meaning you can add, modify, or delete key-value pairs after the dictionary is created.\n",
    "3. **Keys:** Keys within a dictionary must be unique and immutable. Common key types include strings, numbers, and tuples.\n",
    "4. **Values:** Values in a dictionary can be of any data type, including strings, numbers, lists, other dictionaries, and more.\n",
    "\n",
    "## Creating Dictionaries:\n",
    "\n",
    "You can create a dictionary by enclosing a comma-separated list of key-value pairs within curly braces `{ }`:\n",
    "\n",
    "```python\n",
    "student = {\n",
    "    \"name\": \"Rahul\",\n",
    "    \"age\": 23,\n",
    "    \"grades\": [85, 92, 78]\n",
    "}\n",
    "```\n"
   ]
  },
  {
   "cell_type": "code",
   "execution_count": null,
   "id": "604ca5a0-006e-435c-9135-952985622b24",
   "metadata": {},
   "outputs": [],
   "source": [
    "# Try it yourself...\n"
   ]
  },
  {
   "cell_type": "markdown",
   "id": "13fd8223-bb44-487b-b86e-cff0b7172320",
   "metadata": {},
   "source": [
    "**Note:** In the above example, we can see that dictionaries are very flexible in the data types they can hold."
   ]
  },
  {
   "cell_type": "code",
   "execution_count": null,
   "id": "ef33dfd8-a9c5-4f52-97c2-c2fc9106b4e1",
   "metadata": {},
   "outputs": [],
   "source": [
    "## Accessing Values:\n",
    "\n",
    "You can access values in a dictionary using their keys:\n",
    "\n",
    "```python\n",
    "print(student[\"name\"])   # Output: \"Rahul\"\n",
    "print(student[\"age\"])    # Output: 23\n",
    "print(student[\"grades\"]) # Output: [85, 92, 78]\n",
    "```\n"
   ]
  },
  {
   "cell_type": "code",
   "execution_count": null,
   "id": "9cc2cdc0-3cc4-45e2-ad81-207f55ee5765",
   "metadata": {},
   "outputs": [],
   "source": [
    "# Try it yourself...\n"
   ]
  },
  {
   "cell_type": "markdown",
   "id": "a9905c56-65d1-4855-9795-dda85469319c",
   "metadata": {},
   "source": [
    "## Modifying and Adding Entries:\n",
    "\n",
    "You can modify the value associated with a key or add new key-value pairs:\n",
    "\n",
    "```python\n",
    "student[\"age\"] = 26      # Modify value\n",
    "student[\"city\"] = \"Pune\"  # Add new key-value pair\n",
    "```\n"
   ]
  },
  {
   "cell_type": "code",
   "execution_count": null,
   "id": "616e5e9f-11e5-4c6e-a748-639ab1154075",
   "metadata": {},
   "outputs": [],
   "source": [
    "# Try it yourself...\n"
   ]
  },
  {
   "cell_type": "markdown",
   "id": "058228db-b314-4121-8d57-e6edde858915",
   "metadata": {},
   "source": [
    "## Dictionary Methods:\n",
    "\n",
    "Python provides various built-in methods to manipulate dictionaries, such as `keys()`, `values()`, `items()`, `get()`, `pop()`, `update()`, and more:\n",
    "\n",
    "```python\n",
    "keys = student.keys()       # Get list of keys\n",
    "values = student.values()   # Get list of values\n",
    "items = student.items()     # Get list of key-value tuples\n",
    "grade = student.get(\"grades\", [])  # Get value with default if not found\n",
    "student.pop(\"age\")          # Remove and return value of key \"age\"\n",
    "student.update({\"age\": 27, \"city\": \"New Delhi\"})  # Update multiple key-value pairs\n",
    "```\n"
   ]
  },
  {
   "cell_type": "code",
   "execution_count": null,
   "id": "0c83c88e-ac33-4a2c-819f-a5fcf9a3821a",
   "metadata": {},
   "outputs": [],
   "source": [
    "# Try it yourself...\n"
   ]
  },
  {
   "cell_type": "markdown",
   "id": "8782cc7b-45d7-41a9-b855-91506a803313",
   "metadata": {},
   "source": [
    "## Iteration:\n",
    "\n",
    "You can iterate through the keys, values, or items of a dictionary using loops:\n",
    "\n",
    "```python\n",
    "for key in student:\n",
    "    print(key, student[key])\n",
    "\n",
    "for value in student.values():\n",
    "    print(value)\n",
    "\n",
    "for key, value in student.items():\n",
    "    print(key, value)\n",
    "```\n"
   ]
  },
  {
   "cell_type": "code",
   "execution_count": null,
   "id": "8800a573-1d7e-46e8-bd94-3fcd240daa93",
   "metadata": {},
   "outputs": [],
   "source": [
    "# Try it yourself...\n"
   ]
  },
  {
   "cell_type": "markdown",
   "id": "bf165a3e-76f3-4e17-8811-e2a784022b22",
   "metadata": {},
   "source": [
    "## Use Cases:\n",
    "\n",
    "Dictionaries are incredibly versatile and find applications in various scenarios, such as storing user data, configuration settings, and mapping data.\n",
    "\n",
    "```python\n",
    "user = {\n",
    "    \"username\": \"rahuldhangar\",\n",
    "    \"email\": \"rahuldhangar@gmail.com\",\n",
    "    \"is_active\": True\n",
    "}\n",
    "```"
   ]
  },
  {
   "cell_type": "code",
   "execution_count": null,
   "id": "154d5551-fd57-42c0-a4d1-5f0ab57175f6",
   "metadata": {},
   "outputs": [],
   "source": [
    "# Try it yourself...\n"
   ]
  },
  {
   "cell_type": "markdown",
   "id": "fafbee62-09c1-49df-b01b-7dea1226c06a",
   "metadata": {},
   "source": [
    "In summary, dictionaries are a fundamental data structure in Python that allow you to organize and manage data efficiently using key-value pairs. They are widely used for storing, retrieving, and manipulating data across different programming tasks."
   ]
  }
 ],
 "metadata": {
  "kernelspec": {
   "display_name": "Python 3 (ipykernel)",
   "language": "python",
   "name": "python3"
  },
  "language_info": {
   "codemirror_mode": {
    "name": "ipython",
    "version": 3
   },
   "file_extension": ".py",
   "mimetype": "text/x-python",
   "name": "python",
   "nbconvert_exporter": "python",
   "pygments_lexer": "ipython3",
   "version": "3.11.4"
  }
 },
 "nbformat": 4,
 "nbformat_minor": 5
}
