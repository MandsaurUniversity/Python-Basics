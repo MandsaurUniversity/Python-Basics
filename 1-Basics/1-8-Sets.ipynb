{
 "cells": [
  {
   "cell_type": "markdown",
   "id": "59452b08-4db6-45b2-8c8e-992dab5380ab",
   "metadata": {},
   "source": [
    "___\n",
    "\n",
    "<p align=\"center\"><center><a href='https://github.com/MandsaurUniversity/'><img src='../MU_Logo.png'/></a></center></p>\n",
    "<p align=\"center\"><center><strong>Mandsaur University</strong><center></p>\n",
    "\n",
    "___"
   ]
  },
  {
   "cell_type": "markdown",
   "id": "daeb5bae-bf6e-460c-8a6c-7510155a40be",
   "metadata": {},
   "source": [
    "# Sets\n",
    "\n",
    "In Python, a set is a collection of unique and unordered elements. Sets are used to store distinct values, and they provide methods for performing mathematical set operations like union, intersection, and difference. Sets are helpful for tasks that require membership testing and removing duplicate values from a sequence.\n",
    "\n",
    "## Key Characteristics of Sets:\n",
    "\n",
    "1. **Unordered:** Sets are unordered, which means that the order of elements is not guaranteed. You cannot access items in a set using indexing.\n",
    "\n",
    "2. **Mutable:** Sets are mutable, so you can add and remove elements after the set is created.\n",
    "\n",
    "3. **Unique Elements:** Sets only contain unique elements. Duplicate values are automatically eliminated.\n",
    "\n",
    "## Creating Sets:\n",
    "\n",
    "You can create a set by enclosing a comma-separated list of values within curly braces `{ }`:\n",
    "\n",
    "```python\n",
    "fruits = {\"apple\", \"banana\", \"orange\"}\n",
    "```\n"
   ]
  },
  {
   "cell_type": "code",
   "execution_count": null,
   "id": "1d6f77d3-fc27-484d-941d-d77cadf54bfa",
   "metadata": {},
   "outputs": [],
   "source": [
    "# Try it yourself...\n"
   ]
  },
  {
   "cell_type": "markdown",
   "id": "7ae39e4d-9252-41a8-a7ae-0af470735cc7",
   "metadata": {},
   "source": [
    "You can also create a set from a list using the `set()` constructor:\n",
    "\n",
    "```python\n",
    "numbers = set([1, 2, 3, 1, 2, 4])  # Creates a set with unique elements\n",
    "```\n"
   ]
  },
  {
   "cell_type": "code",
   "execution_count": 2,
   "id": "74773fc2-46e7-4a83-8839-cd23edf07e33",
   "metadata": {},
   "outputs": [],
   "source": [
    "# Try it yourself...\n"
   ]
  },
  {
   "cell_type": "markdown",
   "id": "84ca29da-f807-4bde-a3ad-f9053b0e5243",
   "metadata": {},
   "source": [
    "Note the curly brackets. This does not indicate a dictionary! Although you can draw analogies as a set being a dictionary with only keys.\n",
    "\n",
    "We know that a set has only unique entries. So what happens when we try to add something that is already in a set?\n",
    "\n",
    "```Python\n",
    "# Add a different element\n",
    "s = set()\n",
    "s.add(1)\n",
    "s.add(2)\n",
    "\n",
    "# Displaying it\n",
    "s            # Output: {1, 2}\n",
    "\n",
    "# Try to add the same element\n",
    "s.add(1)\n",
    "\n",
    "# Display it again\n",
    "s            # Output: {1, 2}\n",
    "```\n"
   ]
  },
  {
   "cell_type": "code",
   "execution_count": 3,
   "id": "2fcda955-7aba-4872-88dc-5bb0ac47fe81",
   "metadata": {},
   "outputs": [],
   "source": [
    "# Try it yourself...\n"
   ]
  },
  {
   "cell_type": "markdown",
   "id": "796f3998-d1b3-4f7d-aba5-735ca46f46eb",
   "metadata": {},
   "source": [
    "Notice how it won't place another `1` there. This is because a set is only concerned with unique elements.\n",
    "\n",
    "We can cast a list with multiple repeat elements to a set to get the unique elements.\n",
    "\n",
    "For example:\n",
    "\n",
    "```Python\n",
    "# Create a list with repeats\n",
    "list1 = [1,1,2,2,3,4,5,6,7,1,2,2]\n",
    "\n",
    "# Cast it as a set to get unique values\n",
    "set(list1)\n",
    "\n",
    "# Display it\n",
    "list1         # Output: {1, 2, 3, 4, 5, 6, 7}\n",
    "```"
   ]
  },
  {
   "cell_type": "code",
   "execution_count": 4,
   "id": "85870d99-a026-481d-a858-3e902b240c91",
   "metadata": {},
   "outputs": [],
   "source": [
    "# Try it yourself...\n"
   ]
  },
  {
   "cell_type": "markdown",
   "id": "91be50cc-6194-4ca8-98cb-6d6bd923dc91",
   "metadata": {},
   "source": [
    "## Accessing Elements:\n",
    "\n",
    "Since sets are unordered, you cannot access elements using indexing. However, you can check for membership using the `in` keyword:\n",
    "\n",
    "```python\n",
    "if \"apple\" in fruits:\n",
    "    print(\"Found apple in the set.\")\n",
    "```\n"
   ]
  },
  {
   "cell_type": "code",
   "execution_count": null,
   "id": "a20c131a-6551-4905-9b04-31f22ea7348e",
   "metadata": {},
   "outputs": [],
   "source": [
    "# Try it yourself...\n"
   ]
  },
  {
   "cell_type": "markdown",
   "id": "28a5616a-2fa1-4af7-b2d1-36fb8a2f04d4",
   "metadata": {},
   "source": [
    "## Modifying Sets:\n",
    "\n",
    "You can add and remove elements from a set:\n",
    "\n",
    "```python\n",
    "fruits.add(\"grape\")     # Add a new element\n",
    "fruits.remove(\"banana\") # Remove an element (raises an error if not found)\n",
    "fruits.discard(\"apple\") # Remove an element (no error if not found)\n",
    "```\n"
   ]
  },
  {
   "cell_type": "code",
   "execution_count": null,
   "id": "ae97c345-6b12-470f-a028-1046a3863d03",
   "metadata": {},
   "outputs": [],
   "source": [
    "# Try it yourself...\n"
   ]
  },
  {
   "cell_type": "markdown",
   "id": "9f603dce-7402-45a3-bba4-f04ade7d986a",
   "metadata": {},
   "source": [
    "## Set Operations:\n",
    "\n",
    "Python provides various set operations like union, intersection, difference, and more:\n",
    "\n",
    "```python\n",
    "set1 = {1, 2, 3}\n",
    "set2 = {3, 4, 5}\n",
    "union = set1 | set2         # Union of sets (set with {1, 2, 3, 4, 5})\n",
    "intersection = set1 & set2  # Intersection of sets (set with {3})\n",
    "difference = set1 - set2    # Difference of sets (set with {1, 2})\n",
    "```\n"
   ]
  },
  {
   "cell_type": "code",
   "execution_count": null,
   "id": "7e8902eb-0ba3-469b-8ef3-520d048e5d65",
   "metadata": {},
   "outputs": [],
   "source": [
    "# Try it yourself...\n"
   ]
  },
  {
   "cell_type": "markdown",
   "id": "6816f9da-6bf4-4f97-8a79-d221fbdc1f34",
   "metadata": {},
   "source": [
    "## Iteration:\n",
    "\n",
    "You can iterate through the elements of a set using loops. We've created a set `fruits` in the above example. Now let's iterate through it:\n",
    "\n",
    "```python\n",
    "for fruit in fruits:\n",
    "    print(fruit)\n",
    "```\n"
   ]
  },
  {
   "cell_type": "code",
   "execution_count": 6,
   "id": "da131a7a-46c4-48a7-85b8-6cb901f329e9",
   "metadata": {},
   "outputs": [],
   "source": [
    "# Try it yourself...\n"
   ]
  },
  {
   "cell_type": "markdown",
   "id": "41f6e17f-f387-4586-88ea-ee8c133f1297",
   "metadata": {},
   "source": [
    "## Use Cases:\n",
    "\n",
    "Sets are useful for tasks like removing duplicates from a sequence, checking for the existence of items, and performing mathematical operations on groups of data.\n",
    "\n",
    "```python\n",
    "unique_numbers = set([1, 2, 3, 1, 2, 4])\n",
    "```\n"
   ]
  },
  {
   "cell_type": "code",
   "execution_count": null,
   "id": "69625383-87bb-4987-8d47-eb40dcf7e0b8",
   "metadata": {},
   "outputs": [],
   "source": [
    "# Try it yourself...\n"
   ]
  },
  {
   "cell_type": "markdown",
   "id": "bfe224b5-3dee-4ac2-b3fd-15359c78d168",
   "metadata": {},
   "source": [
    "_**In summary,**_ sets are a valuable data structure in Python for managing collections of unique elements. They provide methods for membership testing and set operations, making them well-suited for tasks that involve distinct values and set mathematics."
   ]
  }
 ],
 "metadata": {
  "kernelspec": {
   "display_name": "Python 3 (ipykernel)",
   "language": "python",
   "name": "python3"
  },
  "language_info": {
   "codemirror_mode": {
    "name": "ipython",
    "version": 3
   },
   "file_extension": ".py",
   "mimetype": "text/x-python",
   "name": "python",
   "nbconvert_exporter": "python",
   "pygments_lexer": "ipython3",
   "version": "3.11.4"
  }
 },
 "nbformat": 4,
 "nbformat_minor": 5
}
