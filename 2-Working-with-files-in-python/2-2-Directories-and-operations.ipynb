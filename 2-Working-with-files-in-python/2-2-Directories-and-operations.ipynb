{
 "cells": [
  {
   "cell_type": "markdown",
   "id": "178a3fa8-dffa-4d78-81e2-a934a604e15d",
   "metadata": {},
   "source": [
    "___\n",
    "\n",
    "<p align=\"center\"><center><a href='https://github.com/MandsaurUniversity/'><img src='../MU_Logo.png'/></a></center></p>\n",
    "<p align=\"center\"><center><strong>Mandsaur University</strong><center></p>\n",
    "\n",
    "___"
   ]
  },
  {
   "cell_type": "markdown",
   "id": "92468df0-62a2-4eff-9479-3b4145a2c0ba",
   "metadata": {},
   "source": [
    "# Exploring Directories and Directory Operations in Python\n",
    "**Introduction**\n",
    "\n",
    "Directories, also known as folders, are fundamental components of any file system. They provide a way to organize and structure files efficiently. In Python, we have powerful tools and modules to work with directories and perform various operations on them. This lecture will delve into directories, their significance, and how to manipulate them using Python.\n"
   ]
  },
  {
   "cell_type": "code",
   "execution_count": 1,
   "id": "194e3c3e-ff3c-4c29-adb6-d0b39be9f4ea",
   "metadata": {},
   "outputs": [],
   "source": [
    "# Try it yourself...\n"
   ]
  },
  {
   "cell_type": "markdown",
   "id": "673520dc-6ea3-4583-a123-bc1c599ed7fc",
   "metadata": {},
   "source": [
    "## 1. Understanding Directories\n",
    "- **Definition**: A directory is a container for storing files and other directories.\n",
    "- **Role in File Management**: Directories help categorize and organize files, making it easier to locate and manage them.\n",
    "\n",
    "## 2. Working with Directories in Python\n",
    "- **The `os` Module**: Overview of the `os` module, a Python library for interacting with the operating system.\n",
    "\n",
    "The `os` module provides a wide range of functions to work with directories, making it a valuable tool for managing file systems in Python scripts.\n",
    "\n",
    "## 3. Directory Paths\n",
    "- **Absolute Paths vs. Relative Paths**:\n",
    "- **Absolute Paths**: These paths start from the root directory and provide the complete path to a file or directory. They always begin with the root directory (e.g., `c:\\Users\\bcauser\\documents`).\n",
    "- **Relative Paths**: These paths are specified relative to the current working directory (cwd). They don't start from the root directory and are often shorter (e.g., `documents\\myfile.txt`). The interpretation of relative paths depends on the cwd.\n",
    "\n",
    "Understanding the difference between absolute and relative paths is crucial when working with directories, as it affects how you specify the location of files and folders.\n",
    "\n",
    "## 4. Current Working Directory (cwd)\n",
    "- **Definition**: The cwd is the directory from which a Python script is executed.\n",
    "- **`os.getcwd()` Function**: You can use `os.getcwd()` to retrieve the current working directory in Python.\n",
    "\n",
    "```python\n",
    "import os\n",
    "\n",
    "# Get the current working directory\n",
    "current_directory = os.getcwd()\n",
    "print(\"Current Directory:\", current_directory)\n",
    "```\n",
    "\n",
    "Knowing the cwd helps when creating relative paths and navigating the file system."
   ]
  },
  {
   "cell_type": "code",
   "execution_count": null,
   "id": "7ae90716-70df-436f-a9f7-39a02fe34aa8",
   "metadata": {},
   "outputs": [],
   "source": [
    "# Try it yourself...\n"
   ]
  },
  {
   "cell_type": "markdown",
   "id": "214acb6e-7f9e-400e-909c-7ee6b0264bc0",
   "metadata": {},
   "source": [
    "## Creating and Moving to Directories\n",
    "\n",
    "- **`os.mkdir()` Function**: This function is used to create a new directory.\n",
    "- **`os.chdir()` Function**: This function is used to change the current working directory.\n",
    "\n",
    "Example:\n",
    "\n",
    "```python\n",
    "import os\n",
    "\n",
    "os.mkdir(\"my_directory\")  # Create a new directory\n",
    "os.chdir(\"my_directory\")  # Change to the new directory\n",
    "```\n",
    "Creating directories is essential for organizing files and data.\n"
   ]
  },
  {
   "cell_type": "code",
   "execution_count": null,
   "id": "b4cd2900-d55a-45c2-9f7b-3c6f341aece3",
   "metadata": {},
   "outputs": [],
   "source": [
    "# Try it yourself...\n"
   ]
  },
  {
   "cell_type": "markdown",
   "id": "7d5dee17-bdb7-4082-bac3-c7dc05196ab5",
   "metadata": {},
   "source": [
    "## 6. Listing Files and Directories\n",
    "   - **`os.listdir()` Function**: This function lists all files and directories in a given directory.\n",
    "\n",
    "**Example:**\n",
    "\n",
    "```python\n",
    "import os\n",
    "\n",
    "# List files in the current directory\n",
    "files = os.listdir(\".\")\n",
    "for file in files:\n",
    "    print(file)\n",
    "```\n",
    "**Example 2:**\n",
    "```python\n",
    "import os\n",
    "\n",
    "# List files and directories in the current directory\n",
    "contents = os.listdir(\".\")\n",
    "print(\"Contents:\", contents)\n",
    "```\n",
    "\n",
    "Listing directory contents helps you examine and manipulate files.\n"
   ]
  },
  {
   "cell_type": "code",
   "execution_count": 2,
   "id": "01959b8b-54fc-4699-8f15-eb5ff22ee634",
   "metadata": {},
   "outputs": [],
   "source": [
    "# Try it yourself...\n"
   ]
  },
  {
   "cell_type": "markdown",
   "id": "898a0f54-8654-4181-b2ad-9f18065722dc",
   "metadata": {},
   "source": [
    "## 7. Changing the Current Directory\n",
    "- **`os.chdir()` Function**: You can change the current working directory using this function.\n",
    "\n",
    "```python\n",
    "import os\n",
    "\n",
    "# Change the current working directory\n",
    "os.chdir(\"new_directory\")\n",
    "```\n",
    "\n",
    "Changing the cwd allows you to navigate and operate on different parts of the file system.\n"
   ]
  },
  {
   "cell_type": "code",
   "execution_count": 3,
   "id": "06f96079-5c2b-4835-9fd2-dae4d31aaeec",
   "metadata": {},
   "outputs": [],
   "source": [
    "# Try it yourself...\n"
   ]
  },
  {
   "cell_type": "markdown",
   "id": "a92860aa-843a-4739-9302-9f30c4a228b6",
   "metadata": {},
   "source": [
    "## 8. Checking Directory Existence\n",
    "- **`os.path.exists()` Function**: This function checks if a directory exists.\n",
    "\n",
    "```python\n",
    "import os\n",
    "\n",
    "# Check if a directory exists\n",
    "if os.path.exists(\"my_directory\"):\n",
    "   print(\"Directory exists\")\n",
    "else:\n",
    "   print(\"Directory does not exist\")\n",
    "```\n",
    "\n",
    "Verifying directory existence is essential before performing directory operations.\n"
   ]
  },
  {
   "cell_type": "code",
   "execution_count": 4,
   "id": "e6cd1249-1eb1-42a2-b753-24f5b79f9ab4",
   "metadata": {},
   "outputs": [],
   "source": [
    "# Try it yourself...\n"
   ]
  },
  {
   "cell_type": "markdown",
   "id": "a080b399-3838-41fb-9d13-31eff78da61b",
   "metadata": {},
   "source": [
    "## 9. Removing Files and Directories\n",
    "You can remove files and directories using the `os.remove()` and `os.rmdir()` functions, respectively.\n",
    "\n",
    "- **`os.remove()` Function**: This function is used to remove a file.\n",
    "- **`os.rmdir()` Function**: This function is used to remove an empty directory.\n",
    "- **`shutil.rmtree()` Function**: Removes directories with contents (use with caution).\n",
    "\n",
    "```python\n",
    "import os\n",
    "import shutil\n",
    "\n",
    "# Remove a file\n",
    "\n",
    "file_path = \"example.txt\"\n",
    "if os.path.isfile(file_path):\n",
    "    os.remove(file_path)\n",
    "    print(f\"{file_path} is removed.\")\n",
    "\n",
    "# Remove an empty directory\n",
    "os.rmdir(\"my_empty_directory\")\n",
    "\n",
    "# Remove directories with contents\n",
    "shutil.rmtree(\"my_directory_to_delete\")\n",
    "```\n",
    "\n",
    "Care must be taken when removing directories, especially those with files inside.\n"
   ]
  },
  {
   "cell_type": "code",
   "execution_count": null,
   "id": "3a8aca92-c2ef-4d6f-bf78-029d5fb0c448",
   "metadata": {},
   "outputs": [],
   "source": [
    "# Try it yourself...\n"
   ]
  },
  {
   "cell_type": "markdown",
   "id": "56c1c6b3-6db4-4b59-830b-5c359ed538a8",
   "metadata": {},
   "source": [
    "## 10. Copying and Renaming Files\n",
    "\n",
    "The `shutil` module provides functions for copying and renaming files.\n",
    "\n",
    "Example:\n",
    "\n",
    "```python\n",
    "import shutil\n",
    "\n",
    "src_file = \"source.txt\"\n",
    "dest_file = \"destination.txt\"\n",
    "\n",
    "shutil.copy(src_file, dest_file)  # Copy src_file to dest_file\n",
    "shutil.move(src_file, dest_file)  # Rename src_file to dest_file\n",
    "```\n"
   ]
  },
  {
   "cell_type": "code",
   "execution_count": null,
   "id": "bd0f5072-df94-4c90-83dc-391f0a0273ad",
   "metadata": {},
   "outputs": [],
   "source": [
    "# Try it yourself...\n"
   ]
  },
  {
   "cell_type": "markdown",
   "id": "98bea87a-6d25-4555-9c64-d0cd7a72ae2b",
   "metadata": {},
   "source": [
    "## 11. Renaming Directories\n",
    "- **`os.rename()` Function**: Use this function to rename directories.\n",
    "\n",
    "```python\n",
    "import os\n",
    "\n",
    "# Rename a directory\n",
    "os.rename(\"old_directory\", \"new_directory_name\")\n",
    "```\n",
    "\n",
    "Renaming directories helps maintain a well-organized file structure.\n"
   ]
  },
  {
   "cell_type": "code",
   "execution_count": null,
   "id": "c00f9b37-a776-4e78-b87b-470e98ba6f4f",
   "metadata": {},
   "outputs": [],
   "source": [
    "# Try it yourself...\n"
   ]
  },
  {
   "cell_type": "markdown",
   "id": "a1e74c8b-d362-4b7c-b901-b9700821cc4c",
   "metadata": {},
   "source": [
    "## 12. Copying Directories\n",
    "- **`shutil.copytree()` Function**: Copies directories and their contents.\n",
    "\n",
    "```python\n",
    "import shutil\n",
    "\n",
    "# Copy a directory and its contents\n",
    "shutil.copytree(\"source_directory\", \"destination_directory\")\n",
    "```\n",
    "\n",
    "Copying directories is useful for creating backups or replicating directory structures.\n"
   ]
  },
  {
   "cell_type": "code",
   "execution_count": null,
   "id": "75e6f8aa-7407-42bf-9554-a1f384477741",
   "metadata": {},
   "outputs": [],
   "source": [
    "# Try it yourself...\n"
   ]
  },
  {
   "cell_type": "markdown",
   "id": "2f63a3fb-0e19-46bc-9a5d-a863b5e8805a",
   "metadata": {},
   "source": [
    "## Testing File Types\n",
    "\n",
    "The `os.path` module provides functions to test file types, like `isfile()` and `isdir()`.\n",
    "\n",
    "Example:\n",
    "\n",
    "```python\n",
    "import os\n",
    "\n",
    "file_path = \"example.txt\"\n",
    "if os.path.isfile(file_path):\n",
    "    print(f\"{file_path} is a file.\")\n",
    "if os.path.isdir(file_path):\n",
    "    print(f\"{file_path} is a directory.\")\n",
    "```\n"
   ]
  },
  {
   "cell_type": "code",
   "execution_count": null,
   "id": "c0101436-5e33-46e6-b271-f15d3f1f32af",
   "metadata": {},
   "outputs": [],
   "source": [
    "# Try it yourself...\n"
   ]
  }
 ],
 "metadata": {
  "kernelspec": {
   "display_name": "Python 3 (ipykernel)",
   "language": "python",
   "name": "python3"
  },
  "language_info": {
   "codemirror_mode": {
    "name": "ipython",
    "version": 3
   },
   "file_extension": ".py",
   "mimetype": "text/x-python",
   "name": "python",
   "nbconvert_exporter": "python",
   "pygments_lexer": "ipython3",
   "version": "3.11.4"
  }
 },
 "nbformat": 4,
 "nbformat_minor": 5
}
