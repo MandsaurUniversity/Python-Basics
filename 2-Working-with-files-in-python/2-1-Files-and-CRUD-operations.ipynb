{
 "cells": [
  {
   "cell_type": "markdown",
   "id": "3a0f9d4d-a43d-483d-acc7-5da04c5d17d7",
   "metadata": {},
   "source": [
    "___\n",
    "\n",
    "<p align=\"center\"><center><a href='https://github.com/MandsaurUniversity/'><img src='../MU_Logo.png'/></a></center></p>\n",
    "<p align=\"center\"><center><strong>Mandsaur University</strong><center></p>\n",
    "\n",
    "___"
   ]
  },
  {
   "cell_type": "markdown",
   "id": "be38f70f-48f6-4c44-83b0-d5e5eec7e0b6",
   "metadata": {},
   "source": [
    "# Files\n",
    "\n",
    "## Inroduction to Files and File Handling in Python\n",
    "\n",
    "Today, we're going to embark on a fascinating journey into the world of files and file handling in Python. Files are an integral part of computing, and understanding how to work with them is a crucial skill for any programmer.\n",
    "\n",
    "### What Are Files?\n",
    "\n",
    "So, what exactly are files? In the simplest terms, files are containers for storing data. They can hold all kinds of information, from text documents and images to music files and program executables. In our digital age, files are everywhere, whether you're writing an essay, watching a movie, or playing a video game.\n",
    "\n",
    "### Why Do Files Matter?\n",
    "\n",
    "Files matter because they are how we interact with and store information on computers. They enable us to:\n",
    "\n",
    "1. **Persist Data:** Files allow us to store data even after the computer is turned off. Think of your documents, photos, and saved games—they're all stored as files.\n",
    "\n",
    "2. **Share Information:** Files are the means by which we share data with others. When you email a document, share a photo on social media, or transfer music to your phone, you're working with files.\n",
    "\n",
    "3. **Program Interaction:** Files play a crucial role in software development. Programs read and write files to store settings, log information, or manipulate data.\n",
    "\n",
    "### File Handling in Python\n",
    "\n",
    "Python, being a versatile and powerful programming language, provides us with a rich set of tools for handling files. With Python, you can create, read, write, modify, and delete files effortlessly. \n",
    "\n",
    "Python uses file objects to interact with external files on your computer. File object can interact with any sort of files, be it audio, video, text or csv's. For interacting with these different types of files, some modules are needed to be installed, which are easily available and we will cover downloading these modules in later section of this course.\n",
    "\n",
    "Throughout this course, we will explore the fundamentals of file handling, starting with the basics and progressing to more advanced topics. Here are some key areas we'll cover:\n",
    "\n",
    "- **Creating Files:** How to create new files and open existing ones.\n",
    "- **Reading and Writing:** How to read data from files and write data to them.\n",
    "- **File Modes:** Understanding file modes that dictate how you can interact with files (e.g., read, write, append).\n",
    "- **Managing Directories:** How to work with directories, create them, and navigate through them.\n",
    "- **File Types:** Identifying and working with different file types.\n",
    "- **Removing and Renaming:** Deleting files and renaming them.\n",
    "- **CSV Files:** Working with CSV files, a common format for data storage.\n",
    "- **Best Practices:** Learning best practices for file handling to avoid data loss and errors.\n",
    "\n",
    "---\n",
    "\n",
    "## _Note: Writing a File in iPython Jupyter Notebooks_\n",
    "\n",
    "To easily create a file in jupyter notebok, we can use a very simple function (which is specific to jupyter notebooks only)\n",
    "\n",
    "You simply need to type below lines in your jupyter notebook's cell to create a file named `test.txt` :\n",
    "\n",
    "```Python\n",
    "%%writefile test.txt\n",
    "Hello, this is a test file made using Jupyter Notebook interface.\n",
    "This is a second line in this text file.\n",
    "```"
   ]
  },
  {
   "cell_type": "code",
   "execution_count": 1,
   "id": "5598a2a7-2689-4d6d-99b0-0209540dafa7",
   "metadata": {},
   "outputs": [],
   "source": [
    "# try it yourself here... (delete this comment as well)"
   ]
  },
  {
   "cell_type": "markdown",
   "id": "6e8c782d-87c4-4437-af83-183238fb04b7",
   "metadata": {},
   "source": [
    "### _Quick note:_\n",
    "To know where this jupyter notebook currently is, you can type `pwd` in the code cell.\n",
    "\n",
    "This `pwd` command will print your current working directory."
   ]
  },
  {
   "cell_type": "code",
   "execution_count": 2,
   "id": "a2742a94-54e1-4882-bb51-f24e41abf91f",
   "metadata": {},
   "outputs": [
    {
     "data": {
      "text/plain": [
       "'C:\\\\Users\\\\krsna\\\\Desktop\\\\Datas\\\\MU\\\\BCA\\\\gh-repos\\\\Python-Basics\\\\2-Working-with-files-in-python'"
      ]
     },
     "execution_count": 2,
     "metadata": {},
     "output_type": "execute_result"
    }
   ],
   "source": [
    "pwd"
   ]
  },
  {
   "cell_type": "markdown",
   "id": "bd5f19d9-32da-4bc1-adfe-c393ebe03e0d",
   "metadata": {},
   "source": [
    "#### Let's see what happens if we accidentally give a wrong file name while opening a file:"
   ]
  },
  {
   "cell_type": "code",
   "execution_count": 3,
   "id": "5badf850-20e1-4038-8416-2fb9bb8c6609",
   "metadata": {},
   "outputs": [
    {
     "ename": "FileNotFoundError",
     "evalue": "[Errno 2] No such file or directory: 'testt.txt'",
     "output_type": "error",
     "traceback": [
      "\u001b[1;31m---------------------------------------------------------------------------\u001b[0m",
      "\u001b[1;31mFileNotFoundError\u001b[0m                         Traceback (most recent call last)",
      "Cell \u001b[1;32mIn[3], line 6\u001b[0m\n\u001b[0;32m      1\u001b[0m \u001b[38;5;124;03m'''\u001b[39;00m\n\u001b[0;32m      2\u001b[0m \u001b[38;5;124;03mRemember, we created a file named `test.txt` recently?\u001b[39;00m\n\u001b[0;32m      3\u001b[0m \u001b[38;5;124;03mNow, what if we type wrong name while opening the file?\u001b[39;00m\n\u001b[0;32m      4\u001b[0m \u001b[38;5;124;03m'''\u001b[39;00m\n\u001b[0;32m      5\u001b[0m \u001b[38;5;66;03m# Open test.txt file..\u001b[39;00m\n\u001b[1;32m----> 6\u001b[0m file \u001b[38;5;241m=\u001b[39m \u001b[38;5;28;43mopen\u001b[39;49m\u001b[43m(\u001b[49m\u001b[38;5;124;43m\"\u001b[39;49m\u001b[38;5;124;43mtestt.txt\u001b[39;49m\u001b[38;5;124;43m\"\u001b[39;49m\u001b[43m)\u001b[49m\n\u001b[0;32m      7\u001b[0m file\u001b[38;5;241m.\u001b[39mread()\n",
      "File \u001b[1;32m~\\AppData\\Roaming\\Python\\Python311\\site-packages\\IPython\\core\\interactiveshell.py:284\u001b[0m, in \u001b[0;36m_modified_open\u001b[1;34m(file, *args, **kwargs)\u001b[0m\n\u001b[0;32m    277\u001b[0m \u001b[38;5;28;01mif\u001b[39;00m file \u001b[38;5;129;01min\u001b[39;00m {\u001b[38;5;241m0\u001b[39m, \u001b[38;5;241m1\u001b[39m, \u001b[38;5;241m2\u001b[39m}:\n\u001b[0;32m    278\u001b[0m     \u001b[38;5;28;01mraise\u001b[39;00m \u001b[38;5;167;01mValueError\u001b[39;00m(\n\u001b[0;32m    279\u001b[0m         \u001b[38;5;124mf\u001b[39m\u001b[38;5;124m\"\u001b[39m\u001b[38;5;124mIPython won\u001b[39m\u001b[38;5;124m'\u001b[39m\u001b[38;5;124mt let you open fd=\u001b[39m\u001b[38;5;132;01m{\u001b[39;00mfile\u001b[38;5;132;01m}\u001b[39;00m\u001b[38;5;124m by default \u001b[39m\u001b[38;5;124m\"\u001b[39m\n\u001b[0;32m    280\u001b[0m         \u001b[38;5;124m\"\u001b[39m\u001b[38;5;124mas it is likely to crash IPython. If you know what you are doing, \u001b[39m\u001b[38;5;124m\"\u001b[39m\n\u001b[0;32m    281\u001b[0m         \u001b[38;5;124m\"\u001b[39m\u001b[38;5;124myou can use builtins\u001b[39m\u001b[38;5;124m'\u001b[39m\u001b[38;5;124m open.\u001b[39m\u001b[38;5;124m\"\u001b[39m\n\u001b[0;32m    282\u001b[0m     )\n\u001b[1;32m--> 284\u001b[0m \u001b[38;5;28;01mreturn\u001b[39;00m \u001b[43mio_open\u001b[49m\u001b[43m(\u001b[49m\u001b[43mfile\u001b[49m\u001b[43m,\u001b[49m\u001b[43m \u001b[49m\u001b[38;5;241;43m*\u001b[39;49m\u001b[43margs\u001b[49m\u001b[43m,\u001b[49m\u001b[43m \u001b[49m\u001b[38;5;241;43m*\u001b[39;49m\u001b[38;5;241;43m*\u001b[39;49m\u001b[43mkwargs\u001b[49m\u001b[43m)\u001b[49m\n",
      "\u001b[1;31mFileNotFoundError\u001b[0m: [Errno 2] No such file or directory: 'testt.txt'"
     ]
    }
   ],
   "source": [
    "'''\n",
    "Remember, we created a file named `test.txt` recently?\n",
    "Now, what if we type wrong name while opening the file?\n",
    "'''\n",
    "# Open test.txt file..\n",
    "file = open(\"testt.txt\")\n",
    "file.read()"
   ]
  },
  {
   "cell_type": "markdown",
   "id": "2b4ac0ed-2563-4c3a-8917-7ff8579c502f",
   "metadata": {},
   "source": [
    "#### Let's read the file using read() function again (using correct name) : \n"
   ]
  },
  {
   "cell_type": "code",
   "execution_count": 4,
   "id": "239e60f3-45c3-4321-86ab-ea096c583681",
   "metadata": {},
   "outputs": [
    {
     "data": {
      "text/plain": [
       "'Hello, this is a test file made using Jupyter Notebook interface.\\nThis is a second line in this text file.\\n'"
      ]
     },
     "execution_count": 4,
     "metadata": {},
     "output_type": "execute_result"
    }
   ],
   "source": [
    "# Open test.txt file..\n",
    "file = open(\"test.txt\")\n",
    "file.read()"
   ]
  },
  {
   "cell_type": "markdown",
   "id": "16a1ae6e-91fc-4d04-8644-4dd446033043",
   "metadata": {},
   "source": [
    "#### Have you noticed?\n",
    "When we call `read()` method on the `file` object, it returns a giant string of everything that's in that file.\n",
    "\n",
    "The `\\n` in this giant string indicates a newline. Since we have asked for everything as a single string, the string somehow needs to represent where the new lines were in the text file.\n",
    "\n",
    "#### Now, when we read this file again, see what happens...\n"
   ]
  },
  {
   "cell_type": "code",
   "execution_count": 5,
   "id": "85fbdf49-b27f-4938-a2fa-5bafc4771469",
   "metadata": {},
   "outputs": [
    {
     "data": {
      "text/plain": [
       "''"
      ]
     },
     "execution_count": 5,
     "metadata": {},
     "output_type": "execute_result"
    }
   ],
   "source": [
    "file.read()"
   ]
  },
  {
   "cell_type": "markdown",
   "id": "94b44c01-32fb-45d9-b250-271e27543ec7",
   "metadata": {},
   "source": [
    "Second time, it displays empty string because while reading the file for the first time, the cursor (which shows the current position until where the file has been read) goes all the way to the end of the file.\n",
    "\n",
    "We can seek back the cursor to the starting of file using `seek()` function:\n"
   ]
  },
  {
   "cell_type": "code",
   "execution_count": 6,
   "id": "a4df2605-f500-49a6-aa33-5dca4156d402",
   "metadata": {},
   "outputs": [
    {
     "data": {
      "text/plain": [
       "0"
      ]
     },
     "execution_count": 6,
     "metadata": {},
     "output_type": "execute_result"
    }
   ],
   "source": [
    "file.seek(0)"
   ]
  },
  {
   "cell_type": "code",
   "execution_count": 7,
   "id": "5e7a1f02-413b-4fcf-91b7-e2896ee8c0c3",
   "metadata": {},
   "outputs": [
    {
     "data": {
      "text/plain": [
       "'Hello, this is a test file made using Jupyter Notebook interface.\\nThis is a second line in this text file.\\n'"
      ]
     },
     "execution_count": 7,
     "metadata": {},
     "output_type": "execute_result"
    }
   ],
   "source": [
    "file.read()"
   ]
  },
  {
   "cell_type": "markdown",
   "id": "825a1b6d-c3da-4ed3-acd1-2e6df48db819",
   "metadata": {},
   "source": [
    "#### In order to read the file line by line and store it in a List, we can use `readlines()` function:\n",
    "```Python\n",
    "file.readlines()\n",
    "```"
   ]
  },
  {
   "cell_type": "code",
   "execution_count": 8,
   "id": "75dd8448-c7d9-4ebc-9bbe-0a7a970d706e",
   "metadata": {},
   "outputs": [
    {
     "data": {
      "text/plain": [
       "[]"
      ]
     },
     "execution_count": 8,
     "metadata": {},
     "output_type": "execute_result"
    }
   ],
   "source": [
    "# Try it yourself...\n",
    "file.readlines()"
   ]
  },
  {
   "cell_type": "markdown",
   "id": "3d6875e0-2bb5-4a6d-9d8d-2f94bc2f2921",
   "metadata": {},
   "source": [
    "## Creating a file in Python\n",
    "\n",
    "In Python, you can create a new file using the `open()` function with the mode set to \"w\" for write. If the file does not exist, it will be created. If it already exists, its contents will be truncated (erased).\n",
    "\n",
    "```python\n",
    "# Creating a new file\n",
    "new_file = open(\"example.txt\", \"w\")\n",
    "new_file.close()\n",
    "```"
   ]
  },
  {
   "cell_type": "code",
   "execution_count": 9,
   "id": "c2687c01-4dc7-4afd-9c27-b619a11bd482",
   "metadata": {},
   "outputs": [],
   "source": [
    "# Try it yourself...\n"
   ]
  },
  {
   "cell_type": "markdown",
   "id": "8653fb78-4cb0-44b5-9c9d-0a367bdc65d9",
   "metadata": {},
   "source": [
    "### File Locations\n",
    "\n",
    "If we want to open files at another location on our computer, we can simply pass in the entire path of that file.\n",
    "\n",
    "For Windows, you need to use double `\\` so that python doesn't treat the second `\\` as an escape character. So the file path is in the form:\n",
    "\n",
    "**_file = open(\"C:\\\\Users\\UserName\\\\FolderName\\\\test.txt\")_**\n",
    "\n",
    "For MacOS and Linux OS, you use slashes in the opposite direction like this:\n",
    "\n",
    "_**file = open(\"/Users/UserName/FolderName/test.txt\")**_"
   ]
  },
  {
   "cell_type": "markdown",
   "id": "d57cd2b5-8eb2-4628-b0cf-78cccebb6160",
   "metadata": {},
   "source": [
    "## Operations on Files (Open, Close, Read, Write)\n",
    "\n",
    "- `open()`: Opens a file for reading, writing, or appending.\n",
    "- `close()`: Closes the opened file to free up system resources.\n",
    "- `read()`: Reads the contents of the file.\n",
    "- `write()`: Writes data to the file.\n",
    "\n",
    "Example: Writing a file and then reading it\n",
    "\n",
    "```python\n",
    "file = open(\"example.txt\", \"w\")\n",
    "file.write(\"Hello, world!\")\n",
    "file.close()\n",
    "\n",
    "file = open(\"example.txt\", \"r\")\n",
    "content = file.read()\n",
    "file.close()\n",
    "print(content)\n",
    "```\n"
   ]
  },
  {
   "cell_type": "code",
   "execution_count": 10,
   "id": "5de3b0a7-464b-4248-9416-d7ef1b9bf00f",
   "metadata": {},
   "outputs": [],
   "source": [
    "# Try it yourself...\n"
   ]
  },
  {
   "cell_type": "markdown",
   "id": "07d9363a-bf96-4341-950a-e704413f47cf",
   "metadata": {},
   "source": [
    "#### Note:\n",
    "It is always a good practice to close a file after doing the required operations on it. If we don't close this file, it may cause some unwanted errors (for eg. we are trying to delete the same file using file explorer, but it will show an error that Python is still using this file)\n",
    "\n",
    "We can also a special `with` statement to avoid such errors and it looks like this:\n",
    "```Python\n",
    "# old way\n",
    "my_file = open('myfile.txt')\n",
    "\n",
    "# using `with` \n",
    "with open('myfile.txt') as my_file:\n",
    "    # indented block...\n",
    "    contents = my_file.read()\n",
    "\n",
    "# We now don't need to worry about closing the file!\n",
    "```"
   ]
  },
  {
   "cell_type": "code",
   "execution_count": 10,
   "id": "77501001-e444-4768-aae4-c8de10474175",
   "metadata": {},
   "outputs": [],
   "source": [
    "# Try it yourself...\n"
   ]
  },
  {
   "cell_type": "markdown",
   "id": "03557387-8c19-407c-9fe1-ba10e370a64f",
   "metadata": {},
   "source": [
    "## File Object Attributes\n",
    "\n",
    "Python file objects have various attributes, including:\n",
    "\n",
    "- `name`: The name of the file.\n",
    "- `mode`: The mode in which the file is opened.\n",
    "- `closed`: A boolean indicating if the file is closed.\n",
    "\n",
    "Example:\n",
    "\n",
    "```python\n",
    "file = open(\"example.txt\", \"r\")\n",
    "print(\"File Name:\", file.name)\n",
    "print(\"File Mode:\", file.mode)\n",
    "print(\"Is File Closed?\", file.closed)\n",
    "file.close()\n",
    "```\n"
   ]
  },
  {
   "cell_type": "code",
   "execution_count": 11,
   "id": "b57d4e8a-fd0e-4ccd-8f33-968cf895446a",
   "metadata": {},
   "outputs": [],
   "source": [
    "# Try it yourself...\n"
   ]
  },
  {
   "cell_type": "markdown",
   "id": "41346271-b82e-4a4d-b597-71b90d1b79c1",
   "metadata": {},
   "source": [
    "## File Positions\n",
    "\n",
    "You can use the `seek()` method to change the file position (cursor) within the file. The `tell()` method returns the current position.\n",
    "\n",
    "Example:\n",
    "\n",
    "```python\n",
    "file = open(\"example.txt\", \"r\")\n",
    "file.seek(7)  # Move the cursor to the 7th character\n",
    "position = file.tell()  # Get the current position\n",
    "data = file.read()\n",
    "file.close()\n",
    "print(\"Current Position:\", position)\n",
    "print(\"Data from Position:\", data)\n",
    "```\n"
   ]
  },
  {
   "cell_type": "code",
   "execution_count": null,
   "id": "6da84604-9bd6-40b4-aa04-ab95d50bd449",
   "metadata": {},
   "outputs": [],
   "source": [
    "# Try it yourself...\n"
   ]
  },
  {
   "cell_type": "markdown",
   "id": "ef082de5-d9f9-448f-8c0d-0bf4ec3abcc3",
   "metadata": {},
   "source": [
    "## File Modes in Python\n",
    "\n",
    "File modes are used to specify the operations you can perform on a file when you open it. Python provides several modes that allow you to perform various operations on files. Here are the most common file modes:\n",
    "\n",
    "1. **Read Mode (`'r'`):**\n",
    "\n",
    "   - `'r'`: Open the file for reading (default mode).\n",
    "   - The file pointer is placed at the beginning of the file.\n",
    "   - If the file doesn't exist, it raises a `FileNotFoundError`.\n",
    "\n",
    "   Example:\n",
    "\n",
    "   ```python\n",
    "   file = open(\"example.txt\", \"r\")\n",
    "   content = file.read()\n",
    "   file.close()\n",
    "   ```\n",
    "\n",
    "2. **Write Mode (`'w'`):**\n",
    "\n",
    "   - `'w'`: Open the file for writing. If the file exists, its contents are truncated (erased). If it doesn't exist, a new file is created.\n",
    "   - The file pointer is placed at the beginning of the file.\n",
    "   - If the file doesn't exist, Python will create it.\n",
    "\n",
    "   Example:\n",
    "\n",
    "   ```python\n",
    "   file = open(\"example.txt\", \"w\")\n",
    "   file.write(\"Hello, world!\")\n",
    "   file.close()\n",
    "   ```\n",
    "\n",
    "3. **Append Mode (`'a'`):**\n",
    "\n",
    "   - `'a'`: Open the file for writing. If the file exists, new data is appended to the end of the file. If it doesn't exist, a new file is created.\n",
    "   - The file pointer is placed at the end of the file.\n",
    "   - If the file doesn't exist, Python will create it.\n",
    "\n",
    "   Example:\n",
    "\n",
    "   ```python\n",
    "   file = open(\"example.txt\", \"a\")\n",
    "   file.write(\"Appending some data.\")\n",
    "   file.close()\n",
    "   ```\n",
    "\n",
    "4. **Binary Mode (`'b'`):**\n",
    "\n",
    "   - When used in conjunction with the other modes (e.g., `'rb'` or `'wb'`), it indicates that the file should be opened in binary mode. Binary mode is used for non-text files like images or executables.\n",
    "\n",
    "   Example:\n",
    "\n",
    "   ```python\n",
    "   image = open(\"image.png\", \"rb\")\n",
    "   data = image.read()\n",
    "   image.close()\n",
    "   ```\n",
    "\n",
    "5. **Text Mode (`'t'`):**\n",
    "\n",
    "   - When used in conjunction with the other modes (e.g., `'rt'` or `'wt'`), it indicates that the file should be opened in text mode (default). Text mode is used for text files and handles character encoding.\n",
    "\n",
    "   Example:\n",
    "\n",
    "   ```python\n",
    "   text_file = open(\"text_file.txt\", \"rt\")\n",
    "   content = text_file.read()\n",
    "   text_file.close()\n",
    "   ```\n",
    "\n",
    "6. **Read and Write Mode (`'r+'`, `'w+'`, `'a+'`):**\n",
    "\n",
    "   - These modes allow you to open a file for both reading and writing.\n",
    "   - `'r+'`: Open the file for reading and writing without truncating it.\n",
    "   - `'w+'`: Open the file for reading and writing, truncating it if it exists.\n",
    "   - `'a+'`: Open the file for reading and writing, appending if it exists.\n",
    "\n",
    "   Example:\n",
    "\n",
    "   ```python\n",
    "   file = open(\"example.txt\", \"r+\")\n",
    "   content = file.read()\n",
    "   file.write(\"Adding some new content.\")\n",
    "   file.close()\n",
    "   ```\n",
    "\n",
    "These file modes provide flexibility in how you can interact with files in Python, allowing you to perform tasks like reading, writing, appending, and more, depending on your requirements. Remember to use the appropriate mode for your intended file operation and handle files within a `with` statement for proper resource management."
   ]
  },
  {
   "cell_type": "code",
   "execution_count": 20,
   "id": "532f79bc-30e5-4992-97ee-54c219135470",
   "metadata": {},
   "outputs": [],
   "source": [
    "# Try it yourself...\n",
    "\n",
    "\n"
   ]
  },
  {
   "cell_type": "markdown",
   "id": "0f67a078-0f33-4acc-b6e1-2889b2469a7d",
   "metadata": {},
   "source": [
    "## <font color='red'><strong>Use caution!</strong></font>\n",
    "Opening a file with `'w'` or `'w+'` truncates the original file, meaning that anything that was in the original file **is deleted**."
   ]
  }
 ],
 "metadata": {
  "kernelspec": {
   "display_name": "Python 3 (ipykernel)",
   "language": "python",
   "name": "python3"
  },
  "language_info": {
   "codemirror_mode": {
    "name": "ipython",
    "version": 3
   },
   "file_extension": ".py",
   "mimetype": "text/x-python",
   "name": "python",
   "nbconvert_exporter": "python",
   "pygments_lexer": "ipython3",
   "version": "3.11.4"
  }
 },
 "nbformat": 4,
 "nbformat_minor": 5
}
