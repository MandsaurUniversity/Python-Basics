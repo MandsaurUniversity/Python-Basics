{
 "cells": [
  {
   "cell_type": "markdown",
   "id": "ec1f8b36-bb19-42d8-8de3-661472fdc7c7",
   "metadata": {},
   "source": [
    "___\n",
    "\n",
    "<p align=\"center\"><center><a href='https://github.com/MandsaurUniversity/'><img src='../MU_Logo.png'/></a></center></p>\n",
    "<p align=\"center\"><center><strong>Mandsaur University</strong><center></p>\n",
    "\n",
    "___"
   ]
  },
  {
   "cell_type": "markdown",
   "id": "dbd52203-5b69-4ef1-9ef4-8b9e08f2956e",
   "metadata": {},
   "source": [
    "# Working with CSV Files and CSV Module\n",
    "\n",
    "Working with CSV (Comma-Separated Values) files is a common task in data processing and analysis. CSV files are plain text files that store tabular data with each row representing a record and each column representing a field. Python provides the `csv` module to make it easy to read from and write to CSV files.\n",
    "\n",
    "Let's explore how to work with CSV files using the `csv` module in Python.\n",
    "\n",
    "## Reading from a CSV File\n",
    "\n",
    "You can read data from a CSV file using the `csv.reader()` object. Here's an example:\n",
    "\n",
    "Suppose you have a CSV file named \"data.csv\" with the following content:\n",
    "\n",
    "```csv\n",
    "Name,Age\n",
    "Saurabh,21\n",
    "Dinesh,23\n",
    "Rishi,32\n",
    "```\n",
    "\n",
    "You can read this file as follows:\n",
    "\n",
    "```python\n",
    "import csv\n",
    "\n",
    "with open(\"data.csv\", \"r\") as file:\n",
    "    csv_reader = csv.reader(file)\n",
    "    for row in csv_reader:\n",
    "        print(row)\n",
    "```\n",
    "\n",
    "The output will be:\n",
    "\n",
    "```python\n",
    "['Name', 'Age']\n",
    "['Saurabh', '21']\n",
    "['Dinesh', '23']\n",
    "['Rishi', '32']\n",
    "```\n",
    "\n",
    "The `csv.reader()` object automatically splits each line of the CSV file into a list of values based on the commas."
   ]
  },
  {
   "cell_type": "code",
   "execution_count": 1,
   "id": "92c2025a-d2fc-4d9d-8975-4e9475881c55",
   "metadata": {},
   "outputs": [],
   "source": [
    "# Try it yourself...\n"
   ]
  },
  {
   "cell_type": "markdown",
   "id": "9c03a0a2-6348-4886-bf1a-27239a96f64c",
   "metadata": {},
   "source": [
    "## Writing to a CSV File\n",
    "\n",
    "To write data to a CSV file, you can use the `csv.writer()` object. Here's an example:\n",
    "\n",
    "```python\n",
    "import csv\n",
    "\n",
    "data = [\n",
    "    ['Name', 'Age']\n",
    "    ['Sandeepa', '21']\n",
    "    ['Kavya', '26']\n",
    "    ['Roshni', '20']\n",
    "]\n",
    "\n",
    "with open(\"output.csv\", \"w\", newline=\"\") as file:\n",
    "    csv_writer = csv.writer(file)\n",
    "    csv_writer.writerows(data)\n",
    "```\n",
    "\n",
    "This code will create a new file named \"output.csv\" with the data you provided in tabular form.\n"
   ]
  },
  {
   "cell_type": "code",
   "execution_count": 2,
   "id": "970ef766-d891-4375-96a7-1e56ff16c41b",
   "metadata": {},
   "outputs": [],
   "source": [
    "# Try it yourself...\n"
   ]
  },
  {
   "cell_type": "markdown",
   "id": "8be1c1a5-47e3-48d1-8e22-49566afd11e7",
   "metadata": {},
   "source": [
    "## Working with CSV Dictionaries\n",
    "\n",
    "Sometimes, it's more convenient to work with CSV data as dictionaries, where the column headers serve as keys. You can use the `csv.DictReader()` and `csv.DictWriter()` objects for this purpose.\n",
    "\n",
    "Here's how to read a CSV file into a list of dictionaries:\n",
    "\n",
    "```python\n",
    "import csv\n",
    "\n",
    "with open(\"data.csv\", \"r\") as file:\n",
    "    csv_reader = csv.DictReader(file)\n",
    "    for row in csv_reader:\n",
    "        print(row)\n",
    "```\n",
    "\n",
    "The output will be a list of dictionaries:\n",
    "\n",
    "```python\n",
    "{'Name': 'Anupam', 'Age': '30'}\n",
    "{'Name': 'Bunty', 'Age': '25'}\n",
    "{'Name': 'Chitra', 'Age': '35'}\n",
    "```\n",
    "\n",
    "And to write data from a list of dictionaries to a CSV file:\n",
    "\n",
    "```python\n",
    "import csv\n",
    "\n",
    "data = [\n",
    "    {\"Name\": \"Anupam\", \"Age\": 30},\n",
    "    {\"Name\": \"Bunty\", \"Age\": 25},\n",
    "    {\"Name\": \"Chitra\", \"Age\": 35}\n",
    "]\n",
    "\n",
    "with open(\"output.csv\", \"w\", newline=\"\") as file:\n",
    "    fieldnames = [\"Name\", \"Age\"]\n",
    "    csv_writer = csv.DictWriter(file, fieldnames=fieldnames)\n",
    "    csv_writer.writeheader()\n",
    "    csv_writer.writerows(data)\n",
    "```\n",
    "\n",
    "This code will create a new CSV file with the data stored as dictionaries.\n",
    "\n",
    "The `csv` module provides various other options and parameters for handling different CSV formats, delimiter characters, quoting, and more. Whether you're working with small datasets or large-scale data processing, the `csv` module in Python is a powerful tool for reading and writing CSV files efficiently."
   ]
  },
  {
   "cell_type": "code",
   "execution_count": 3,
   "id": "e6f1e5ff-a599-451d-838a-83017483d21f",
   "metadata": {},
   "outputs": [],
   "source": [
    "# Try it yourself...\n"
   ]
  }
 ],
 "metadata": {
  "kernelspec": {
   "display_name": "Python 3 (ipykernel)",
   "language": "python",
   "name": "python3"
  },
  "language_info": {
   "codemirror_mode": {
    "name": "ipython",
    "version": 3
   },
   "file_extension": ".py",
   "mimetype": "text/x-python",
   "name": "python",
   "nbconvert_exporter": "python",
   "pygments_lexer": "ipython3",
   "version": "3.11.4"
  }
 },
 "nbformat": 4,
 "nbformat_minor": 5
}
