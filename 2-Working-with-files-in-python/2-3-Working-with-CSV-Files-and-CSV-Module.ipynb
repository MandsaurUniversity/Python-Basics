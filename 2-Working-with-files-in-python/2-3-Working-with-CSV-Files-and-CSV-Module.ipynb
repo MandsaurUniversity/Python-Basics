{
 "cells": [
  {
   "cell_type": "markdown",
   "id": "ec1f8b36-bb19-42d8-8de3-661472fdc7c7",
   "metadata": {},
   "source": [
    "___\n",
    "\n",
    "<p align=\"center\"><center><a href='https://github.com/MandsaurUniversity/'><img src='../MU_Logo.png'/></a></center></p>\n",
    "<p align=\"center\"><center><strong>Mandsaur University</strong><center></p>\n",
    "\n",
    "___"
   ]
  },
  {
   "cell_type": "markdown",
   "id": "dbd52203-5b69-4ef1-9ef4-8b9e08f2956e",
   "metadata": {},
   "source": [
    "# Working with CSV Files and CSV Module\n",
    "\n",
    "\n",
    "A CSV file is like a plain text table that holds data with commas between the values. Unlike Excel files, CSV files are very basic. They don't have special formatting like fonts or colors, and all their data is treated as simple text. CSV files also don't have multiple sheets like Excel does. If you want to work with Excel files using Python, there are some libraries you can explore http://www.python-excel.org/ and https://www.xlwings.org/ .\n",
    "\n",
    "Working with CSV (Comma-Separated Values) files is a common task in data processing and analysis. CSV files are plain text files that store tabular data with each row representing a record and each column representing a field. Python provides the `csv` module to make it easy to read from and write to CSV files.\n",
    "\n",
    "Let's explore how to work with CSV files using the `csv` module in Python.\n",
    "\n",
    "## Reading from a CSV File\n",
    "\n",
    "You can read data from a CSV file using the `csv.reader()` object. Here's an example:\n",
    "\n",
    "Suppose you have a CSV file named \"data.csv\" with the following content:\n",
    "\n",
    "```csv\n",
    "Name,Age\n",
    "Saurabh,21\n",
    "Dinesh,23\n",
    "Rishi,32\n",
    "```\n",
    "\n",
    "You can read this file as follows:\n",
    "\n",
    "```python\n",
    "import csv\n",
    "\n",
    "with open(\"data.csv\", \"r\") as file:\n",
    "    csv_reader = csv.reader(file)\n",
    "    for row in csv_reader:\n",
    "        print(row)\n",
    "```\n",
    "\n",
    "The output will be:\n",
    "\n",
    "```python\n",
    "['Name', 'Age']\n",
    "['Saurabh', '21']\n",
    "['Dinesh', '23']\n",
    "['Rishi', '32']\n",
    "```\n",
    "\n",
    "The `csv.reader()` object automatically splits each line of the CSV file into a list of values based on the commas.\n",
    "\n",
    " "
   ]
  },
  {
   "cell_type": "code",
   "execution_count": 8,
   "id": "92c2025a-d2fc-4d9d-8975-4e9475881c55",
   "metadata": {},
   "outputs": [],
   "source": [
    "# Try it yourself...\n"
   ]
  },
  {
   "cell_type": "markdown",
   "id": "48eb0fac-4034-4036-840f-0d8147d9cf8b",
   "metadata": {},
   "source": [
    "### Encoding\n",
    "\n",
    "Often csv files may contain characters that you can't interpret with standard python, this could be something like an **@** symbol, or even foreign characters. Let's view an example of this sort of error.\n",
    "\n",
    "So it is always a good practice to try reading it with a \"utf-8\" encoding.\n",
    "\n",
    "```Python\n",
    "import csv\n",
    "\n",
    "data = open('sample.csv',encoding=\"utf-8\")\n",
    "csv_data = csv.reader(data)\n",
    "data_lines = list(csv_data)\n",
    "data_lines[:3]\n",
    "data.close()\n",
    "```"
   ]
  },
  {
   "cell_type": "code",
   "execution_count": 7,
   "id": "aca93fa1-63c2-41c5-b2d6-fd7822067079",
   "metadata": {},
   "outputs": [],
   "source": [
    "# Try it yourself...\n"
   ]
  },
  {
   "cell_type": "markdown",
   "id": "0f9ff8cb-6f39-408e-97e8-e350b9f5a12d",
   "metadata": {},
   "source": [
    "Note the first item in the list is the header line, this contains the information about what each column represents. Let's format our printing just a bit:\n",
    "\n",
    "```Python\n",
    "for line in data_lines[:5]:\n",
    "    print(line)\n",
    "```"
   ]
  },
  {
   "cell_type": "code",
   "execution_count": 6,
   "id": "3a76bd24-646e-460e-b6b0-375689f207b6",
   "metadata": {},
   "outputs": [],
   "source": [
    "# Try it yourself...\n"
   ]
  },
  {
   "cell_type": "markdown",
   "id": "9c03a0a2-6348-4886-bf1a-27239a96f64c",
   "metadata": {},
   "source": [
    "## Writing to a CSV File\n",
    "\n",
    "To write data to a CSV file, you can use the `csv.writer()` object. Here's an example:\n",
    "\n",
    "```python\n",
    "import csv\n",
    "\n",
    "data = [\n",
    "    ['Name', 'Age']\n",
    "    ['Sandeepa', '21']\n",
    "    ['Kavya', '26']\n",
    "    ['Roshni', '20']\n",
    "]\n",
    "\n",
    "with open(\"output.csv\", \"w\", newline=\"\") as file:\n",
    "    csv_writer = csv.writer(file)\n",
    "    csv_writer.writerows(data)\n",
    "```\n",
    "\n",
    "This code will create a new file named \"output.csv\" with the data you provided in tabular form.\n"
   ]
  },
  {
   "cell_type": "code",
   "execution_count": 10,
   "id": "970ef766-d891-4375-96a7-1e56ff16c41b",
   "metadata": {},
   "outputs": [],
   "source": [
    "# Try it yourself...\n"
   ]
  },
  {
   "cell_type": "markdown",
   "id": "29ebf150-cd12-4f83-8fe8-ec78c4bd0bf8",
   "metadata": {},
   "source": [
    "Let's imagine we wanted a list of  all the emails. For demonstration, since there are 50 items plus the header, we will only do a few rows.\n",
    "```Python\n",
    "len(data_lines)\n",
    "```\n",
    "\n",
    "Now, let's print all of the emails in a list format:\n",
    "\n",
    "```Python\n",
    "all_emails = []\n",
    "for line in data_lines[1:15]:\n",
    "    all_emails.append(line[3])\n",
    "```\n",
    "\n",
    "What if we want to show a list of full"
   ]
  },
  {
   "cell_type": "markdown",
   "id": "8be1c1a5-47e3-48d1-8e22-49566afd11e7",
   "metadata": {},
   "source": [
    "## Working with CSV Dictionaries\n",
    "\n",
    "Sometimes, it's more convenient to work with CSV data as dictionaries, where the column headers serve as keys. You can use the `csv.DictReader()` and `csv.DictWriter()` objects for this purpose.\n",
    "\n",
    "Here's how to read a CSV file into a list of dictionaries:\n",
    "\n",
    "```python\n",
    "import csv\n",
    "\n",
    "with open(\"data.csv\", \"r\") as file:\n",
    "    csv_reader = csv.DictReader(file)\n",
    "    for row in csv_reader:\n",
    "        print(row)\n",
    "```\n",
    "\n",
    "The output will be a list of dictionaries:\n",
    "\n",
    "```python\n",
    "{'Name': 'Anupam', 'Age': '30'}\n",
    "{'Name': 'Bunty', 'Age': '25'}\n",
    "{'Name': 'Chitra', 'Age': '35'}\n",
    "```\n",
    "\n",
    "And to write data from a list of dictionaries to a CSV file:\n",
    "\n",
    "```python\n",
    "import csv\n",
    "\n",
    "data = [\n",
    "    {\"Name\": \"Anupam\", \"Age\": 30},\n",
    "    {\"Name\": \"Bunty\", \"Age\": 25},\n",
    "    {\"Name\": \"Chitra\", \"Age\": 35}\n",
    "]\n",
    "\n",
    "with open(\"output.csv\", \"w\", newline=\"\") as file:\n",
    "    fieldnames = [\"Name\", \"Age\"]\n",
    "    csv_writer = csv.DictWriter(file, fieldnames=fieldnames)\n",
    "    csv_writer.writeheader()\n",
    "    csv_writer.writerows(data)\n",
    "```\n",
    "\n",
    "This code will create a new CSV file with the data stored as dictionaries.\n",
    "\n",
    "The `csv` module provides various other options and parameters for handling different CSV formats, delimiter characters, quoting, and more. Whether you're working with small datasets or large-scale data processing, the `csv` module in Python is a powerful tool for reading and writing CSV files efficiently."
   ]
  },
  {
   "cell_type": "code",
   "execution_count": 3,
   "id": "e6f1e5ff-a599-451d-838a-83017483d21f",
   "metadata": {},
   "outputs": [],
   "source": [
    "# Try it yourself...\n"
   ]
  }
 ],
 "metadata": {
  "kernelspec": {
   "display_name": "Python 3 (ipykernel)",
   "language": "python",
   "name": "python3"
  },
  "language_info": {
   "codemirror_mode": {
    "name": "ipython",
    "version": 3
   },
   "file_extension": ".py",
   "mimetype": "text/x-python",
   "name": "python",
   "nbconvert_exporter": "python",
   "pygments_lexer": "ipython3",
   "version": "3.11.4"
  }
 },
 "nbformat": 4,
 "nbformat_minor": 5
}
