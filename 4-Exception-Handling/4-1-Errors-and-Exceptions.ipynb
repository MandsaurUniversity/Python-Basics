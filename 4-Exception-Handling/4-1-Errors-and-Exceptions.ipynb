{
 "cells": [
  {
   "cell_type": "markdown",
   "id": "3dd818bb-5794-446d-b0d8-236953f36d8f",
   "metadata": {},
   "source": [
    "___\n",
    "\n",
    "<p align=\"center\"><center><a href='https://github.com/MandsaurUniversity/'><img src='../MU_Logo.png'/></a></center></p>\n",
    "<p align=\"center\"><center><strong>Mandsaur University</strong><center></p>\n",
    "\n",
    "___"
   ]
  },
  {
   "cell_type": "markdown",
   "id": "0cc3f735-67dc-4cb8-ba16-ea4ecb6aec5f",
   "metadata": {},
   "source": [
    "# Errors and Exception Handling\n",
    "\n",
    "- Errors are bound to happen in your code!\n",
    "- Especially when someone else ends up using it in an unexpected way.\n",
    "- We can use error handling to attempt to plan for possible errors.\n",
    "\n",
    "#### For example:\n",
    "- Maybe in some part of your code, you try to open up a file that was only opened in mode='r'\n",
    "- Currently, if there's any sort of error inside our programs, the entire script is going to stop and we get back some sort of error statement.\n",
    "- We can use **Error Handling** to let the script continue with the other code and report the error.\n",
    "- So even if there's an error, the code will report the error and continue on.\n",
    "\n",
    "#### For handling exceptions, we use three keywords - try, except & finally\n",
    "- **try:** This is the block of code to be attempted (may lead to an error)\n",
    "- **except:** This block of code will execute in case there is an error in **try** block\n",
    "- **finally:** A final block of code to be executed, regardless of an error.\n",
    "---\n",
    "In this lesson, we will explore the topic of Errors and Exception Handling in Python. By now, you've likely encountered errors during your lectures. Consider the following example:\n",
    "\n",
    "```python\n",
    "print('Hello)\n",
    "```\n",
    "**Task:** Copy the code mentioned above in the cell below and try running it."
   ]
  },
  {
   "cell_type": "markdown",
   "id": "83f88388-8b65-4ac1-b836-a543d6b40963",
   "metadata": {},
   "source": []
  },
  {
   "cell_type": "code",
   "execution_count": 8,
   "id": "7963029e-5906-4c92-8143-26a9f24c46dd",
   "metadata": {},
   "outputs": [],
   "source": [
    "# Copy and paste the above line here and run this cell...\n"
   ]
  },
  {
   "cell_type": "markdown",
   "id": "97d24189-1dd0-4386-b1bf-05a8d60072e1",
   "metadata": {},
   "source": [
    "This results in a SyntaxError, specifically an EOL (End of Line Error) while scanning the string literal. The error description is precise, indicating that a single quote is missing at the end of the line. Understanding these error types is crucial for efficient debugging.\n",
    "\n",
    "These errors and their descriptions fall under the category of Exceptions. Even if a statement is syntactically correct, it may still lead to an error during execution. Such errors, detected during execution, are called exceptions and are not always fatal.\n",
    "\n",
    "To explore a comprehensive list of built-in exceptions, you can refer to the [official documentation](https://docs.python.org/3/library/exceptions.html). Now, let's delve into how to handle errors and exceptions in our own code.\n",
    "\n",
    "## try and except\n",
    "\n",
    "The fundamental concepts and syntax for handling errors in Python involve the `try` and `except` statements. The code that might cause an exception is placed in the `try` block, and the handling of the exception is implemented in the `except` block. The syntax is as follows:\n",
    "\n",
    "```python\n",
    "try:\n",
    "    # Your operations here...\n",
    "    ...\n",
    "except ExceptionI:\n",
    "    # If there is ExceptionI, execute this block.\n",
    "except ExceptionII:\n",
    "    # If there is ExceptionII, execute this block.\n",
    "    ...\n",
    "else:\n",
    "    # If there is no exception, execute this block.\n",
    "```\n",
    "You can also check for any exception using `except:` without specifying a particular exception. Let's consider an example where we open and write to a file:\n",
    "\n",
    "```python\n",
    "try:\n",
    "    f = open('testfile', 'w')\n",
    "    f.write('Test write this')\n",
    "except IOError:\n",
    "    print(\"Error: Could not find file or read data\")\n",
    "else:\n",
    "    print(\"Content written successfully\")\n",
    "    f.close()\n",
    "```\n",
    "\n",
    "**Task:** Copy the code mentioned above in the cell below and run it."
   ]
  },
  {
   "cell_type": "code",
   "execution_count": 9,
   "id": "50cb15fc-aff5-421a-836e-4650fda0cce2",
   "metadata": {},
   "outputs": [],
   "source": [
    "# Copy and paste the above line here and run this cell...\n"
   ]
  },
  {
   "cell_type": "markdown",
   "id": "0c31154b-5606-4ca1-9ac9-8a97e1ad5641",
   "metadata": {},
   "source": [
    "Now, let's examine a scenario where we do not have write permission (opening only with 'r'):\n",
    "\n",
    "```python\n",
    "try:\n",
    "    f = open('testfile', 'r')\n",
    "    f.write('Test write this')\n",
    "except IOError:\n",
    "    print(\"Error: Could not find file or read data\")\n",
    "else:\n",
    "    print(\"Content written successfully\")\n",
    "    f.close()\n",
    "```\n",
    "**Task:** Copy the code mentioned above in the cell below and run it."
   ]
  },
  {
   "cell_type": "code",
   "execution_count": 10,
   "id": "d998adaa-21a5-4aea-a7d4-40bedc3596d0",
   "metadata": {},
   "outputs": [],
   "source": [
    "# Copy and paste the above line here and run this cell...\n"
   ]
  },
  {
   "cell_type": "markdown",
   "id": "5b044de8-7d05-4bfe-b873-df36117b5c3e",
   "metadata": {},
   "source": [
    "Even if an exception occurs, notice how we printed a statement and continued executing subsequent code blocks. This is beneficial for handling potential input errors in your code.\n",
    "\n",
    "You could use a generic `except:` if you are unsure about the specific exception:\n",
    "\n",
    "```python\n",
    "try:\n",
    "    f = open('testfile', 'r')\n",
    "    f.write('Test write this')\n",
    "except:\n",
    "    print(\"Error: Could not find file or read data\")\n",
    "else:\n",
    "    print(\"Content written successfully\")\n",
    "    f.close()\n",
    "```\n",
    "**Task:** Copy the code mentioned above in the cell below and run it."
   ]
  },
  {
   "cell_type": "code",
   "execution_count": 11,
   "id": "ab87acbd-338e-4b98-a215-079a048a1f2b",
   "metadata": {},
   "outputs": [],
   "source": [
    "# Copy and paste the above line here and run this cell...\n"
   ]
  },
  {
   "cell_type": "markdown",
   "id": "00f75ebb-99fe-49f3-9920-1185a5f471fd",
   "metadata": {},
   "source": [
    "Now, you don't need to memorize a list of exception types. But what if you want to continue running code after an exception occurs? This is where `finally` comes in.\n",
    "\n",
    "## finally\n",
    "\n",
    "The `finally:` block of code will always run, regardless of whether there was an exception in the `try` block. The syntax is:\n",
    "\n",
    "```python\n",
    "try:\n",
    "    # Code block here\n",
    "    ...\n",
    "    # Due to any exception, this code may be skipped!\n",
    "finally:\n",
    "    # This code block would always be executed.\n",
    "```\n",
    "\n",
    "**Task:** Copy the code mentioned above in the cell below and run it."
   ]
  },
  {
   "cell_type": "code",
   "execution_count": 12,
   "id": "94c56d98-a673-477e-a312-ef9ea21b8fed",
   "metadata": {},
   "outputs": [],
   "source": [
    "# Copy and paste the above line here and run this cell...\n"
   ]
  },
  {
   "cell_type": "markdown",
   "id": "b3f275d2-7c77-4161-9740-773b1c57a097",
   "metadata": {},
   "source": [
    "For instance:\n",
    "\n",
    "```python\n",
    "try:\n",
    "    f = open(\"testfile\", \"w\")\n",
    "    f.write(\"Test write statement\")\n",
    "    f.close()\n",
    "finally:\n",
    "    print(\"Always execute finally code blocks\")\n",
    "```\n",
    "\n",
    "**Task:** Copy the code mentioned above in the cell below and run it."
   ]
  },
  {
   "cell_type": "code",
   "execution_count": 13,
   "id": "171d8608-333a-4cae-9146-12d2f747db29",
   "metadata": {},
   "outputs": [],
   "source": [
    "# Copy and paste the above line here and run this cell...\n"
   ]
  },
  {
   "cell_type": "markdown",
   "id": "ee8d9bcb-c0f0-41ac-a974-9c2b040c9816",
   "metadata": {},
   "source": [
    "You can use `finally` in conjunction with `except`. Let's explore an example that considers a user providing the wrong input:\n",
    "\n",
    "```python\n",
    "def askint():\n",
    "    try:\n",
    "        val = int(input(\"Please enter an integer: \"))\n",
    "    except:\n",
    "        print(\"Looks like you did not enter an integer!\")\n",
    "    finally:\n",
    "        print(\"Finally, I executed!\")\n",
    "    print(val)\n",
    "```\n",
    "**Task:** Copy the code mentioned above in the cell below and run the askint() function."
   ]
  },
  {
   "cell_type": "code",
   "execution_count": 14,
   "id": "5ff1ca43-cf4b-4096-98df-850edcc86edf",
   "metadata": {},
   "outputs": [],
   "source": [
    "# Copy and paste the above line here and run this cell...\n"
   ]
  },
  {
   "cell_type": "markdown",
   "id": "c54da626-9358-4d9a-a1c8-6cc265b094bd",
   "metadata": {},
   "source": [
    "Notice how we got an error when trying to print val (because it was never properly assigned). Let's remedy this by asking the user and checking to make sure the input type is an integer:\n",
    "\n",
    "```python\n",
    "def askint():\n",
    "    try:\n",
    "        val = int(input(\"Please enter an integer: \"))\n",
    "    except:\n",
    "        print(\"Looks like you did not enter an integer!\")\n",
    "        val = int(input(\"Try again-Please enter an integer: \"))\n",
    "    finally:\n",
    "        print(\"Finally, I executed!\")\n",
    "    print(val)\n",
    "```\n",
    "**Task:** Copy the code mentioned above in the cell below and run the askint() function.\n"
   ]
  },
  {
   "cell_type": "code",
   "execution_count": 15,
   "id": "b5571969-f27c-4e57-a075-f7181cad7440",
   "metadata": {},
   "outputs": [],
   "source": [
    "# Copy and paste the above line here and run this cell...\n"
   ]
  },
  {
   "cell_type": "markdown",
   "id": "c12d3e75-4514-4647-8bfa-1198cda8deea",
   "metadata": {},
   "source": [
    "So, why did our function consistently print \"Finally, I executed!\" after each trial, yet it never printed `val` itself? This occurs because, with a try/except/finally clause, any continue or break statements are deferred until after the try clause completes. Consequently, even though a successful input of 3 led us to the else: block, and a break statement was triggered, the try clause persisted until finally: before breaking out of the while loop. As print(val) was located outside the try clause, the break statement hindered its execution.\n",
    "\n",
    "Let's make one final adjustment:"
   ]
  },
  {
   "cell_type": "markdown",
   "id": "ce180a3c-907b-4b37-9b5f-729fd71096f0",
   "metadata": {},
   "source": [
    "---\n",
    "## _For instructor:_\n",
    "\n",
    "Let's start off by actually viewing an example of some error that may occur.\n",
    "\n",
    "Let's imagine that we have a very simple function.\n",
    "\n",
    "Some ADD function takes an and one and two, and then what it does, it just prints out the sum of them.\n",
    "\n",
    "```python\n",
    "def add(n1,n2):\n",
    "    print(n1+n2)\n",
    "\n",
    "add(20,30)\n",
    "\n",
    "number1 = 20\n",
    "number2 = input(\"Please provide a number: \")\n",
    "\n",
    "add(number1, number2)\n",
    "\n",
    "print(\"Voila! We have reached this line in execution!\")\n",
    "\n",
    "```\n",
    "So when I run this it says, hey, you have a type error.\n",
    "\n",
    "recall that when you call the input function 20 here is actually a string.\n",
    "\n",
    "To avoid this, we can use something like this:\n",
    "```python\n",
    "try:\n",
    "    # We want to attempt this code which might have an error\n",
    "    result = 10 + '10'\n",
    "except:\n",
    "    print(\"The parameters provided to add operator doesn't look right\")\n",
    "else:\n",
    "    print(\"Addition went well. Result is: \")\n",
    "    print(result)\n",
    "```\n",
    "\n",
    "Now see the finally code in working!\n",
    "```python\n",
    "try:\n",
    "    f = open('testfile','w')   # we'll change the mode to 'r' later to impose an error\n",
    "    f.write(\"Writing a test line...\")\n",
    "except TypeError:\n",
    "    print(\"Type erroroccured! Check again.\")\n",
    "except OSError:\n",
    "    print(\"Hi, you have an OS Error\")\n",
    "except:\n",
    "    print(\"Some other exception occured\")\n",
    "finally:\n",
    "    print(\"I always run\")\n",
    "```\n",
    "To check different errors that could occur, go to URL: https://docs.python.org/3/tutorial/errors.html#exceptions\n",
    "\n",
    "Now, let's try one more example:\n",
    "```python\n",
    "def ask_for_int():\n",
    "    try:\n",
    "        result = int(input(\"Enter a number: \"))\n",
    "    except:\n",
    "        print(\"That's not a number!\")\n",
    "    finally\n",
    "        print(\"try/except/finally block ends here...\")\n",
    "ask_for_int()\n",
    "```\n",
    "\n",
    "Lastly, try to get input under a while loop.\n",
    "\n",
    "```python\n",
    "def ask_for_int():\n",
    "    while True:\n",
    "        try:\n",
    "            result = int(input(\"Enter a number: \"))\n",
    "        except:\n",
    "            print(\"That's not a number!\")\n",
    "        else:\n",
    "            print(\"Great! thanks\")\n",
    "            break\n",
    "        finally\n",
    "            print(\"try/except/finally block ends here...\")\n",
    "ask_for_int()\n",
    "```\n"
   ]
  },
  {
   "cell_type": "code",
   "execution_count": null,
   "id": "f9c94936-b8f0-4574-8f94-beb8a357e4bb",
   "metadata": {},
   "outputs": [],
   "source": []
  }
 ],
 "metadata": {
  "kernelspec": {
   "display_name": "Python 3 (ipykernel)",
   "language": "python",
   "name": "python3"
  },
  "language_info": {
   "codemirror_mode": {
    "name": "ipython",
    "version": 3
   },
   "file_extension": ".py",
   "mimetype": "text/x-python",
   "name": "python",
   "nbconvert_exporter": "python",
   "pygments_lexer": "ipython3",
   "version": "3.11.4"
  }
 },
 "nbformat": 4,
 "nbformat_minor": 5
}
