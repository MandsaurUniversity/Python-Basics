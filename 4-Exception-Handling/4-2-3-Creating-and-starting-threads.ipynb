{
 "cells": [
  {
   "cell_type": "markdown",
   "id": "6eb6cfe7-99af-4821-9f71-b4df030c6b6b",
   "metadata": {},
   "source": [
    "___\n",
    "\n",
    "<p align=\"center\"><center><a href='https://github.com/MandsaurUniversity/'><img src='../MU_Logo.png'/></a></center></p>\n",
    "<p align=\"center\"><center><strong>Mandsaur University</strong><center></p>\n",
    "\n",
    "___"
   ]
  },
  {
   "cell_type": "markdown",
   "id": "8ec296cb-2a61-4e60-a670-f174545648d0",
   "metadata": {},
   "source": [
    "# Creating and starting threads\n",
    "\n",
    "## Creating simple thread\n",
    "\n",
    "**CreatingThreads1.py**\n",
    "\n",
    "```Python\n",
    "import threading\n",
    "\n",
    "# so the MainThread will run everything sequentially\n",
    "# all other threads are created by the MainThread (application thread)\n",
    "\n",
    "def count_operation():\n",
    "    for i in range(100):\n",
    "        print(threading.current_thread().getName() + ' - ' + str(i))\n",
    "\n",
    "# this is sequential execution - operations right after each other\n",
    "# count_operation()\n",
    "# count_operation()\n",
    "\n",
    "t1 = threading.Thread(target=count_operation, name='Ram')\n",
    "t2 = threading.Thread(target=count_operation, name='Shyam')\n",
    "\n",
    "t1.start()\n",
    "t2.start()\n",
    "\n",
    "```\n"
   ]
  },
  {
   "cell_type": "code",
   "execution_count": null,
   "id": "7955cfc0-2f9a-4269-828a-22531321c3d7",
   "metadata": {},
   "outputs": [],
   "source": [
    "#\n"
   ]
  },
  {
   "cell_type": "markdown",
   "id": "e190cd7a-ac7c-4a37-bc9b-726de18067b1",
   "metadata": {},
   "source": [
    "## Creating threads with inheritance\n",
    "In the previous example, we have seen how to create threads with the help of threading thread and we can do the same with the help of creating classes.\n",
    "\n",
    "So we are going to import the so called thread class from threading.\n",
    "\n",
    "**CreatingThreads2.py**\n",
    "\n",
    "```Python\n",
    "from threading import Thread\n",
    "\n",
    "class Counter(Thread):\n",
    "\n",
    "    def __init__(self, name):\n",
    "        Thread.__init__(self)\n",
    "        self.name = name\n",
    "\n",
    "    # we start a Thread this run() function will be called\n",
    "    def run(self):\n",
    "        for i in range(100):\n",
    "            print('%s thread is running: %s' % (self.name, str(i)))\n",
    "\n",
    "\n",
    "t1 = Counter('Thread #1')\n",
    "t2 = Counter('Thread #2')\n",
    "\n",
    "t1.start()\n",
    "t2.start()\n",
    "\n",
    "```\n"
   ]
  },
  {
   "cell_type": "code",
   "execution_count": 5,
   "id": "f0bf146d-4f18-4165-b1d8-45f594c24556",
   "metadata": {},
   "outputs": [],
   "source": [
    "#\n"
   ]
  },
  {
   "cell_type": "markdown",
   "id": "10f0da4d-3ee6-403f-8d4c-5e98c65bbbad",
   "metadata": {},
   "source": [
    "## Joining threads\n",
    "**Significance of Joining Threads in Python:**\n",
    "\n",
    "In Python, threading is a technique used to run multiple threads (smaller units of a process) concurrently, allowing for parallel execution of tasks. When you create and start threads, there might be situations where you want the main program to wait for the threads to complete their execution before proceeding further. This is where the `join()` method becomes significant.\n",
    "\n",
    "**The `join()` Method:**\n",
    "\n",
    "The `join()` method is used to wait for the thread to complete its execution. It blocks the calling thread until the thread whose `join()` method is called terminates. This ensures that the program doesn't proceed to the next step until the threads have finished their tasks.\n",
    "\n",
    "**Joining.py**\n",
    "```Python\n",
    "import threading\n",
    "\n",
    "def counting_operation():\n",
    "    for i in range(100):\n",
    "        print(i)\n",
    "\n",
    "t1 = threading.Thread(target=counting_operation, name='Thread #1')\n",
    "t2 = threading.Thread(target=counting_operation, name='Thread #2')\n",
    "\n",
    "t1.start()\n",
    "t2.start()\n",
    "\n",
    "t1.join()\n",
    "t2.join()\n",
    "\n",
    "print('Finished with thread execution...')\n",
    "\n",
    "# the MainThread - it will handle everything\n",
    "# join() we can wait for the threads to finish execution\n",
    "# we can block the MainThread until the other threads are finished\n",
    "\n",
    "```\n"
   ]
  },
  {
   "cell_type": "code",
   "execution_count": 1,
   "id": "588abd6e-7b00-4555-93be-e9718617daf3",
   "metadata": {},
   "outputs": [],
   "source": [
    "# try it yourself\n"
   ]
  },
  {
   "cell_type": "markdown",
   "id": "0f8849c5-1fa7-4e0b-ba19-86e0e8f8dfb6",
   "metadata": {},
   "source": [
    "**Another Example:**\n",
    "\n",
    "Consider a scenario where you have a main program that needs to perform some calculations, and you want to parallelize the task by using multiple threads. The `join()` method is useful to synchronize the threads and ensure that the main program waits for all threads to finish before moving on.\n",
    "\n",
    "```python\n",
    "import threading\n",
    "\n",
    "def perform_calculation(thread_id):\n",
    "    print(f\"Thread {thread_id} is performing a calculation\")\n",
    "\n",
    "# Create threads\n",
    "threads = []\n",
    "for i in range(5):\n",
    "    thread = threading.Thread(target=perform_calculation, args=(i,))\n",
    "    threads.append(thread)\n",
    "    thread.start()\n",
    "\n",
    "# Wait for all threads to finish\n",
    "for thread in threads:\n",
    "    thread.join()\n",
    "\n",
    "print(\"All threads have finished. Continue with the main program.\")\n",
    "```\n",
    "\n",
    "In this example:\n",
    "1. We create five threads, each performing a calculation (represented by the `perform_calculation` function).\n",
    "2. The threads are started using `thread.start()`.\n",
    "3. We use a loop to iterate through the threads and call `join()` on each. This ensures that the main program will wait until each thread has completed its task.\n",
    "4. After the `join()` calls, the main program prints a message indicating that all threads have finished.\n",
    "\n",
    "**Key Points:**\n",
    "\n",
    "1. **Synchronization:** `join()` provides a way to synchronize the main program with the threads, preventing the main program from moving forward until all threads have completed their work.\n",
    "\n",
    "2. **Preventing Premature Exit:** Without `join()`, the main program might proceed to the next steps before the threads finish, leading to unpredictable results.\n",
    "\n",
    "3. **Error Handling:** Using `join()` is also helpful for error handling. If an exception occurs in a thread, and you want to handle it in the main program, you should use `join()` to ensure the main program doesn't proceed until the exception is dealt with.\n",
    "\n",
    "In summary, the `join()` method is crucial for coordinating the execution of threads and ensuring that the main program doesn't proceed until all threads have completed their tasks. This is especially important in scenarios where the correct sequencing of tasks is essential.\n",
    "In this example, we are going to see how to wait for given threads to finish execution. \n"
   ]
  },
  {
   "cell_type": "code",
   "execution_count": 2,
   "id": "771482d3-a863-4a46-a379-8dd700dddaf3",
   "metadata": {},
   "outputs": [],
   "source": [
    "# try it yourself\n"
   ]
  },
  {
   "cell_type": "markdown",
   "id": "616693cd-f19a-4f06-aa6a-87ea744afd07",
   "metadata": {},
   "source": [
    "# Handling parameters\n",
    "\n",
    "In this example, we are going to see how to handle arguments as far as Multi-threaded execution is concerned.\n",
    "\n",
    "So, for example, if we have an operation function with a given X parameter and we are going to count up in the range up to X\n",
    "\n",
    "**ThreadArgs.py**\n",
    "\n",
    "```Python\n",
    "import threading\n",
    "\n",
    "\n",
    "def operation(x):\n",
    "    for i in range(x):\n",
    "        print(threading.current_thread().getName() + ' - ' + str(i))\n",
    "\n",
    "\n",
    "t1 = threading.Thread(target=operation, name='Thread #1', args=(10,))\n",
    "t2 = threading.Thread(target=operation, name='Thread #2', args=(100,))\n",
    "\n",
    "t1.start()\n",
    "t2.start()\n",
    "```"
   ]
  },
  {
   "cell_type": "code",
   "execution_count": 7,
   "id": "18f7bdf2-1190-4f46-9322-460a3b312b4f",
   "metadata": {},
   "outputs": [],
   "source": [
    "#\n"
   ]
  }
 ],
 "metadata": {
  "kernelspec": {
   "display_name": "Python 3 (ipykernel)",
   "language": "python",
   "name": "python3"
  },
  "language_info": {
   "codemirror_mode": {
    "name": "ipython",
    "version": 3
   },
   "file_extension": ".py",
   "mimetype": "text/x-python",
   "name": "python",
   "nbconvert_exporter": "python",
   "pygments_lexer": "ipython3",
   "version": "3.11.4"
  }
 },
 "nbformat": 4,
 "nbformat_minor": 5
}
