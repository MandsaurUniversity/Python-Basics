{
 "cells": [
  {
   "cell_type": "markdown",
   "id": "6eb6cfe7-99af-4821-9f71-b4df030c6b6b",
   "metadata": {},
   "source": [
    "___\n",
    "\n",
    "<p align=\"center\"><center><a href='https://github.com/MandsaurUniversity/'><img src='../MU_Logo.png'/></a></center></p>\n",
    "<p align=\"center\"><center><strong>Mandsaur University</strong><center></p>\n",
    "\n",
    "___"
   ]
  },
  {
   "cell_type": "markdown",
   "id": "8ec296cb-2a61-4e60-a670-f174545648d0",
   "metadata": {},
   "source": [
    "# Creating and starting threads\n",
    "\n",
    "## Creating simple thread\n",
    "\n",
    "**CreatingThreads1.py**\n",
    "\n",
    "```Python\n",
    "import threading\n",
    "\n",
    "# so the MainThread will run everything sequentially\n",
    "# all other threads are created by the MainThread (application thread)\n",
    "\n",
    "def count_operation():\n",
    "    for i in range(100):\n",
    "        print(threading.current_thread().getName() + ' - ' + str(i))\n",
    "\n",
    "# this is sequential execution - operations right after each other\n",
    "# count_operation()\n",
    "# count_operation()\n",
    "\n",
    "t1 = threading.Thread(target=count_operation, name='Ram')\n",
    "t2 = threading.Thread(target=count_operation, name='Shyam')\n",
    "\n",
    "t1.start()\n",
    "t2.start()\n",
    "\n",
    "```\n"
   ]
  },
  {
   "cell_type": "code",
   "execution_count": null,
   "id": "7955cfc0-2f9a-4269-828a-22531321c3d7",
   "metadata": {},
   "outputs": [],
   "source": [
    "#\n"
   ]
  },
  {
   "cell_type": "markdown",
   "id": "e190cd7a-ac7c-4a37-bc9b-726de18067b1",
   "metadata": {},
   "source": [
    "## Creating threads with inheritance\n",
    "In the previous example, we have seen how to create threads with the help of threading thread and we can do the same with the help of creating classes.\n",
    "\n",
    "So we are going to import the so called thread class from threading.\n",
    "\n",
    "**CreatingThreads2.py**\n",
    "\n",
    "```Python\n",
    "from threading import Thread\n",
    "\n",
    "class Counter(Thread):\n",
    "\n",
    "    def __init__(self, name):\n",
    "        Thread.__init__(self)\n",
    "        self.name = name\n",
    "\n",
    "    # we start a Thread this run() function will be called\n",
    "    def run(self):\n",
    "        for i in range(100):\n",
    "            print('%s thread is running: %s' % (self.name, str(i)))\n",
    "\n",
    "\n",
    "t1 = Counter('Thread #1')\n",
    "t2 = Counter('Thread #2')\n",
    "\n",
    "t1.start()\n",
    "t2.start()\n",
    "\n",
    "```\n"
   ]
  },
  {
   "cell_type": "code",
   "execution_count": 5,
   "id": "f0bf146d-4f18-4165-b1d8-45f594c24556",
   "metadata": {},
   "outputs": [],
   "source": [
    "#\n"
   ]
  },
  {
   "cell_type": "markdown",
   "id": "10f0da4d-3ee6-403f-8d4c-5e98c65bbbad",
   "metadata": {},
   "source": [
    "## Joining threads\n",
    "\n",
    "In this example, we are going to see how to wait for given threads to finish execution. \n",
    "\n",
    "**Joining.py**\n",
    "```Python\n",
    "import threading\n",
    "\n",
    "def counting_operation():\n",
    "    for i in range(100):\n",
    "        print(i)\n",
    "\n",
    "t1 = threading.Thread(target=counting_operation, name='Thread #1')\n",
    "t2 = threading.Thread(target=counting_operation, name='Thread #2')\n",
    "\n",
    "t1.start()\n",
    "t2.start()\n",
    "\n",
    "t1.join()\n",
    "t2.join()\n",
    "\n",
    "print('Finished with thread execution...')\n",
    "\n",
    "# the MainThread - it will handle everything\n",
    "# join() we can wait for the threads to finish execution\n",
    "# we can block the MainThread until the other threads are finished\n",
    "\n",
    "```\n"
   ]
  },
  {
   "cell_type": "code",
   "execution_count": 6,
   "id": "588abd6e-7b00-4555-93be-e9718617daf3",
   "metadata": {},
   "outputs": [],
   "source": [
    "#\n"
   ]
  },
  {
   "cell_type": "markdown",
   "id": "616693cd-f19a-4f06-aa6a-87ea744afd07",
   "metadata": {},
   "source": [
    "# Handling parameters\n",
    "\n",
    "In this example, we are going to see how to handle arguments as far as Multi-threaded execution is concerned.\n",
    "\n",
    "So, for example, if we have an operation function with a given X parameter and we are going to count up in the range up to X\n",
    "\n",
    "**ThreadArgs.py**\n",
    "\n",
    "```Python\n",
    "import threading\n",
    "\n",
    "\n",
    "def operation(x):\n",
    "    for i in range(x):\n",
    "        print(threading.current_thread().getName() + ' - ' + str(i))\n",
    "\n",
    "\n",
    "t1 = threading.Thread(target=operation, name='Thread #1', args=(10,))\n",
    "t2 = threading.Thread(target=operation, name='Thread #2', args=(100,))\n",
    "\n",
    "t1.start()\n",
    "t2.start()\n",
    "```"
   ]
  },
  {
   "cell_type": "code",
   "execution_count": 7,
   "id": "18f7bdf2-1190-4f46-9322-460a3b312b4f",
   "metadata": {},
   "outputs": [],
   "source": [
    "#\n"
   ]
  }
 ],
 "metadata": {
  "kernelspec": {
   "display_name": "Python 3 (ipykernel)",
   "language": "python",
   "name": "python3"
  },
  "language_info": {
   "codemirror_mode": {
    "name": "ipython",
    "version": 3
   },
   "file_extension": ".py",
   "mimetype": "text/x-python",
   "name": "python",
   "nbconvert_exporter": "python",
   "pygments_lexer": "ipython3",
   "version": "3.11.4"
  }
 },
 "nbformat": 4,
 "nbformat_minor": 5
}
